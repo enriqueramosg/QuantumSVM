{
  "cells": [
    {
      "cell_type": "markdown",
      "metadata": {
        "id": "5d7BJFLcdWQz"
      },
      "source": [
        "#Quantum Support Vector Machines\n",
        "###Hecho por Enrique Ramos García\n",
        "\n",
        "##Objetivo\n",
        "El objetivo de esta práctica es implementar un modelo cuántico de máquinas de vectores soporte haciendo uso de las librerías _qiskit_ y _sklearn_. Compararemos dicho modelo con uno clásico para ver su rendimiento así como las diferencias en las clasificaciones de los datos (matriz de confusión).\n",
        "\n",
        "\n",
        "##Desarrollo\n",
        "Para el desarrollo de esta práctica primero instalamos qiskit  y qiskit_machine_learning y, posteriormente, importamos todas las librerías necesarias para el proceso."
      ],
      "id": "5d7BJFLcdWQz"
    },
    {
      "cell_type": "code",
      "execution_count": null,
      "metadata": {
        "colab": {
          "base_uri": "https://localhost:8080/"
        },
        "id": "FqqEdcohbgj5",
        "outputId": "d7ffe8d8-cead-4bd0-dc08-5520ac6cd95e"
      },
      "outputs": [
        {
          "output_type": "stream",
          "name": "stdout",
          "text": [
            "Requirement already satisfied: qiskit in /usr/local/lib/python3.10/dist-packages (0.44.2)\n",
            "Requirement already satisfied: qiskit-terra==0.25.2.1 in /usr/local/lib/python3.10/dist-packages (from qiskit) (0.25.2.1)\n",
            "Requirement already satisfied: rustworkx>=0.13.0 in /usr/local/lib/python3.10/dist-packages (from qiskit-terra==0.25.2.1->qiskit) (0.13.2)\n",
            "Requirement already satisfied: numpy>=1.17 in /usr/local/lib/python3.10/dist-packages (from qiskit-terra==0.25.2.1->qiskit) (1.23.5)\n",
            "Requirement already satisfied: ply>=3.10 in /usr/local/lib/python3.10/dist-packages (from qiskit-terra==0.25.2.1->qiskit) (3.11)\n",
            "Requirement already satisfied: psutil>=5 in /usr/local/lib/python3.10/dist-packages (from qiskit-terra==0.25.2.1->qiskit) (5.9.5)\n",
            "Requirement already satisfied: scipy>=1.5 in /usr/local/lib/python3.10/dist-packages (from qiskit-terra==0.25.2.1->qiskit) (1.11.3)\n",
            "Requirement already satisfied: sympy>=1.3 in /usr/local/lib/python3.10/dist-packages (from qiskit-terra==0.25.2.1->qiskit) (1.12)\n",
            "Requirement already satisfied: dill>=0.3 in /usr/local/lib/python3.10/dist-packages (from qiskit-terra==0.25.2.1->qiskit) (0.3.7)\n",
            "Requirement already satisfied: python-dateutil>=2.8.0 in /usr/local/lib/python3.10/dist-packages (from qiskit-terra==0.25.2.1->qiskit) (2.8.2)\n",
            "Requirement already satisfied: stevedore>=3.0.0 in /usr/local/lib/python3.10/dist-packages (from qiskit-terra==0.25.2.1->qiskit) (5.1.0)\n",
            "Requirement already satisfied: symengine<0.10,>=0.9 in /usr/local/lib/python3.10/dist-packages (from qiskit-terra==0.25.2.1->qiskit) (0.9.2)\n",
            "Requirement already satisfied: typing-extensions in /usr/local/lib/python3.10/dist-packages (from qiskit-terra==0.25.2.1->qiskit) (4.5.0)\n",
            "Requirement already satisfied: six>=1.5 in /usr/local/lib/python3.10/dist-packages (from python-dateutil>=2.8.0->qiskit-terra==0.25.2.1->qiskit) (1.16.0)\n",
            "Requirement already satisfied: pbr!=2.1.0,>=2.0.0 in /usr/local/lib/python3.10/dist-packages (from stevedore>=3.0.0->qiskit-terra==0.25.2.1->qiskit) (5.11.1)\n",
            "Requirement already satisfied: mpmath>=0.19 in /usr/local/lib/python3.10/dist-packages (from sympy>=1.3->qiskit-terra==0.25.2.1->qiskit) (1.3.0)\n"
          ]
        }
      ],
      "source": [
        "!pip install qiskit"
      ],
      "id": "FqqEdcohbgj5"
    },
    {
      "cell_type": "code",
      "execution_count": null,
      "metadata": {
        "colab": {
          "base_uri": "https://localhost:8080/"
        },
        "id": "7vxhhxGsb1k1",
        "outputId": "9ab8a259-03cb-4904-f972-6aabe87c3e35"
      },
      "outputs": [
        {
          "output_type": "stream",
          "name": "stdout",
          "text": [
            "Requirement already satisfied: qiskit_machine_learning in /usr/local/lib/python3.10/dist-packages (0.6.1)\n",
            "Requirement already satisfied: qiskit-terra>=0.22.2 in /usr/local/lib/python3.10/dist-packages (from qiskit_machine_learning) (0.25.2.1)\n",
            "Requirement already satisfied: scipy>=1.4 in /usr/local/lib/python3.10/dist-packages (from qiskit_machine_learning) (1.11.3)\n",
            "Requirement already satisfied: numpy>=1.17 in /usr/local/lib/python3.10/dist-packages (from qiskit_machine_learning) (1.23.5)\n",
            "Requirement already satisfied: psutil>=5 in /usr/local/lib/python3.10/dist-packages (from qiskit_machine_learning) (5.9.5)\n",
            "Requirement already satisfied: scikit-learn>=0.20.0 in /usr/local/lib/python3.10/dist-packages (from qiskit_machine_learning) (1.2.2)\n",
            "Requirement already satisfied: fastdtw in /usr/local/lib/python3.10/dist-packages (from qiskit_machine_learning) (0.3.4)\n",
            "Requirement already satisfied: setuptools>=40.1.0 in /usr/local/lib/python3.10/dist-packages (from qiskit_machine_learning) (67.7.2)\n",
            "Requirement already satisfied: dill>=0.3.4 in /usr/local/lib/python3.10/dist-packages (from qiskit_machine_learning) (0.3.7)\n",
            "Requirement already satisfied: rustworkx>=0.13.0 in /usr/local/lib/python3.10/dist-packages (from qiskit-terra>=0.22.2->qiskit_machine_learning) (0.13.2)\n",
            "Requirement already satisfied: ply>=3.10 in /usr/local/lib/python3.10/dist-packages (from qiskit-terra>=0.22.2->qiskit_machine_learning) (3.11)\n",
            "Requirement already satisfied: sympy>=1.3 in /usr/local/lib/python3.10/dist-packages (from qiskit-terra>=0.22.2->qiskit_machine_learning) (1.12)\n",
            "Requirement already satisfied: python-dateutil>=2.8.0 in /usr/local/lib/python3.10/dist-packages (from qiskit-terra>=0.22.2->qiskit_machine_learning) (2.8.2)\n",
            "Requirement already satisfied: stevedore>=3.0.0 in /usr/local/lib/python3.10/dist-packages (from qiskit-terra>=0.22.2->qiskit_machine_learning) (5.1.0)\n",
            "Requirement already satisfied: symengine<0.10,>=0.9 in /usr/local/lib/python3.10/dist-packages (from qiskit-terra>=0.22.2->qiskit_machine_learning) (0.9.2)\n",
            "Requirement already satisfied: typing-extensions in /usr/local/lib/python3.10/dist-packages (from qiskit-terra>=0.22.2->qiskit_machine_learning) (4.5.0)\n",
            "Requirement already satisfied: joblib>=1.1.1 in /usr/local/lib/python3.10/dist-packages (from scikit-learn>=0.20.0->qiskit_machine_learning) (1.3.2)\n",
            "Requirement already satisfied: threadpoolctl>=2.0.0 in /usr/local/lib/python3.10/dist-packages (from scikit-learn>=0.20.0->qiskit_machine_learning) (3.2.0)\n",
            "Requirement already satisfied: six>=1.5 in /usr/local/lib/python3.10/dist-packages (from python-dateutil>=2.8.0->qiskit-terra>=0.22.2->qiskit_machine_learning) (1.16.0)\n",
            "Requirement already satisfied: pbr!=2.1.0,>=2.0.0 in /usr/local/lib/python3.10/dist-packages (from stevedore>=3.0.0->qiskit-terra>=0.22.2->qiskit_machine_learning) (5.11.1)\n",
            "Requirement already satisfied: mpmath>=0.19 in /usr/local/lib/python3.10/dist-packages (from sympy>=1.3->qiskit-terra>=0.22.2->qiskit_machine_learning) (1.3.0)\n"
          ]
        }
      ],
      "source": [
        "!pip install qiskit_machine_learning"
      ],
      "id": "7vxhhxGsb1k1"
    },
    {
      "cell_type": "code",
      "execution_count": null,
      "metadata": {
        "id": "c923a4e2-2844-49c0-b3e7-75cc559ffa69"
      },
      "outputs": [],
      "source": [
        "from sklearn import datasets, svm, metrics\n",
        "from sklearn.svm import SVC\n",
        "from sklearn.model_selection import train_test_split\n",
        "from sklearn.preprocessing import MinMaxScaler\n",
        "from sklearn.metrics import confusion_matrix\n",
        "\n",
        "import matplotlib.pyplot as plt\n",
        "import pandas as pd\n",
        "import math\n",
        "import numpy as np\n",
        "import seaborn as sbn\n",
        "\n",
        "from qiskit.circuit.library import ZZFeatureMap\n",
        "from qiskit.primitives import Sampler\n",
        "from qiskit.algorithms.state_fidelities import ComputeUncompute\n",
        "from qiskit_machine_learning.kernels import FidelityQuantumKernel\n",
        "\n",
        "import os"
      ],
      "id": "c923a4e2-2844-49c0-b3e7-75cc559ffa69"
    },
    {
      "cell_type": "markdown",
      "metadata": {
        "id": "geAf-x5tey2o"
      },
      "source": [
        "Tras esto, importamos el dataset que utilizaremos en un dataframe de pandas. En este caso, el dataset trata sobre el consumo de sustancias ilegales e índices de diferentes estados de ánimo (felicidad, tranquilidad, etc.)\n",
        "Tras importar el dataset realizamos el preprocesamiento. En este caso eliminamos los atributos que no nos interesan, cambiamos el target de string a numérico (a partir de consumo por semana se considera consumidor a la persona) y dividir el dataset en data y target."
      ],
      "id": "geAf-x5tey2o"
    },
    {
      "cell_type": "code",
      "execution_count": null,
      "metadata": {
        "colab": {
          "base_uri": "https://localhost:8080/",
          "height": 236
        },
        "id": "44d48d8a-a470-46c8-91ad-eff292414db8",
        "outputId": "822d0283-1c69-4dbe-ada9-944bee6d11b3"
      },
      "outputs": [
        {
          "output_type": "execute_result",
          "data": {
            "text/plain": [
              "   0        1        2        3        4        5        6        7        8   \\\n",
              "0   1  0.49788  0.48246 -0.05921  0.96082  0.12600  0.31287 -0.57545 -0.58331   \n",
              "1   2 -0.07854 -0.48246  1.98437  0.96082 -0.31685 -0.67825  1.93886  1.43533   \n",
              "2   3  0.49788 -0.48246 -0.05921  0.96082 -0.31685 -0.46725  0.80523 -0.84732   \n",
              "3   4 -0.95197  0.48246  1.16365  0.96082 -0.31685 -0.14882 -0.80615 -0.01928   \n",
              "4   5  0.49788  0.48246  1.98437  0.96082 -0.31685  0.73545 -1.63340 -0.45174   \n",
              "\n",
              "        9   ...   22   23   24   25   26   27   28   29   30   31  \n",
              "0 -0.91699  ...  CL0  CL0  CL0  CL0  CL0  CL0  CL0  CL2  CL0  CL0  \n",
              "1  0.76096  ...  CL4  CL0  CL2  CL0  CL2  CL3  CL0  CL4  CL0  CL0  \n",
              "2 -1.62090  ...  CL0  CL0  CL0  CL0  CL0  CL0  CL1  CL0  CL0  CL0  \n",
              "3  0.59042  ...  CL0  CL0  CL2  CL0  CL0  CL0  CL0  CL2  CL0  CL0  \n",
              "4 -0.30172  ...  CL1  CL0  CL0  CL1  CL0  CL0  CL2  CL2  CL0  CL0  \n",
              "\n",
              "[5 rows x 32 columns]"
            ],
            "text/html": [
              "\n",
              "  <div id=\"df-9a70729a-a6e1-4332-8a77-a28c397f1261\" class=\"colab-df-container\">\n",
              "    <div>\n",
              "<style scoped>\n",
              "    .dataframe tbody tr th:only-of-type {\n",
              "        vertical-align: middle;\n",
              "    }\n",
              "\n",
              "    .dataframe tbody tr th {\n",
              "        vertical-align: top;\n",
              "    }\n",
              "\n",
              "    .dataframe thead th {\n",
              "        text-align: right;\n",
              "    }\n",
              "</style>\n",
              "<table border=\"1\" class=\"dataframe\">\n",
              "  <thead>\n",
              "    <tr style=\"text-align: right;\">\n",
              "      <th></th>\n",
              "      <th>0</th>\n",
              "      <th>1</th>\n",
              "      <th>2</th>\n",
              "      <th>3</th>\n",
              "      <th>4</th>\n",
              "      <th>5</th>\n",
              "      <th>6</th>\n",
              "      <th>7</th>\n",
              "      <th>8</th>\n",
              "      <th>9</th>\n",
              "      <th>...</th>\n",
              "      <th>22</th>\n",
              "      <th>23</th>\n",
              "      <th>24</th>\n",
              "      <th>25</th>\n",
              "      <th>26</th>\n",
              "      <th>27</th>\n",
              "      <th>28</th>\n",
              "      <th>29</th>\n",
              "      <th>30</th>\n",
              "      <th>31</th>\n",
              "    </tr>\n",
              "  </thead>\n",
              "  <tbody>\n",
              "    <tr>\n",
              "      <th>0</th>\n",
              "      <td>1</td>\n",
              "      <td>0.49788</td>\n",
              "      <td>0.48246</td>\n",
              "      <td>-0.05921</td>\n",
              "      <td>0.96082</td>\n",
              "      <td>0.12600</td>\n",
              "      <td>0.31287</td>\n",
              "      <td>-0.57545</td>\n",
              "      <td>-0.58331</td>\n",
              "      <td>-0.91699</td>\n",
              "      <td>...</td>\n",
              "      <td>CL0</td>\n",
              "      <td>CL0</td>\n",
              "      <td>CL0</td>\n",
              "      <td>CL0</td>\n",
              "      <td>CL0</td>\n",
              "      <td>CL0</td>\n",
              "      <td>CL0</td>\n",
              "      <td>CL2</td>\n",
              "      <td>CL0</td>\n",
              "      <td>CL0</td>\n",
              "    </tr>\n",
              "    <tr>\n",
              "      <th>1</th>\n",
              "      <td>2</td>\n",
              "      <td>-0.07854</td>\n",
              "      <td>-0.48246</td>\n",
              "      <td>1.98437</td>\n",
              "      <td>0.96082</td>\n",
              "      <td>-0.31685</td>\n",
              "      <td>-0.67825</td>\n",
              "      <td>1.93886</td>\n",
              "      <td>1.43533</td>\n",
              "      <td>0.76096</td>\n",
              "      <td>...</td>\n",
              "      <td>CL4</td>\n",
              "      <td>CL0</td>\n",
              "      <td>CL2</td>\n",
              "      <td>CL0</td>\n",
              "      <td>CL2</td>\n",
              "      <td>CL3</td>\n",
              "      <td>CL0</td>\n",
              "      <td>CL4</td>\n",
              "      <td>CL0</td>\n",
              "      <td>CL0</td>\n",
              "    </tr>\n",
              "    <tr>\n",
              "      <th>2</th>\n",
              "      <td>3</td>\n",
              "      <td>0.49788</td>\n",
              "      <td>-0.48246</td>\n",
              "      <td>-0.05921</td>\n",
              "      <td>0.96082</td>\n",
              "      <td>-0.31685</td>\n",
              "      <td>-0.46725</td>\n",
              "      <td>0.80523</td>\n",
              "      <td>-0.84732</td>\n",
              "      <td>-1.62090</td>\n",
              "      <td>...</td>\n",
              "      <td>CL0</td>\n",
              "      <td>CL0</td>\n",
              "      <td>CL0</td>\n",
              "      <td>CL0</td>\n",
              "      <td>CL0</td>\n",
              "      <td>CL0</td>\n",
              "      <td>CL1</td>\n",
              "      <td>CL0</td>\n",
              "      <td>CL0</td>\n",
              "      <td>CL0</td>\n",
              "    </tr>\n",
              "    <tr>\n",
              "      <th>3</th>\n",
              "      <td>4</td>\n",
              "      <td>-0.95197</td>\n",
              "      <td>0.48246</td>\n",
              "      <td>1.16365</td>\n",
              "      <td>0.96082</td>\n",
              "      <td>-0.31685</td>\n",
              "      <td>-0.14882</td>\n",
              "      <td>-0.80615</td>\n",
              "      <td>-0.01928</td>\n",
              "      <td>0.59042</td>\n",
              "      <td>...</td>\n",
              "      <td>CL0</td>\n",
              "      <td>CL0</td>\n",
              "      <td>CL2</td>\n",
              "      <td>CL0</td>\n",
              "      <td>CL0</td>\n",
              "      <td>CL0</td>\n",
              "      <td>CL0</td>\n",
              "      <td>CL2</td>\n",
              "      <td>CL0</td>\n",
              "      <td>CL0</td>\n",
              "    </tr>\n",
              "    <tr>\n",
              "      <th>4</th>\n",
              "      <td>5</td>\n",
              "      <td>0.49788</td>\n",
              "      <td>0.48246</td>\n",
              "      <td>1.98437</td>\n",
              "      <td>0.96082</td>\n",
              "      <td>-0.31685</td>\n",
              "      <td>0.73545</td>\n",
              "      <td>-1.63340</td>\n",
              "      <td>-0.45174</td>\n",
              "      <td>-0.30172</td>\n",
              "      <td>...</td>\n",
              "      <td>CL1</td>\n",
              "      <td>CL0</td>\n",
              "      <td>CL0</td>\n",
              "      <td>CL1</td>\n",
              "      <td>CL0</td>\n",
              "      <td>CL0</td>\n",
              "      <td>CL2</td>\n",
              "      <td>CL2</td>\n",
              "      <td>CL0</td>\n",
              "      <td>CL0</td>\n",
              "    </tr>\n",
              "  </tbody>\n",
              "</table>\n",
              "<p>5 rows × 32 columns</p>\n",
              "</div>\n",
              "    <div class=\"colab-df-buttons\">\n",
              "\n",
              "  <div class=\"colab-df-container\">\n",
              "    <button class=\"colab-df-convert\" onclick=\"convertToInteractive('df-9a70729a-a6e1-4332-8a77-a28c397f1261')\"\n",
              "            title=\"Convert this dataframe to an interactive table.\"\n",
              "            style=\"display:none;\">\n",
              "\n",
              "  <svg xmlns=\"http://www.w3.org/2000/svg\" height=\"24px\" viewBox=\"0 -960 960 960\">\n",
              "    <path d=\"M120-120v-720h720v720H120Zm60-500h600v-160H180v160Zm220 220h160v-160H400v160Zm0 220h160v-160H400v160ZM180-400h160v-160H180v160Zm440 0h160v-160H620v160ZM180-180h160v-160H180v160Zm440 0h160v-160H620v160Z\"/>\n",
              "  </svg>\n",
              "    </button>\n",
              "\n",
              "  <style>\n",
              "    .colab-df-container {\n",
              "      display:flex;\n",
              "      gap: 12px;\n",
              "    }\n",
              "\n",
              "    .colab-df-convert {\n",
              "      background-color: #E8F0FE;\n",
              "      border: none;\n",
              "      border-radius: 50%;\n",
              "      cursor: pointer;\n",
              "      display: none;\n",
              "      fill: #1967D2;\n",
              "      height: 32px;\n",
              "      padding: 0 0 0 0;\n",
              "      width: 32px;\n",
              "    }\n",
              "\n",
              "    .colab-df-convert:hover {\n",
              "      background-color: #E2EBFA;\n",
              "      box-shadow: 0px 1px 2px rgba(60, 64, 67, 0.3), 0px 1px 3px 1px rgba(60, 64, 67, 0.15);\n",
              "      fill: #174EA6;\n",
              "    }\n",
              "\n",
              "    .colab-df-buttons div {\n",
              "      margin-bottom: 4px;\n",
              "    }\n",
              "\n",
              "    [theme=dark] .colab-df-convert {\n",
              "      background-color: #3B4455;\n",
              "      fill: #D2E3FC;\n",
              "    }\n",
              "\n",
              "    [theme=dark] .colab-df-convert:hover {\n",
              "      background-color: #434B5C;\n",
              "      box-shadow: 0px 1px 3px 1px rgba(0, 0, 0, 0.15);\n",
              "      filter: drop-shadow(0px 1px 2px rgba(0, 0, 0, 0.3));\n",
              "      fill: #FFFFFF;\n",
              "    }\n",
              "  </style>\n",
              "\n",
              "    <script>\n",
              "      const buttonEl =\n",
              "        document.querySelector('#df-9a70729a-a6e1-4332-8a77-a28c397f1261 button.colab-df-convert');\n",
              "      buttonEl.style.display =\n",
              "        google.colab.kernel.accessAllowed ? 'block' : 'none';\n",
              "\n",
              "      async function convertToInteractive(key) {\n",
              "        const element = document.querySelector('#df-9a70729a-a6e1-4332-8a77-a28c397f1261');\n",
              "        const dataTable =\n",
              "          await google.colab.kernel.invokeFunction('convertToInteractive',\n",
              "                                                    [key], {});\n",
              "        if (!dataTable) return;\n",
              "\n",
              "        const docLinkHtml = 'Like what you see? Visit the ' +\n",
              "          '<a target=\"_blank\" href=https://colab.research.google.com/notebooks/data_table.ipynb>data table notebook</a>'\n",
              "          + ' to learn more about interactive tables.';\n",
              "        element.innerHTML = '';\n",
              "        dataTable['output_type'] = 'display_data';\n",
              "        await google.colab.output.renderOutput(dataTable, element);\n",
              "        const docLink = document.createElement('div');\n",
              "        docLink.innerHTML = docLinkHtml;\n",
              "        element.appendChild(docLink);\n",
              "      }\n",
              "    </script>\n",
              "  </div>\n",
              "\n",
              "\n",
              "<div id=\"df-506b44de-a575-4d43-85cb-49d6184c4971\">\n",
              "  <button class=\"colab-df-quickchart\" onclick=\"quickchart('df-506b44de-a575-4d43-85cb-49d6184c4971')\"\n",
              "            title=\"Suggest charts.\"\n",
              "            style=\"display:none;\">\n",
              "\n",
              "<svg xmlns=\"http://www.w3.org/2000/svg\" height=\"24px\"viewBox=\"0 0 24 24\"\n",
              "     width=\"24px\">\n",
              "    <g>\n",
              "        <path d=\"M19 3H5c-1.1 0-2 .9-2 2v14c0 1.1.9 2 2 2h14c1.1 0 2-.9 2-2V5c0-1.1-.9-2-2-2zM9 17H7v-7h2v7zm4 0h-2V7h2v10zm4 0h-2v-4h2v4z\"/>\n",
              "    </g>\n",
              "</svg>\n",
              "  </button>\n",
              "\n",
              "<style>\n",
              "  .colab-df-quickchart {\n",
              "      --bg-color: #E8F0FE;\n",
              "      --fill-color: #1967D2;\n",
              "      --hover-bg-color: #E2EBFA;\n",
              "      --hover-fill-color: #174EA6;\n",
              "      --disabled-fill-color: #AAA;\n",
              "      --disabled-bg-color: #DDD;\n",
              "  }\n",
              "\n",
              "  [theme=dark] .colab-df-quickchart {\n",
              "      --bg-color: #3B4455;\n",
              "      --fill-color: #D2E3FC;\n",
              "      --hover-bg-color: #434B5C;\n",
              "      --hover-fill-color: #FFFFFF;\n",
              "      --disabled-bg-color: #3B4455;\n",
              "      --disabled-fill-color: #666;\n",
              "  }\n",
              "\n",
              "  .colab-df-quickchart {\n",
              "    background-color: var(--bg-color);\n",
              "    border: none;\n",
              "    border-radius: 50%;\n",
              "    cursor: pointer;\n",
              "    display: none;\n",
              "    fill: var(--fill-color);\n",
              "    height: 32px;\n",
              "    padding: 0;\n",
              "    width: 32px;\n",
              "  }\n",
              "\n",
              "  .colab-df-quickchart:hover {\n",
              "    background-color: var(--hover-bg-color);\n",
              "    box-shadow: 0 1px 2px rgba(60, 64, 67, 0.3), 0 1px 3px 1px rgba(60, 64, 67, 0.15);\n",
              "    fill: var(--button-hover-fill-color);\n",
              "  }\n",
              "\n",
              "  .colab-df-quickchart-complete:disabled,\n",
              "  .colab-df-quickchart-complete:disabled:hover {\n",
              "    background-color: var(--disabled-bg-color);\n",
              "    fill: var(--disabled-fill-color);\n",
              "    box-shadow: none;\n",
              "  }\n",
              "\n",
              "  .colab-df-spinner {\n",
              "    border: 2px solid var(--fill-color);\n",
              "    border-color: transparent;\n",
              "    border-bottom-color: var(--fill-color);\n",
              "    animation:\n",
              "      spin 1s steps(1) infinite;\n",
              "  }\n",
              "\n",
              "  @keyframes spin {\n",
              "    0% {\n",
              "      border-color: transparent;\n",
              "      border-bottom-color: var(--fill-color);\n",
              "      border-left-color: var(--fill-color);\n",
              "    }\n",
              "    20% {\n",
              "      border-color: transparent;\n",
              "      border-left-color: var(--fill-color);\n",
              "      border-top-color: var(--fill-color);\n",
              "    }\n",
              "    30% {\n",
              "      border-color: transparent;\n",
              "      border-left-color: var(--fill-color);\n",
              "      border-top-color: var(--fill-color);\n",
              "      border-right-color: var(--fill-color);\n",
              "    }\n",
              "    40% {\n",
              "      border-color: transparent;\n",
              "      border-right-color: var(--fill-color);\n",
              "      border-top-color: var(--fill-color);\n",
              "    }\n",
              "    60% {\n",
              "      border-color: transparent;\n",
              "      border-right-color: var(--fill-color);\n",
              "    }\n",
              "    80% {\n",
              "      border-color: transparent;\n",
              "      border-right-color: var(--fill-color);\n",
              "      border-bottom-color: var(--fill-color);\n",
              "    }\n",
              "    90% {\n",
              "      border-color: transparent;\n",
              "      border-bottom-color: var(--fill-color);\n",
              "    }\n",
              "  }\n",
              "</style>\n",
              "\n",
              "  <script>\n",
              "    async function quickchart(key) {\n",
              "      const quickchartButtonEl =\n",
              "        document.querySelector('#' + key + ' button');\n",
              "      quickchartButtonEl.disabled = true;  // To prevent multiple clicks.\n",
              "      quickchartButtonEl.classList.add('colab-df-spinner');\n",
              "      try {\n",
              "        const charts = await google.colab.kernel.invokeFunction(\n",
              "            'suggestCharts', [key], {});\n",
              "      } catch (error) {\n",
              "        console.error('Error during call to suggestCharts:', error);\n",
              "      }\n",
              "      quickchartButtonEl.classList.remove('colab-df-spinner');\n",
              "      quickchartButtonEl.classList.add('colab-df-quickchart-complete');\n",
              "    }\n",
              "    (() => {\n",
              "      let quickchartButtonEl =\n",
              "        document.querySelector('#df-506b44de-a575-4d43-85cb-49d6184c4971 button');\n",
              "      quickchartButtonEl.style.display =\n",
              "        google.colab.kernel.accessAllowed ? 'block' : 'none';\n",
              "    })();\n",
              "  </script>\n",
              "</div>\n",
              "    </div>\n",
              "  </div>\n"
            ]
          },
          "metadata": {},
          "execution_count": 121
        }
      ],
      "source": [
        "dataset = pd.read_csv('drug_consumption.csv',encoding='latin1',sep=',', header=None)\n",
        "dataset.head()"
      ],
      "id": "44d48d8a-a470-46c8-91ad-eff292414db8"
    },
    {
      "cell_type": "code",
      "execution_count": null,
      "metadata": {
        "colab": {
          "base_uri": "https://localhost:8080/",
          "height": 206
        },
        "id": "8b4996c3-f92e-4edf-9050-dee7c8a534b8",
        "outputId": "eaf285a7-eafb-46b5-d9c2-e06f800b4515"
      },
      "outputs": [
        {
          "output_type": "execute_result",
          "data": {
            "text/plain": [
              "        1        2        3        4        5        6        7        8   \\\n",
              "0  0.49788  0.48246 -0.05921  0.96082  0.12600  0.31287 -0.57545 -0.58331   \n",
              "1 -0.07854 -0.48246  1.98437  0.96082 -0.31685 -0.67825  1.93886  1.43533   \n",
              "2  0.49788 -0.48246 -0.05921  0.96082 -0.31685 -0.46725  0.80523 -0.84732   \n",
              "3 -0.95197  0.48246  1.16365  0.96082 -0.31685 -0.14882 -0.80615 -0.01928   \n",
              "4  0.49788  0.48246  1.98437  0.96082 -0.31685  0.73545 -1.63340 -0.45174   \n",
              "\n",
              "        9        10       11       12  \n",
              "0 -0.91699 -0.00665 -0.21712 -1.18084  \n",
              "1  0.76096 -0.14277 -0.71126 -0.21575  \n",
              "2 -1.62090 -1.01450 -1.37983  0.40148  \n",
              "3  0.59042  0.58489 -1.37983 -1.18084  \n",
              "4 -0.30172  1.30612 -0.21712 -0.21575  "
            ],
            "text/html": [
              "\n",
              "  <div id=\"df-1f145064-bb8d-4884-ab74-976a1a5a1ec9\" class=\"colab-df-container\">\n",
              "    <div>\n",
              "<style scoped>\n",
              "    .dataframe tbody tr th:only-of-type {\n",
              "        vertical-align: middle;\n",
              "    }\n",
              "\n",
              "    .dataframe tbody tr th {\n",
              "        vertical-align: top;\n",
              "    }\n",
              "\n",
              "    .dataframe thead th {\n",
              "        text-align: right;\n",
              "    }\n",
              "</style>\n",
              "<table border=\"1\" class=\"dataframe\">\n",
              "  <thead>\n",
              "    <tr style=\"text-align: right;\">\n",
              "      <th></th>\n",
              "      <th>1</th>\n",
              "      <th>2</th>\n",
              "      <th>3</th>\n",
              "      <th>4</th>\n",
              "      <th>5</th>\n",
              "      <th>6</th>\n",
              "      <th>7</th>\n",
              "      <th>8</th>\n",
              "      <th>9</th>\n",
              "      <th>10</th>\n",
              "      <th>11</th>\n",
              "      <th>12</th>\n",
              "    </tr>\n",
              "  </thead>\n",
              "  <tbody>\n",
              "    <tr>\n",
              "      <th>0</th>\n",
              "      <td>0.49788</td>\n",
              "      <td>0.48246</td>\n",
              "      <td>-0.05921</td>\n",
              "      <td>0.96082</td>\n",
              "      <td>0.12600</td>\n",
              "      <td>0.31287</td>\n",
              "      <td>-0.57545</td>\n",
              "      <td>-0.58331</td>\n",
              "      <td>-0.91699</td>\n",
              "      <td>-0.00665</td>\n",
              "      <td>-0.21712</td>\n",
              "      <td>-1.18084</td>\n",
              "    </tr>\n",
              "    <tr>\n",
              "      <th>1</th>\n",
              "      <td>-0.07854</td>\n",
              "      <td>-0.48246</td>\n",
              "      <td>1.98437</td>\n",
              "      <td>0.96082</td>\n",
              "      <td>-0.31685</td>\n",
              "      <td>-0.67825</td>\n",
              "      <td>1.93886</td>\n",
              "      <td>1.43533</td>\n",
              "      <td>0.76096</td>\n",
              "      <td>-0.14277</td>\n",
              "      <td>-0.71126</td>\n",
              "      <td>-0.21575</td>\n",
              "    </tr>\n",
              "    <tr>\n",
              "      <th>2</th>\n",
              "      <td>0.49788</td>\n",
              "      <td>-0.48246</td>\n",
              "      <td>-0.05921</td>\n",
              "      <td>0.96082</td>\n",
              "      <td>-0.31685</td>\n",
              "      <td>-0.46725</td>\n",
              "      <td>0.80523</td>\n",
              "      <td>-0.84732</td>\n",
              "      <td>-1.62090</td>\n",
              "      <td>-1.01450</td>\n",
              "      <td>-1.37983</td>\n",
              "      <td>0.40148</td>\n",
              "    </tr>\n",
              "    <tr>\n",
              "      <th>3</th>\n",
              "      <td>-0.95197</td>\n",
              "      <td>0.48246</td>\n",
              "      <td>1.16365</td>\n",
              "      <td>0.96082</td>\n",
              "      <td>-0.31685</td>\n",
              "      <td>-0.14882</td>\n",
              "      <td>-0.80615</td>\n",
              "      <td>-0.01928</td>\n",
              "      <td>0.59042</td>\n",
              "      <td>0.58489</td>\n",
              "      <td>-1.37983</td>\n",
              "      <td>-1.18084</td>\n",
              "    </tr>\n",
              "    <tr>\n",
              "      <th>4</th>\n",
              "      <td>0.49788</td>\n",
              "      <td>0.48246</td>\n",
              "      <td>1.98437</td>\n",
              "      <td>0.96082</td>\n",
              "      <td>-0.31685</td>\n",
              "      <td>0.73545</td>\n",
              "      <td>-1.63340</td>\n",
              "      <td>-0.45174</td>\n",
              "      <td>-0.30172</td>\n",
              "      <td>1.30612</td>\n",
              "      <td>-0.21712</td>\n",
              "      <td>-0.21575</td>\n",
              "    </tr>\n",
              "  </tbody>\n",
              "</table>\n",
              "</div>\n",
              "    <div class=\"colab-df-buttons\">\n",
              "\n",
              "  <div class=\"colab-df-container\">\n",
              "    <button class=\"colab-df-convert\" onclick=\"convertToInteractive('df-1f145064-bb8d-4884-ab74-976a1a5a1ec9')\"\n",
              "            title=\"Convert this dataframe to an interactive table.\"\n",
              "            style=\"display:none;\">\n",
              "\n",
              "  <svg xmlns=\"http://www.w3.org/2000/svg\" height=\"24px\" viewBox=\"0 -960 960 960\">\n",
              "    <path d=\"M120-120v-720h720v720H120Zm60-500h600v-160H180v160Zm220 220h160v-160H400v160Zm0 220h160v-160H400v160ZM180-400h160v-160H180v160Zm440 0h160v-160H620v160ZM180-180h160v-160H180v160Zm440 0h160v-160H620v160Z\"/>\n",
              "  </svg>\n",
              "    </button>\n",
              "\n",
              "  <style>\n",
              "    .colab-df-container {\n",
              "      display:flex;\n",
              "      gap: 12px;\n",
              "    }\n",
              "\n",
              "    .colab-df-convert {\n",
              "      background-color: #E8F0FE;\n",
              "      border: none;\n",
              "      border-radius: 50%;\n",
              "      cursor: pointer;\n",
              "      display: none;\n",
              "      fill: #1967D2;\n",
              "      height: 32px;\n",
              "      padding: 0 0 0 0;\n",
              "      width: 32px;\n",
              "    }\n",
              "\n",
              "    .colab-df-convert:hover {\n",
              "      background-color: #E2EBFA;\n",
              "      box-shadow: 0px 1px 2px rgba(60, 64, 67, 0.3), 0px 1px 3px 1px rgba(60, 64, 67, 0.15);\n",
              "      fill: #174EA6;\n",
              "    }\n",
              "\n",
              "    .colab-df-buttons div {\n",
              "      margin-bottom: 4px;\n",
              "    }\n",
              "\n",
              "    [theme=dark] .colab-df-convert {\n",
              "      background-color: #3B4455;\n",
              "      fill: #D2E3FC;\n",
              "    }\n",
              "\n",
              "    [theme=dark] .colab-df-convert:hover {\n",
              "      background-color: #434B5C;\n",
              "      box-shadow: 0px 1px 3px 1px rgba(0, 0, 0, 0.15);\n",
              "      filter: drop-shadow(0px 1px 2px rgba(0, 0, 0, 0.3));\n",
              "      fill: #FFFFFF;\n",
              "    }\n",
              "  </style>\n",
              "\n",
              "    <script>\n",
              "      const buttonEl =\n",
              "        document.querySelector('#df-1f145064-bb8d-4884-ab74-976a1a5a1ec9 button.colab-df-convert');\n",
              "      buttonEl.style.display =\n",
              "        google.colab.kernel.accessAllowed ? 'block' : 'none';\n",
              "\n",
              "      async function convertToInteractive(key) {\n",
              "        const element = document.querySelector('#df-1f145064-bb8d-4884-ab74-976a1a5a1ec9');\n",
              "        const dataTable =\n",
              "          await google.colab.kernel.invokeFunction('convertToInteractive',\n",
              "                                                    [key], {});\n",
              "        if (!dataTable) return;\n",
              "\n",
              "        const docLinkHtml = 'Like what you see? Visit the ' +\n",
              "          '<a target=\"_blank\" href=https://colab.research.google.com/notebooks/data_table.ipynb>data table notebook</a>'\n",
              "          + ' to learn more about interactive tables.';\n",
              "        element.innerHTML = '';\n",
              "        dataTable['output_type'] = 'display_data';\n",
              "        await google.colab.output.renderOutput(dataTable, element);\n",
              "        const docLink = document.createElement('div');\n",
              "        docLink.innerHTML = docLinkHtml;\n",
              "        element.appendChild(docLink);\n",
              "      }\n",
              "    </script>\n",
              "  </div>\n",
              "\n",
              "\n",
              "<div id=\"df-3501dff5-aff4-4eae-8fc9-f7caef9aa41b\">\n",
              "  <button class=\"colab-df-quickchart\" onclick=\"quickchart('df-3501dff5-aff4-4eae-8fc9-f7caef9aa41b')\"\n",
              "            title=\"Suggest charts.\"\n",
              "            style=\"display:none;\">\n",
              "\n",
              "<svg xmlns=\"http://www.w3.org/2000/svg\" height=\"24px\"viewBox=\"0 0 24 24\"\n",
              "     width=\"24px\">\n",
              "    <g>\n",
              "        <path d=\"M19 3H5c-1.1 0-2 .9-2 2v14c0 1.1.9 2 2 2h14c1.1 0 2-.9 2-2V5c0-1.1-.9-2-2-2zM9 17H7v-7h2v7zm4 0h-2V7h2v10zm4 0h-2v-4h2v4z\"/>\n",
              "    </g>\n",
              "</svg>\n",
              "  </button>\n",
              "\n",
              "<style>\n",
              "  .colab-df-quickchart {\n",
              "      --bg-color: #E8F0FE;\n",
              "      --fill-color: #1967D2;\n",
              "      --hover-bg-color: #E2EBFA;\n",
              "      --hover-fill-color: #174EA6;\n",
              "      --disabled-fill-color: #AAA;\n",
              "      --disabled-bg-color: #DDD;\n",
              "  }\n",
              "\n",
              "  [theme=dark] .colab-df-quickchart {\n",
              "      --bg-color: #3B4455;\n",
              "      --fill-color: #D2E3FC;\n",
              "      --hover-bg-color: #434B5C;\n",
              "      --hover-fill-color: #FFFFFF;\n",
              "      --disabled-bg-color: #3B4455;\n",
              "      --disabled-fill-color: #666;\n",
              "  }\n",
              "\n",
              "  .colab-df-quickchart {\n",
              "    background-color: var(--bg-color);\n",
              "    border: none;\n",
              "    border-radius: 50%;\n",
              "    cursor: pointer;\n",
              "    display: none;\n",
              "    fill: var(--fill-color);\n",
              "    height: 32px;\n",
              "    padding: 0;\n",
              "    width: 32px;\n",
              "  }\n",
              "\n",
              "  .colab-df-quickchart:hover {\n",
              "    background-color: var(--hover-bg-color);\n",
              "    box-shadow: 0 1px 2px rgba(60, 64, 67, 0.3), 0 1px 3px 1px rgba(60, 64, 67, 0.15);\n",
              "    fill: var(--button-hover-fill-color);\n",
              "  }\n",
              "\n",
              "  .colab-df-quickchart-complete:disabled,\n",
              "  .colab-df-quickchart-complete:disabled:hover {\n",
              "    background-color: var(--disabled-bg-color);\n",
              "    fill: var(--disabled-fill-color);\n",
              "    box-shadow: none;\n",
              "  }\n",
              "\n",
              "  .colab-df-spinner {\n",
              "    border: 2px solid var(--fill-color);\n",
              "    border-color: transparent;\n",
              "    border-bottom-color: var(--fill-color);\n",
              "    animation:\n",
              "      spin 1s steps(1) infinite;\n",
              "  }\n",
              "\n",
              "  @keyframes spin {\n",
              "    0% {\n",
              "      border-color: transparent;\n",
              "      border-bottom-color: var(--fill-color);\n",
              "      border-left-color: var(--fill-color);\n",
              "    }\n",
              "    20% {\n",
              "      border-color: transparent;\n",
              "      border-left-color: var(--fill-color);\n",
              "      border-top-color: var(--fill-color);\n",
              "    }\n",
              "    30% {\n",
              "      border-color: transparent;\n",
              "      border-left-color: var(--fill-color);\n",
              "      border-top-color: var(--fill-color);\n",
              "      border-right-color: var(--fill-color);\n",
              "    }\n",
              "    40% {\n",
              "      border-color: transparent;\n",
              "      border-right-color: var(--fill-color);\n",
              "      border-top-color: var(--fill-color);\n",
              "    }\n",
              "    60% {\n",
              "      border-color: transparent;\n",
              "      border-right-color: var(--fill-color);\n",
              "    }\n",
              "    80% {\n",
              "      border-color: transparent;\n",
              "      border-right-color: var(--fill-color);\n",
              "      border-bottom-color: var(--fill-color);\n",
              "    }\n",
              "    90% {\n",
              "      border-color: transparent;\n",
              "      border-bottom-color: var(--fill-color);\n",
              "    }\n",
              "  }\n",
              "</style>\n",
              "\n",
              "  <script>\n",
              "    async function quickchart(key) {\n",
              "      const quickchartButtonEl =\n",
              "        document.querySelector('#' + key + ' button');\n",
              "      quickchartButtonEl.disabled = true;  // To prevent multiple clicks.\n",
              "      quickchartButtonEl.classList.add('colab-df-spinner');\n",
              "      try {\n",
              "        const charts = await google.colab.kernel.invokeFunction(\n",
              "            'suggestCharts', [key], {});\n",
              "      } catch (error) {\n",
              "        console.error('Error during call to suggestCharts:', error);\n",
              "      }\n",
              "      quickchartButtonEl.classList.remove('colab-df-spinner');\n",
              "      quickchartButtonEl.classList.add('colab-df-quickchart-complete');\n",
              "    }\n",
              "    (() => {\n",
              "      let quickchartButtonEl =\n",
              "        document.querySelector('#df-3501dff5-aff4-4eae-8fc9-f7caef9aa41b button');\n",
              "      quickchartButtonEl.style.display =\n",
              "        google.colab.kernel.accessAllowed ? 'block' : 'none';\n",
              "    })();\n",
              "  </script>\n",
              "</div>\n",
              "    </div>\n",
              "  </div>\n"
            ]
          },
          "metadata": {},
          "execution_count": 122
        }
      ],
      "source": [
        "datanew = dataset.drop(dataset.columns[[0,13,14,15,16,17,19,20,21,22,23,24,25,26,27,28,29,30,31]], axis=1)\n",
        "datanew[18] = datanew[18].map({'CL0': 0, 'CL1': 0, 'CL2': 0, 'CL3': 0, 'CL4': 1, 'CL5': 1, 'CL6':  1})\n",
        "\n",
        "target = datanew[18]\n",
        "data = datanew.iloc[:,0:12]\n",
        "data.head()"
      ],
      "id": "8b4996c3-f92e-4edf-9050-dee7c8a534b8"
    },
    {
      "cell_type": "markdown",
      "metadata": {
        "id": "N03NVNm0f7B5"
      },
      "source": [
        "Tras el preprocesamiento, realizamos una matriz de correlación del dataset para ver como se relacionan los atributos entre sí."
      ],
      "id": "N03NVNm0f7B5"
    },
    {
      "cell_type": "code",
      "execution_count": null,
      "metadata": {
        "colab": {
          "base_uri": "https://localhost:8080/",
          "height": 452
        },
        "id": "84ea2a62-89c1-4ca0-8d06-6ef6c12a71c6",
        "outputId": "e758116d-f812-43a7-96af-f40dff895bd5"
      },
      "outputs": [
        {
          "output_type": "display_data",
          "data": {
            "text/plain": [
              "<Figure size 640x480 with 2 Axes>"
            ],
            "image/png": "[encoded data removed]"
          },
          "metadata": {}
        }
      ],
      "source": [
        "matriz_correlacion = datanew.corr()\n",
        "df_corr = pd.DataFrame(matriz_correlacion)\n",
        "fig, ax = plt.subplots()\n",
        "sbn.heatmap(df_corr, vmin=-1, vmax=1, annot=False);\n",
        "ax.set_title('CORRELACION', weight='bold')\n",
        "plt.show()"
      ],
      "id": "84ea2a62-89c1-4ca0-8d06-6ef6c12a71c6"
    },
    {
      "cell_type": "markdown",
      "metadata": {
        "id": "gci_OYdSgOau"
      },
      "source": [
        "Debido a que entrenar un QSVM con un dataset con tantos atributos supondría mucho tiempo ordenaremos los atributos de mayor a menor correlación y mediante el método del codo escogeremos los más significativos"
      ],
      "id": "gci_OYdSgOau"
    },
    {
      "cell_type": "code",
      "execution_count": null,
      "metadata": {
        "colab": {
          "base_uri": "https://localhost:8080/",
          "height": 573
        },
        "id": "iiMQg6qOvhFI",
        "outputId": "6fa3b1ab-b965-423f-849f-cd43f4884ef9"
      },
      "outputs": [
        {
          "output_type": "display_data",
          "data": {
            "text/plain": [
              "<Figure size 1000x600 with 1 Axes>"
            ],
            "image/png": "[encoded data removed]"
          },
          "metadata": {}
        }
      ],
      "source": [
        "correlation_matrix = data.corrwith(target)\n",
        "\n",
        "# Ordena la matriz de correlación en orden descendente\n",
        "correlation_matrix = correlation_matrix.abs().sort_values(ascending=False)\n",
        "\n",
        "# Crea un gráfico de barras ordenado de mayor a menor\n",
        "plt.figure(figsize=(10, 6))\n",
        "correlation_matrix.plot(kind='bar', color='skyblue')\n",
        "plt.title('Correlación de Atributos con el Target')\n",
        "plt.xlabel('Atributo')\n",
        "plt.ylabel('Correlación')\n",
        "plt.xticks(rotation=45)\n",
        "plt.ylim(0, 1)\n",
        "plt.show()"
      ],
      "id": "iiMQg6qOvhFI"
    },
    {
      "cell_type": "markdown",
      "metadata": {
        "id": "6sm-dfGCiFCW"
      },
      "source": [
        "No se observa un \"*codo*\" pero por motivos de desarrollo de la práctica nos quedaremos con las primeras tres variables."
      ],
      "id": "6sm-dfGCiFCW"
    },
    {
      "cell_type": "code",
      "execution_count": null,
      "metadata": {
        "colab": {
          "base_uri": "https://localhost:8080/",
          "height": 206
        },
        "id": "9Zu6kQ_MzC6S",
        "outputId": "23b2baf8-45f0-4aab-a2a5-78e86a302dd4"
      },
      "outputs": [
        {
          "output_type": "execute_result",
          "data": {
            "text/plain": [
              "        1        4        12\n",
              "0  0.49788  0.96082 -1.18084\n",
              "1 -0.07854  0.96082 -0.21575\n",
              "2  0.49788  0.96082  0.40148\n",
              "3 -0.95197  0.96082 -1.18084\n",
              "4  0.49788  0.96082 -0.21575"
            ],
            "text/html": [
              "\n",
              "  <div id=\"df-4076ea88-4d1b-493e-b63e-7dbab5144252\" class=\"colab-df-container\">\n",
              "    <div>\n",
              "<style scoped>\n",
              "    .dataframe tbody tr th:only-of-type {\n",
              "        vertical-align: middle;\n",
              "    }\n",
              "\n",
              "    .dataframe tbody tr th {\n",
              "        vertical-align: top;\n",
              "    }\n",
              "\n",
              "    .dataframe thead th {\n",
              "        text-align: right;\n",
              "    }\n",
              "</style>\n",
              "<table border=\"1\" class=\"dataframe\">\n",
              "  <thead>\n",
              "    <tr style=\"text-align: right;\">\n",
              "      <th></th>\n",
              "      <th>1</th>\n",
              "      <th>4</th>\n",
              "      <th>12</th>\n",
              "    </tr>\n",
              "  </thead>\n",
              "  <tbody>\n",
              "    <tr>\n",
              "      <th>0</th>\n",
              "      <td>0.49788</td>\n",
              "      <td>0.96082</td>\n",
              "      <td>-1.18084</td>\n",
              "    </tr>\n",
              "    <tr>\n",
              "      <th>1</th>\n",
              "      <td>-0.07854</td>\n",
              "      <td>0.96082</td>\n",
              "      <td>-0.21575</td>\n",
              "    </tr>\n",
              "    <tr>\n",
              "      <th>2</th>\n",
              "      <td>0.49788</td>\n",
              "      <td>0.96082</td>\n",
              "      <td>0.40148</td>\n",
              "    </tr>\n",
              "    <tr>\n",
              "      <th>3</th>\n",
              "      <td>-0.95197</td>\n",
              "      <td>0.96082</td>\n",
              "      <td>-1.18084</td>\n",
              "    </tr>\n",
              "    <tr>\n",
              "      <th>4</th>\n",
              "      <td>0.49788</td>\n",
              "      <td>0.96082</td>\n",
              "      <td>-0.21575</td>\n",
              "    </tr>\n",
              "  </tbody>\n",
              "</table>\n",
              "</div>\n",
              "    <div class=\"colab-df-buttons\">\n",
              "\n",
              "  <div class=\"colab-df-container\">\n",
              "    <button class=\"colab-df-convert\" onclick=\"convertToInteractive('df-4076ea88-4d1b-493e-b63e-7dbab5144252')\"\n",
              "            title=\"Convert this dataframe to an interactive table.\"\n",
              "            style=\"display:none;\">\n",
              "\n",
              "  <svg xmlns=\"http://www.w3.org/2000/svg\" height=\"24px\" viewBox=\"0 -960 960 960\">\n",
              "    <path d=\"M120-120v-720h720v720H120Zm60-500h600v-160H180v160Zm220 220h160v-160H400v160Zm0 220h160v-160H400v160ZM180-400h160v-160H180v160Zm440 0h160v-160H620v160ZM180-180h160v-160H180v160Zm440 0h160v-160H620v160Z\"/>\n",
              "  </svg>\n",
              "    </button>\n",
              "\n",
              "  <style>\n",
              "    .colab-df-container {\n",
              "      display:flex;\n",
              "      gap: 12px;\n",
              "    }\n",
              "\n",
              "    .colab-df-convert {\n",
              "      background-color: #E8F0FE;\n",
              "      border: none;\n",
              "      border-radius: 50%;\n",
              "      cursor: pointer;\n",
              "      display: none;\n",
              "      fill: #1967D2;\n",
              "      height: 32px;\n",
              "      padding: 0 0 0 0;\n",
              "      width: 32px;\n",
              "    }\n",
              "\n",
              "    .colab-df-convert:hover {\n",
              "      background-color: #E2EBFA;\n",
              "      box-shadow: 0px 1px 2px rgba(60, 64, 67, 0.3), 0px 1px 3px 1px rgba(60, 64, 67, 0.15);\n",
              "      fill: #174EA6;\n",
              "    }\n",
              "\n",
              "    .colab-df-buttons div {\n",
              "      margin-bottom: 4px;\n",
              "    }\n",
              "\n",
              "    [theme=dark] .colab-df-convert {\n",
              "      background-color: #3B4455;\n",
              "      fill: #D2E3FC;\n",
              "    }\n",
              "\n",
              "    [theme=dark] .colab-df-convert:hover {\n",
              "      background-color: #434B5C;\n",
              "      box-shadow: 0px 1px 3px 1px rgba(0, 0, 0, 0.15);\n",
              "      filter: drop-shadow(0px 1px 2px rgba(0, 0, 0, 0.3));\n",
              "      fill: #FFFFFF;\n",
              "    }\n",
              "  </style>\n",
              "\n",
              "    <script>\n",
              "      const buttonEl =\n",
              "        document.querySelector('#df-4076ea88-4d1b-493e-b63e-7dbab5144252 button.colab-df-convert');\n",
              "      buttonEl.style.display =\n",
              "        google.colab.kernel.accessAllowed ? 'block' : 'none';\n",
              "\n",
              "      async function convertToInteractive(key) {\n",
              "        const element = document.querySelector('#df-4076ea88-4d1b-493e-b63e-7dbab5144252');\n",
              "        const dataTable =\n",
              "          await google.colab.kernel.invokeFunction('convertToInteractive',\n",
              "                                                    [key], {});\n",
              "        if (!dataTable) return;\n",
              "\n",
              "        const docLinkHtml = 'Like what you see? Visit the ' +\n",
              "          '<a target=\"_blank\" href=https://colab.research.google.com/notebooks/data_table.ipynb>data table notebook</a>'\n",
              "          + ' to learn more about interactive tables.';\n",
              "        element.innerHTML = '';\n",
              "        dataTable['output_type'] = 'display_data';\n",
              "        await google.colab.output.renderOutput(dataTable, element);\n",
              "        const docLink = document.createElement('div');\n",
              "        docLink.innerHTML = docLinkHtml;\n",
              "        element.appendChild(docLink);\n",
              "      }\n",
              "    </script>\n",
              "  </div>\n",
              "\n",
              "\n",
              "<div id=\"df-77437b7e-c201-4b06-9e73-e4edc9e3a653\">\n",
              "  <button class=\"colab-df-quickchart\" onclick=\"quickchart('df-77437b7e-c201-4b06-9e73-e4edc9e3a653')\"\n",
              "            title=\"Suggest charts.\"\n",
              "            style=\"display:none;\">\n",
              "\n",
              "<svg xmlns=\"http://www.w3.org/2000/svg\" height=\"24px\"viewBox=\"0 0 24 24\"\n",
              "     width=\"24px\">\n",
              "    <g>\n",
              "        <path d=\"M19 3H5c-1.1 0-2 .9-2 2v14c0 1.1.9 2 2 2h14c1.1 0 2-.9 2-2V5c0-1.1-.9-2-2-2zM9 17H7v-7h2v7zm4 0h-2V7h2v10zm4 0h-2v-4h2v4z\"/>\n",
              "    </g>\n",
              "</svg>\n",
              "  </button>\n",
              "\n",
              "<style>\n",
              "  .colab-df-quickchart {\n",
              "      --bg-color: #E8F0FE;\n",
              "      --fill-color: #1967D2;\n",
              "      --hover-bg-color: #E2EBFA;\n",
              "      --hover-fill-color: #174EA6;\n",
              "      --disabled-fill-color: #AAA;\n",
              "      --disabled-bg-color: #DDD;\n",
              "  }\n",
              "\n",
              "  [theme=dark] .colab-df-quickchart {\n",
              "      --bg-color: #3B4455;\n",
              "      --fill-color: #D2E3FC;\n",
              "      --hover-bg-color: #434B5C;\n",
              "      --hover-fill-color: #FFFFFF;\n",
              "      --disabled-bg-color: #3B4455;\n",
              "      --disabled-fill-color: #666;\n",
              "  }\n",
              "\n",
              "  .colab-df-quickchart {\n",
              "    background-color: var(--bg-color);\n",
              "    border: none;\n",
              "    border-radius: 50%;\n",
              "    cursor: pointer;\n",
              "    display: none;\n",
              "    fill: var(--fill-color);\n",
              "    height: 32px;\n",
              "    padding: 0;\n",
              "    width: 32px;\n",
              "  }\n",
              "\n",
              "  .colab-df-quickchart:hover {\n",
              "    background-color: var(--hover-bg-color);\n",
              "    box-shadow: 0 1px 2px rgba(60, 64, 67, 0.3), 0 1px 3px 1px rgba(60, 64, 67, 0.15);\n",
              "    fill: var(--button-hover-fill-color);\n",
              "  }\n",
              "\n",
              "  .colab-df-quickchart-complete:disabled,\n",
              "  .colab-df-quickchart-complete:disabled:hover {\n",
              "    background-color: var(--disabled-bg-color);\n",
              "    fill: var(--disabled-fill-color);\n",
              "    box-shadow: none;\n",
              "  }\n",
              "\n",
              "  .colab-df-spinner {\n",
              "    border: 2px solid var(--fill-color);\n",
              "    border-color: transparent;\n",
              "    border-bottom-color: var(--fill-color);\n",
              "    animation:\n",
              "      spin 1s steps(1) infinite;\n",
              "  }\n",
              "\n",
              "  @keyframes spin {\n",
              "    0% {\n",
              "      border-color: transparent;\n",
              "      border-bottom-color: var(--fill-color);\n",
              "      border-left-color: var(--fill-color);\n",
              "    }\n",
              "    20% {\n",
              "      border-color: transparent;\n",
              "      border-left-color: var(--fill-color);\n",
              "      border-top-color: var(--fill-color);\n",
              "    }\n",
              "    30% {\n",
              "      border-color: transparent;\n",
              "      border-left-color: var(--fill-color);\n",
              "      border-top-color: var(--fill-color);\n",
              "      border-right-color: var(--fill-color);\n",
              "    }\n",
              "    40% {\n",
              "      border-color: transparent;\n",
              "      border-right-color: var(--fill-color);\n",
              "      border-top-color: var(--fill-color);\n",
              "    }\n",
              "    60% {\n",
              "      border-color: transparent;\n",
              "      border-right-color: var(--fill-color);\n",
              "    }\n",
              "    80% {\n",
              "      border-color: transparent;\n",
              "      border-right-color: var(--fill-color);\n",
              "      border-bottom-color: var(--fill-color);\n",
              "    }\n",
              "    90% {\n",
              "      border-color: transparent;\n",
              "      border-bottom-color: var(--fill-color);\n",
              "    }\n",
              "  }\n",
              "</style>\n",
              "\n",
              "  <script>\n",
              "    async function quickchart(key) {\n",
              "      const quickchartButtonEl =\n",
              "        document.querySelector('#' + key + ' button');\n",
              "      quickchartButtonEl.disabled = true;  // To prevent multiple clicks.\n",
              "      quickchartButtonEl.classList.add('colab-df-spinner');\n",
              "      try {\n",
              "        const charts = await google.colab.kernel.invokeFunction(\n",
              "            'suggestCharts', [key], {});\n",
              "      } catch (error) {\n",
              "        console.error('Error during call to suggestCharts:', error);\n",
              "      }\n",
              "      quickchartButtonEl.classList.remove('colab-df-spinner');\n",
              "      quickchartButtonEl.classList.add('colab-df-quickchart-complete');\n",
              "    }\n",
              "    (() => {\n",
              "      let quickchartButtonEl =\n",
              "        document.querySelector('#df-77437b7e-c201-4b06-9e73-e4edc9e3a653 button');\n",
              "      quickchartButtonEl.style.display =\n",
              "        google.colab.kernel.accessAllowed ? 'block' : 'none';\n",
              "    })();\n",
              "  </script>\n",
              "</div>\n",
              "    </div>\n",
              "  </div>\n"
            ]
          },
          "metadata": {},
          "execution_count": 125
        }
      ],
      "source": [
        "data = datanew.iloc[:,[0,3,11]]\n",
        "data.head()"
      ],
      "id": "9Zu6kQ_MzC6S"
    },
    {
      "cell_type": "markdown",
      "metadata": {
        "id": "GhHpRNnqiTEL"
      },
      "source": [
        "Ahora procedemos a dividir los datos en test (30%) y train (70%) con la función implementada en la librería de sklearn. Los datos se barajearan aleatoriamente con una semilla para reproducir los mismos resultados en ejecuciones posteriores."
      ],
      "id": "GhHpRNnqiTEL"
    },
    {
      "cell_type": "code",
      "execution_count": null,
      "metadata": {
        "colab": {
          "base_uri": "https://localhost:8080/"
        },
        "id": "e51baa78-4b1f-4605-9cf9-992a15e9af9b",
        "outputId": "e54a5162-ffc2-42df-958e-76e4b18cea0b"
      },
      "outputs": [
        {
          "output_type": "stream",
          "name": "stdout",
          "text": [
            "1319 566\n",
            "1319 566\n"
          ]
        }
      ],
      "source": [
        "from sklearn.model_selection import train_test_split\n",
        "\n",
        "train_features, test_features, train_labels, test_labels = train_test_split(data, target, test_size=0.3, shuffle=True, random_state=123456)\n",
        "print(len(train_features),len(test_features))\n",
        "print(len(train_labels),len(test_labels))"
      ],
      "id": "e51baa78-4b1f-4605-9cf9-992a15e9af9b"
    },
    {
      "cell_type": "markdown",
      "metadata": {
        "id": "iB2BMmF9jxKG"
      },
      "source": [
        "###SVM CLÁSICO\n",
        "Primero normalizamos los datos numéricos"
      ],
      "id": "iB2BMmF9jxKG"
    },
    {
      "cell_type": "code",
      "execution_count": null,
      "metadata": {
        "id": "BRXHN6Zflnqy"
      },
      "outputs": [],
      "source": [
        "scalern = MinMaxScaler()\n",
        "train_featuresn = scalern.fit_transform(train_features)\n",
        "test_featuresn = scalern.fit_transform(test_features)\n",
        "test_labelsn = test_labels\n",
        "train_labelsn = train_labels"
      ],
      "id": "BRXHN6Zflnqy"
    },
    {
      "cell_type": "markdown",
      "metadata": {
        "id": "S6ZyIKSqln9F"
      },
      "source": [
        "Ahora definimos el clasificador SVM clásico con la función SVC de sklearn. El kernel será radial basis function y el parámetro gamma = 0.001. Lo ajustamos con el método .fit(), tanto con los valores normalizados como con los normales, y vemos la precisión con los datos de test."
      ],
      "id": "S6ZyIKSqln9F"
    },
    {
      "cell_type": "code",
      "execution_count": null,
      "metadata": {
        "colab": {
          "base_uri": "https://localhost:8080/"
        },
        "id": "7a09a3d6-727a-4751-be73-e30376b311c3",
        "outputId": "322f9df9-d322-4d8f-c51d-d26ba2b98e15"
      },
      "outputs": [
        {
          "output_type": "stream",
          "name": "stdout",
          "text": [
            "Test score not normalized data: 0.7703180212014135\n",
            "Test score normalized data: 0.5759717314487632\n"
          ]
        }
      ],
      "source": [
        "svm1 = SVC(gamma=0.001, kernel = 'rbf')\n",
        "svm2 = SVC(gamma=0.001, kernel = 'rbf')\n",
        "svm1.fit(train_features, train_labelsn)\n",
        "svm2.fit(train_featuresn, train_labelsn)\n",
        "\n",
        "score_callable_function = svm1.score(test_features, test_labelsn)\n",
        "print(f\"Test score not normalized data: {score_callable_function}\")\n",
        "score_callable_function = svm2.score(test_featuresn, test_labelsn)\n",
        "print(f\"Test score normalized data: {score_callable_function}\")"
      ],
      "id": "7a09a3d6-727a-4751-be73-e30376b311c3"
    },
    {
      "cell_type": "markdown",
      "metadata": {
        "id": "RzoFeFTXkkwO"
      },
      "source": [
        "Podemos observar que obtenemos un 80% de precisión aproximadamente con el modelo entrenado por los datos sin normalizar mientras que un 60% con los datos normalizados."
      ],
      "id": "RzoFeFTXkkwO"
    },
    {
      "cell_type": "markdown",
      "metadata": {
        "id": "YlatJA3iktdw"
      },
      "source": [
        "###SVM Cuántico\n",
        "Procedemos a realizar el modelo pero con un kernel cuántico. Para ello primero reduciremos el tamaño del dataset (para que sea viable) a 500 registros. De estos 400 son de train (80%) y 100 de test (20%)."
      ],
      "id": "YlatJA3iktdw"
    },
    {
      "cell_type": "code",
      "execution_count": null,
      "metadata": {
        "id": "lqll6bdszgDA"
      },
      "outputs": [],
      "source": [
        "train_features = train_features.iloc[0:400,:]\n",
        "test_features = test_features.iloc[0:100,:]\n",
        "test_featuresx = test_features\n",
        "train_labels = train_labels.iloc[0:400]\n",
        "test_labels = test_labels.iloc[0:100]"
      ],
      "id": "lqll6bdszgDA"
    },
    {
      "cell_type": "markdown",
      "source": [
        "Debido a que los datos serán mapeados a un qubit en fase. Para que cada uno sea único y no haya posibilidad de valores repetidos haremos una normalización de los datos entre 0 y 2pi. Esto se debe a que cada dato se encontrará en el plano XY de la esfera de bloch y tiene una amplitud de 2pi."
      ],
      "metadata": {
        "id": "mUFebNvliOYQ"
      },
      "id": "mUFebNvliOYQ"
    },
    {
      "cell_type": "code",
      "execution_count": null,
      "metadata": {
        "id": "vDzRsNPN10Q5"
      },
      "outputs": [],
      "source": [
        "scaler = MinMaxScaler(feature_range=(0, 2*np.pi))\n",
        "train_features = scaler.fit_transform(train_features)\n",
        "test_features = scaler.fit_transform(test_features)"
      ],
      "id": "vDzRsNPN10Q5"
    },
    {
      "cell_type": "markdown",
      "source": [
        "Ahora, definimos nuestro circuito de mapeado de los datos a qubits. En este caso haremos uso de uno predefinido llamado ZZFeatureMap. Dentro de esta función definimos feature_dimension (número de atributos de los datos), reps (número de veces que se repite el circuito en el mapeo) y entanglement (tipo de entrelazamiento). El ZZFeatureMap tiene la siguiente forma:\n",
        "![zzfeature.png](data:image/png;base64,iVBORw0KGgoAAAANSUhEUgAABq4AAAE/CAYAAAA39DL/AAAAAXNSR0IArs4c6QAAAARnQU1BAACxjwv8YQUAAAAJcEhZcwAADsMAAA7DAcdvqGQAAP+lSURBVHhe7P13eGXXed+Lv4PeexkA03ufYe9VokQVy5Joy5Yly7Zsyje5N3ESJ0/sG/vGj//Ik5sn185zk2vfG9pJfrHlJrmoURQpkmLvw+H0XoCZwQAY9F7n937W3nsGGGJIAAMMD4DvZ7gJYJ911tlnn7PX/r7ru961llxyTAghhBBCCCGEEEIIIYQQQoiPmLT4pxBCCCGEEEIIIYQQQgghhBAfKTKuhBBCCCGEEEIIIYQQQgghREog40oIIYQQQgghhBBCCCGEEEKkBDKuhBBCCCGEEEIIIYQQQgghREog40oIIYQQQgghhBBCCCGEEEKkBDKuhBBCCCGEEEIIIYQQQgghREog40oIIYQQQgghhBBCCCGEEEKkBDKuhBBCCCGEEEIIIYQQQgghREog40oIIYQQQgghhBBCCCGEEEKkBDKuhBBCCCGEEEIIIYQQQgghREog40oIIYQQQgghhBBCCCGEEEKkBDKuhBBCCCGEEEIIIYQQQgghREog40oIIYQQQgghhBBCCCGEEEKkBDKuhBBCCCGEEEIIIYQQQgghREog40oIIYQQQgghhBBCCCGEEEKkBDKuhBBCCCGEEEIIIYQQQgghREog40oIIYQQQgghhBBCCCGEEEKkBDKuhBBCCCGEEEIIIYQQQgghREog40oIIYQQQgghhBBCCCGEEEKkBDKuhBBCCCGEEEIIIYQQQgghREog40oIIYQQQgghhBBCCCGEEEKkBDKuhBBCCCGEEEIIIYQQQgghREog40oIIYQQQgghhBBCCCGEEEKkBDKuhBBCCCGEEEIIIYQQQgghREog40oIIYQQQgghhBBCCCGEEEKkBDKuhBBCCCGEEEIIIYQQQgghREog40oIIYQQQgghhBBCCCGEEEKkBDKuhBBCCCGEEEIIIYQQQgghREog40oIIYQQQgghhBBCCCGEEEKkBDKuhBBCCCGEEEIIIYQQQgghREog40oIIYQQQgghhBBCCCGEEEKkBDKuhBBCCCGEEEIIIYQQQgghREog40oIIYQQQgghhBBCCCGEEEKkBDKuhBBCCCGEEEIIIYQQQgghREog40oIIYQQQgghhBBCCCGEEEKkBDKuhBBCCCGEEEIIIYQQQgghREog40oIIYQQQgghhBBCCCGEEEKkBDKuhBBCCCGEEEIIIYQQQgghREog40oIIYQQQgghhBBCCCGEEEKkBDKuhBBCCCGEEEIIIYQQQgghREog40oIIYQQQgghhBBCCCGEEEKkBDKuhBBCCCGEEEIIIYQQQgghREog40oIIYQQQgghhBBCCCGEEEKkBDKuhBBCCCGEEEIIIYQQQgghREog40oIIYQQQgghhBBCCCGEEEKkBDKuhBBCCCGEEEIIIYQQQgghREog40oIIYQQQgghhBBCCCGEEEKkBDKuhBBCCCGEEEIIIYQQQgghREog40oIIYQQQgghhBBCCCGEEEKkBDKuhBBCCCGEEEIIIYQQQgghREog40oIIYQQQgghhBBCCCGEEEKkBDKuhBBCCCGEEEIIIYQQQgghREog40oIIYQQQgghhBBCCCGEEEKkBEsuOfHvIgUYHYs2PhX/saDBNV2yxCzdf2FbbFzyD3iMDzn+vIW4EXDNLfHrLdmEEEKI2WIx6FhunYtav/pne2k00rHSr+JGc1nHpke/CyGEENfL8PBw2EZHR20sdNItXNLS0sKWlZVlmZmZ8V4hUhcZVylGS7fZ+XazviGzft8WMrlZZvnZZrUlZhWF8c5FxGCPWXeL2ZD/HB5U8C/mHtcnluHXXbZfbwWV/jM/fkAIIYSYBVq6XMd2mPW6hh1YoDo2x2P8PL+X1paaVRXFOxcRQ72RfkXHjrh+XeD9OyKFCDrWY8fsArNC17FZ0rFCCCFmgZMnT9revXvt4sWL1tnZaQu5m7y4uNhKS0ttx44dtmHDhnivEKmLjKsU43iT2b6zZm0eDHb2xzsXIAyQK84zK/PAY8cyszVV0f7FRI8H/c3H/efFKPhn9KoQc0laehTsY1pVrvOfFfEDQgghxCxwDB3bYNbeu3B1bFGuWalr2O3LzTYsjXcuInrbzFpcv3Y3R/p1bCR+QIg5Ji3jio6tch2bXx4/IIQQQlwHr776qn3nO9+xEydO2Llz5xa0cVVTU2MrVqywz3/+8/bQQw/Fe4VIXWRcpRgHz5u9ddLsYncU9C9YlkRBPyNVb1tjtqkm3r+I6Gw0azzogX+T2UCXB/4yrsQcQ8Cf49dc0VIXLFv8Z3X8gBBCCDELHDgX69ges44FqmNL8s3KfbvV9ev2ZfHORQQDr84fMOtyHYt+HZVxJW4QiY4tRsduNStchAMfhRBCzD4//vGP7c/+7M/s8OHDdubMmQU9XSCm1dq1a+0Xf/EX7bOf/Wy8V4jURcZVirG3wey142ZNHgiSdbVQIeOKbKulxWZ3rTPbtggD/45zZuf2RgbWQKeMKzH3EPDnEvDXmtXt9J+L0DAWQggxd7xXH+nYZnTsAjWuSvPNKgsj/XrTynjnIqKrKdKvHWfN+tGvMq7EDSLoWI8di+vMlu2IBmIJIYQQ18uTTz5pTzzxhO3bt89OnTq1oI2rVatWhSkCv/GNb9hjjz0W7xUidVmESwoLIYQQQgghhBBCCCGEEEKIVETGlRBCCCGEEEIIIYQQQgghhEgJZFwJIYQQQgghhBBCCCGEEEKIlEDGlRBCCCGEEEIIIYQQQgghhEgJZFwJIYQQQgghhBBCCCGEEEKIlEDGlRBCCCGEEEIIIYQQQgghhEgJZFwJIYQQQgghhBBCCCGEEEKIlEDGlRBCCCGEEEIIIYQQQgghhEgJZFwJIYQQQgghhBBCCCGEEEKIlGDJJSf+XaQAexvMXjtu1tRl1tYT71yALPGtrMBsabHZXevMti2L9i8mOs6Zndtr1tloNtBpNjYaPyAm0NR+xk6ef886epqtb7DLaLKWLEkLX6IllmZZmTmWm1Vg1aUrraK4zorzKyw3uzB+thhPWoZZbpFZca1Z3U7/WRM/IIQQQswC79VHOrYZHdsb71xglOabVbrMQL/etDLeuYjoaor0a8dZs37060j8gJiUpvbTdsJ1bGdPi/W6jnUhe0XH+s+sjBzLc91aVbLCdeyyWMd6kCTeR9CxHju63LdlO8yKlsYPCCGEENfBk08+aU888YTt27fPTp06ZWNjY/EjC49Vq1bZhg0b7Bvf+IY99thj8V4hUpf033Pi30UKgGF1ts08sPFgcCjeuQDBuMrNMivIMVteZlZVFO1fTAx0m3V78D/YYzbin7cs5Mk5fu5de+ad/2mvHvgHe3X/d2zP8efsvZMv2F7f9p16MTx+ruWojV0a8+9UvuXlFPu2CL9QU4B+ksxss5zCKNjnpxBCCDFbNHWO07HD8c4FBvo13++l6NeaknjnImKwN9KvAx6zBP26cPt2ZoWjZ9+2Z97+n/aK69jXfNtz/PnLOnb/qZdcx+62cxePhYFZOa5j83Ndx2oA1qQEHeuxIzK/qNpM/p4QQojZ4NixY7Z7925rbm62jo6OcE9eqJSUlFh5ebndcssttmXLlnivEKmLpgoUQqQ4l8K/0sKltnXV3fbwzV+xr3zs34Tt5x7813b3ls9ZddlqO9ty1F49+F2rbzpoPf0dNjK6QHvMhBBCCCHEvOHSpTErL6pxHXuvfezmr9pXP/47Qcd+6YF/ZXdu+amQbdXQctheCzr2kPX2d0rHCiGEEAuMtLQ0KygosMrKSlu+fLmtWbPG1q5da6tXr7Zly5ZZWVmZZWVlhXLTgfIYUtu3bw9mFK+xZAnpAkLMf2RcCSHmBWWFS23TijvtgZ1fsp998F/Zzz7wL+2L9/6G3bn5s1ZbvjZMxfLWkR9avQf+kXG1gFMWhRBCCCHEvKG0sMY2r3Qdu+vnXMP+K/uZ+/+lfSHWsTXla6yx9aS9feRH1tByxHoGNABLCCGEmM9gHKWnpwcjKicnx/Ly8qyoqMiqqqpsxYoVtn79etu8eXPYNm7cGEysurq6YF5hPFE+OzvbMjIyPtDI4jHKUe9NN91kO3bsuGyAybwSCwFNFZhiaKrAxYOmCpwaF9pO2bFzu8NNtzCvLKxltbRstX+H/J/vY32A9LQMO9N8yFq7ztvKqq1WWbLM8rKLLDszN65FgKYKFEIIMZdoqsCFj6YKnB6NbSft2Nl3LC0t3YrG61g6k/y/NBdnPFbffNDa/cSurNoS1mzNzykK67iKK2iqQCGEEHPBXEwVWFpaGrKodu7caffff789/PDD9qlPfSr85O8777zTbr31Vrv55pvDxu+33Xab3XXXXeF3sqcwsvLz84Nm6O2NFo8df2yYVkz7d88999gjjzxiDz74YDDAkue0tbXZ8PBEQa6pAsV8QxlXQoh5CTfitCXpYRFrOgHyPHq9NDZmg8N91j/Ya6NaLVx8RCAlx/x/I6NmQ/41HHStOOAbP/l7ZCx6XAixsCGuHPXrfdjbgqQdCG2BtwPs4zEhxOIEHZuedkXH5mYVuDYY9TaizwaGeqRjxUcGGpX702QalnsXj0vGCrGw4RrnWg8a1q/9yxrWt0TDauD1RMJ9PT09mEYYQ0z/h2n10EMP2Re/+EX72te+Zt/4xjfsl37pl+znf/7n7ad/+qeDkcX22c9+1r7whS/YL/zCL9jjjz9uv/qrv2pf+cpX7DOf+UwwpTCYamtrg+lEdhWvw1ZYWBiytx544IFQB8YVxtftt98epiCkrBDzHRlXQoh5ydilsTAdICNZj559xzp7Wy0jI8sK8kpDJ0Bmhm7S4qNhzIU8or652+xUi9mRC2aHz/vPRrMzF83aeqKMWplXQixcuLyHPLDv6DM71252rClqBw75drLZ7Lzv6+qPOwDVFgix6EDHDo8M2fk4I6urr80y07PC7AJF6Fj/XYgbDfcjOqfb/d7V0DZRw3LvIqsWDTvq9zfduoRYmNAOMACzZyDSq1z7tAOhLfA2gcz6Tm8jaCvEFTCJmKKPrKmvf/3rwaT6tV/7NXv00Udt69attnTpUsvMzLShoaGQCdXQ0GAnTpyw48eP26lTp6yxsdG6urpsbGwsGFJka91xxx3B9KKe3/zN3wxGFlMM8jpMO3jffffZY489FrK3WDOLDKympiZ77733Qr2Dg4Px0Qkxf0npqQJJaSQdklTNixcvWktLS/jZ3t5unZ2d4YLH1eZvUjp7enrChck+GoT5yJxNFeh3n4G+DuvvbrGRoX4bGx22Jd6opaVlxAUmMjzYG8oODfTY6IjfsZz0jNkLoDRVoN/oNVXglEimChweHQxTAuZkFYQpALv6LlpHd7OdbNxrpy7ss7auRv9O5dvONQ/Yqppt4ff09Mm/34sVTRU4tzASFQHf2W/W6tc1Qv98h3+HPchv8ba9rTdq26/Oukr3z4U20W9dQoh5DJc0xjXXONc6JjWdfI2+0R5gZl/k3u+yqs8fpx0AnpMWX//Jz/nKnE0VeJWOvRR0bHqYYm0ygo7tao51rMcGvi8tY3ZiA00VqKkCp0MyVeDo2HDIsLqsY3s9pu1ptlPn0bF7ra37guW6MNu59kFbWb3FcrJdx14jTlusaKrAuYF7F3EobTb3J+5dzfRJxDq2xe9baFgGW5B5gX4djTVsaFtjHSuEmN9wbQcNOxQZU+jWc67pGr0doJ/yorcN7d4WEO9ibI3PuiKepSGYr23B9UwVyBpUubm5wZjCVMJMwmBiuj/Wm8JgAvq26c8+d+6cnT59OphV/OTvCxcuWGtrazCu+vr6Lvdr81wMqZUrV9qGDRvCPvrJWb+KqQg/8YlPhKkHeV2OAdPq3Xffteeeey68p+7u7mCEjUdTBYr5xhK/IKd+Rd5AOCwu3EOHDtmRI0fs6NGj4SLnImZhOy7gXbt2BTf77bffDo0Mi9FxUeM2b9q0Ka5pfrG3wey149GNAdE4W1waG7Uz+562C8ffsPySpVZYvsLKl2/3n8vjEhO5WP+el38mdAjkl9RY2bItVrF8R/zo9cMNrcyDjaXFZnetM9u2LNq/mOg450Jgr4uCRr/5d7pQ8Ju/eD97jj9nP3jjCWtqO+1CaiCMRC0tqA5rAoQb92jk8JYUVFlN2RrbsfYBW1G1OYxUvVaH1mKF/o9c103FtWZ1O/1nTfyAuG64kxLk02lbHwv8Pv9qknlF5zSPY0xl+lcy2z+HolxvA/PNVlaYrakyy8mMHhNCzF+IC7nuMa5PkFXl7UB3f7SP7Kskbszw4D7Dr3fMDwbwrK40W+VtQbG3C/w9n3mvPtKxtId0dM4WDLiqd1164cSbQZcWVqxwXbrdCsomF5AtZ/YE3ZvuWgDdW75sa9C9s0Gpt92VhZF+vWllvHMR0dUU6deOs2b96NeR+AExKbuP/diefP2/WnNHgw0N94dsqtLCKo+Fol6+kTF07BLXsZVWW77Wdqx5wJZXbZKOnYSgYz12LK4zW+ZhKYOwxPWDTh326/hkSzQzAPcwsoXD9IBkVsUalo5pNGxeVjTodFls3hPPh05rIcS8hmuefkj0KxmXrd2RhqV9CCaVl6EtoB3I9tiVWLa8wGNZ17EryiNtO1/bgieffNKeeOIJ27dvXzCUrjZ7PggMJIwl+qaZFhCDiX5pkinor6Ivm43sqjNnzoQkDAwlEjFGRiIRRaZUYoAx1SAmGFMAbty4MfRtYzYVFBSErKzz588Hg6q/v982b94cMrPI9iKD60c/+pG98sortmfPnmDCDQwMvO+9rFq1KhwjGWFkawmR6qRkxhXuMtlVXNyvv/56cIwxr86ePRsuPjKsSK3kIh8dHbWf/OQnwVHGeeaCpdFgEbv5yFxlXGFcNRx4NgTxBP+MOi0orbPcIr/LTMLFhv126t3vWV9nk4vVMcstrLTiylXRnWoWoBZlXCnjaiokGVeMTO0f7A7rWLEGAMH/8MiAZWXkBCNrfd0ttnHF7ba0dKXl5xT7V1UR1NUo42puYGQaor6+1ex4s29+XZ/2wJ9pVhi5SnvO4/zkb/YzapXfAeGf7kI/l2QAbxxnp5UVQtxICOiTgJ+Ov8ONUTuAgUMHYNIOsPX477QBHb61uRYARqxn0inr2og2YL5mXs1VxtXY2Ig17H/WteyPg45lFoD80tqgTyfjYsPeoGPJ0ELH5hVVWVHl6vjR60MZV5F+VcbV1Egyrrr6WoOOHbNL/n0e9fYCHTtoWZm5wcjasOxW27D8NqsuQ8cWScdOgjKuZh/CT+5H3KuOXvDN711kWtGWd12lYZk2jCyMMOV1PDCLgRi0h3QR0GkthJh/0A9FFhV69ZRrV+LZEwxS6Yiu+W6//snCStoC2gwGJ9EmoGnRr8SztAdZ/vssdRneUGaScYXRhMnEWlasKcX6Uh//+MeD6cTzMZnox37rrbdCv3ayHThwIPR1Y2JhNrHV19eH7KuTJ08Gg4vn0udNlhYGF/3eyVSErF1FfzfGFqYVBhl1kNCBAZe8D0yryd6HMq7EfCMlFTHpkbjE3/nOd+zpp58OFzCu8COPPBIWqGPRuZtuuik41X/zN38TLlDMLC7kmpoay8vLi2sSQiwUyotqbduqe+3jt/yiffXjv2tfeeR37csf+zf22P3/3B69/eu2a92DVlu+xnKJZoW4gSDy6agm4Gfu71YX8h+2bg1mF89jdOubJ6PnJ5lZQoj5Bdcto9IxpVnDak+92YWuqBMgmU5pMhgAyfMwvd85Fa2J1+HtB+2DEGJhUV5UZ9tW32ePoGMf+bexjv3f7bH7/pk9etvXwxSBQcdma1SRuDFw72JjsMFbrkXprGYqsA9at4ZbGhoXDctALbQvGcazOVOMEOLGwuArprImLg3r2flPBliGNiIuMxkYWUwlynPQsUyP/2Ex8EIC02rNmjV211132Re+8AW75557wsxg9E3v3bs39Gf/4R/+of3VX/1VSLZIpu4j4eJakB2FUUVGFdlfGFF/9Ed/ZN/85jfthz/8YTC2MKPo88aASk9PD0kfZFr93d/9nR08eDAYXh/0GkLMN1LKuMJFxt3GqHrzzTfDgnJkVeEi33zzzXbvvfcGF5s5Q5kOkJRM5gNlSkHc5CSlUsaVEAuP3OwCqyxZbqtrttv2Nffbdg/+t62+1zatuMPW1u6y6tJVVpBbqsWsxQ0FYc6IM4J2An8CfrJlP0ywY1LRMcAUDHRWM7UgI9rI2BBCzC8I0pkSkIA9WROEUagfZkbzPDoL6AA8589jHQGey2hWIcTCAkOqqnSF69gdQcO+X8eulI4VNxQGSXDvQoPSUc16rHREs3bNB8FtDQ2L/mX9Rgws9O9i6rAWYqHANTvs1zwzBtAO0B4kg6g+7HrmeWhW9C/xbLP/RP+yfyHDtH6sMcVSNWQt3X333bZz586QDUWmE6bV888/H8yql19+OfxNdhWGErOL0e99LTCleJxMK8yrJBPs+PHjod+b6QGZfpAsKxI3MK6ok+kD6UdPykxnqkMhUp2UMq5wlkmRZD5OpgfExMK1/tmf/Vn72Mc+Fha3Y9E5Frh74IEHQtYV0wLianOB81PGlRBCiBsBYp4gnUCfkWbTXc+FWIBsCwQ/o9zouE6mDxRCzB8wn5hmqf5iZEDT6Ue8+GEBPyRFaEuYmgkTnClYhBBCiLmEqb+47zCIigEUgzPI9iXTmEwt7oHh3jeF+54QInXgmh3wa5+BUyf9Wp5JLJpMM9jsbQltwWwueZKKYBax3hRTBH7iE58ICRYkVWA0MXMYWVLf/va3g+HU19d3eR2rmYBJxUb9zEJWXMySGFfmYuRYcnJywuNsGFpCLDRSyrjCKWauTxxppgsk9XHbtm3BvWb+zoqKinCh4mRjULFVV1eHRgPXm8dwvVnQDoc5WSsLEwzH+5lnnglTD/LznXfesQsXLgQne7J5P4UQQogPggCfTmqCdkyrD5pa5VoQLDAqDbHPIrjqsBZifoGEJLOKxewxn5nrn33TUZaUpS1gzasLHVE7wELY6gAUQggxV/T4vYYsYXQs2RUMwpguaGE0LFv7DLWwEOKjAb2KyUSGFddvp7cJDKqcLmGdV28LmDK0sTPK3FzIMNPX5s2bQ2IFP+mfZnrAQ4cO2YsvvhhmD2OdKrKfyJ6aSfZTYlixFM4dd9wR+sRJ4qDPm9nGmHmMLCz6zTmeTZs22fbt28PaVZhX480tIeY7KWVccQEyJyfGFWmP69atCwvPYU6Rink1GFRcmGRYsTBeYWFhMK74m8YBU4o5QL/73e/aH//xH9t/+k//yf7gD/4g/GT+TxoWGhMZV0IIIaZL32A0soxOZkT+TDPykZXUQbaGjCsh5hcoSEaZjw/WZ6IqManIvsQEZ0F8Fr6fSSeiEEIIMRW41zS0Rtpzpn2cdKOgf6mDKcaYJkwIMT9Ar3LtkiWFBuVanmnXKDo2mT6UGHkhg3nE9IDMAkZfNVPzMaUfhtVzzz1nhw8fvu41pjCeyKbCGPvSl75kDz/8cDCn6PPGrNq/f3/I7iLLi5nHMLfuv/9+q6urCxlYJHYIsVBYcikFXBsOgQubOTkxlnCpuUBZ5O7zn/98MLAm48c//nEwpTC6Tp06Zb/1W79ljz/+eLhIMa2YcvDAgQOXF8HjIgcaFowxMrpuv/12e+ihh8LfM3WlyRIjgwvj7XrpSltpF9M22OCSYhtaMnuL846NDtv+55+wY298yzKzCyynsNzK6rZYQVldXGIirQ377ezB5y23qMoqV+6yZZsftOVbHpq5qn0flyzrUo/lXGq38rGjVjTWEO9fPGSPVFv+wAbLGqmwjNFC81tT/IgYz57jz9kP3njC0pakWW35Otu+5j7bte7h8LeYHpeWjNpIWrcNZjRbX85R/9kSPyJmwnBGuW9V1mrLrW1s8rZ0KtCqZqWPWHbasJUN7bXi4YPRA0KIFGeJLUnLsNG0fLuQtsPa0taGwP16lHWmDdjSJUetxM5Y2kiP2ej86gXsTFtlrUHHFs2qjh0dGbT9zz1hx9/6O8vMybfcwoqgY/NLa+MSE7lYv8917HOWX1LrOnZn0LHL0LGzQKbr1+xLnUG/loydjvcuHjJHyq1gcKNlD1dZxpjr10sZ8SNiMnYf+7E9+fp/tfT0LKurQMfeb7vWPjTjuHMxc2nJiOvYnqBje3OP2FD6xfgRMRO6MtdbR+ZWG7iUZwNj2dd17ypZ0mRlaee9XWj02LYp3iuESGmWpHl7utT602us7VKddV8qjx+YPmlLLllO2qDlL+my4qF9lj9SHz8yP9i3b5+98MILdvbs2TBr12Td5BhJJEls3brVvvGNb9iDDz4Ysq3ox37qqafCmlaYSfQ9zxS0ARuZVmRY0Vf96KOPWm1tbUjawLCij5s+8M7OTvvpn/7p0KdNUseRI0fsv//3/24vvfRSOCb6xCeDmcyYvQzjjTW6RGpDtt3NN98c/7U4SQnjiuwoLm4utP/z//w/7e2337af+qmfCuta3XnnneGinYwf/OAH9td//ddhITou2t/4jd+wr3zlK+FCb2xstL/4i78IF/by5cuDO82aWGRmkVbJInnMPfqpT33K/uk//adhukEaopnwzW9+0/7dv/t3YbG966Vu26O25o6vWFH1eisoWxnvvX4S4+rIq39pfZ1NNtjfaRlZuZaeMfkCwCND/TbY12EVy3cEw2rZlodn17jyr11P2xnrajpqJ17/czt/8Jn4gcXD+trb7MHtX7F1NTdbZckKy0zPjh8R45FxNXsMjQxYS2e9HTv3lv1k3zftxIV340fETCit226Vq2+zms0ft6Ubr69DdHSoz9vdHjv47H+2oy/9SbxXCJHqZGTnWV5JrW352D+zlTc/Fu+dOUO9bXbijT+3c/t/aD2t9Tbof88nlm3/tOvYr1ph1VrXsSvivddPYlwdee2vrK+ryYb6u1zH5rmOnXwu/+HBPi/TGQ++eijWsrNjXPW2NVj3xZN28vVvWsPe78V7Fw+rqrcH/bqx7g6rKl5pWZm58SNiMmRczR5DI/3W3OE69vxb9vzeP7dTTe/Fj4iZsOb2L9vGB75hOYVVlpVXFu+dGRdPvWHNx16yC761nHoz3iuESGXS0jKsat3dVr3uHqve8KCVLtsRPzJ9Ll0as+G+DutuOW6Hnv8jO3fgR/Ej8wOWmUnWo2J6v8lgFjAMJIyif/SP/lHIciIBA8Prv/yX/xISJ+gTvt41reiXvueee+yLX/yi3XbbbbZjx45gpJEoQd8zs4dhsMEv//Ivhz5t1r8iE+uHP/yhPfvss6G/GwNuMqiffnHMLrKzRGrzz/7ZP7N//a//dfzX4iQljCsaBi4qnOM//MM/DG73z//8z4eF7rhIKysr45IRGF1smFZ/8id/Ei5ujKevf/3rwXGmoWCKwD/6oz8K835+7nOfCwYYi+dxgdKYcEH/t//230KD8Cu/8ivBHMMtnwkcw2//9m/bxYvXP+pr7S2ft60PPW5ltZusuGpNvPf6SYyro6//TTCN0jOzrbBihQvVirjERLpbTlvLmfdCmaVr75j9jCs/hs6Wk9Z69mA4rlPvLr7Af+uqu+1Ttz9um1feYTVlaywzQ8bVZJxtOWqHzrzm3700K86vsNrytR74r1fAPwOGhvutse2UHTz9qj355hN2uF6B5fVQsWJnaB/X3PI5W73rM/HemXDJBvu6fOu0d37wH2zvM/9PvF8IkeowCIisnzu+8Lu2+Z6vXbdO6u9usb0//mM7/vbfWc/FBhuYZ8bVutu+GOnYmo1WVLk63nv9JMbVsTe/7X+hY3MiHVsw+ejgrqBj91ixH8PStbfPasYVdXc0Hbs8k8FiY33dzfapOx637avvDfo1OysvfkRMRkPLEdddr1l6WnrQsTWuY5dVbogfFdNhEB3betIOnH7FnnzD49qzb8ePiJmw+b5fsl2f+Cd+D6uz/OLq67p/nT30E6vf+7T/fN4aj78e7xVCpDJp6RlWu/E+W7bpAVu169NWvea2+JFpcok+2lHXsM3Wdv6QvfvDP7RT734/fnDhwAxerGtFphKm0ooVK0JmEzOBkelE3/PQ0FAwmaYLfVts9Esz+9h9991njzzyiC1btixkWtFX/u6774bXwpTCpMJI++QnP2kf//jHwzExoxiZWM8884z91V/9lZ05c2ZGxyJSi9/93d+13//934//WpykRMoCFxPT95F1xYXOVH+4v6RhTpYFRXnMKQwopgjExOICZ1E6HsMtpy6yrsjEokHZuHFjMLeoF5ec8sxNyuvR2MxGttR8IC0900prN9qqnZ+yHR//x3bnF/7tpNvme79m5cu2Wm5BuTegymwRHx21FevswV0/bw/u/Dm7ef3Hw98yrUQqcGlsxEZHBuzS6MxHVaH0uW+NeR0jwwPhpxBi/sA1OzbiQar/DMEh23UQtQfDNjZM4DuDFbIXOGkZWVZas8l17Kdt5wfp2Hu+auV1WyynoGz2Bl0JMQPqytfZwzd92R5wHXtTrGOFSAWC9hxCew5f9/0r1OWamM5rIcT8ges/xKDXce16NOv/Gwt1jQ4P+q8Lsx0gO4llbLZv3x5MIvqcDx06FDb6k+mHDm3pDKEffOXKlWH2MaYHJIkD04pMK9bPIvHi1VdfDetakR3G/oMHD4YZy3h9jDVML/q+6UsXYqGQMhlXmExM6/d//9//d/jJAnQ4zEzvV1VVFZeMYKq/EydO2Le+9S378z//85A+SeYUGVqkbba2toYL+I//+I/DBUw2FA40DUHS4Y0L/ad/+qdhbs8k/ZIGaCawvtXTTz8dzLfrZbhgsw0V32Jj2ZV2KbM03nv9JBlXx9/6eytZui6YUsu3PBzWB5iM+v0/DuUxukqq11ndpvtnN+PKb25LhtotfajFMjvetszeI/H+xUNR+nJbmnmr/1xmOWmllrZEawSIuWXMRqx/tM26Rhqscfht6xk7Fz8iZkJWQaXlFtVaV/YW3zbTrPHf9PHbcEFmvxVm9tnQ+VdtuFkjiIWYLzC4Z0lWoaXXPGSXym4Ki1sPjkxfK/GMzHTWuOq17I7XLaPrgA0PdIdMo/lEpGNvdR1bMas6Nsm4Orn7u0GXli/fFjKoymq97Z2EM/ueDjo2IzPHiqvXhtHEs5VxtWS4w9KGLrp+fceyeg7EexcP+Wk1VpN5ixVnrLTctDLXr5NP1yjEbDN2adj6x9qta7TeGofQsefjR8RMyKzYYdlLb7Pu0RLfiq4rzi8eOeHbUetvP2ODXfpchJgXuIbNLV5mGUUrrSNzk/VmLI8fmCYeyy6xMSvK7La8sWYbbHzDRjqOxQ/OD44dOxYympqbm62jo2NSA4rkh8cffzwYS2vWrAll/+Zv/saef/75ME0gz5sJ9FNXV1eHPum77747LJlD8kVpaWkwxTCtXnzxxbBhliVrVzGbGLOG0WfO8jf33ntv2M9aW//xP/7HcEwYXFdPfYjpxvNYNwmjS6Q2eBl8JxYzKWNcYTBhNv1f/9f/FYygT3/60+HD4eKrq7uy6D2Hy+PM2/ncc8+Fn5/5zGdC48Eco1x4rHnFdIOsccVF/a/+1b+6fBEncNEzPyhZWLjmpHxiYH3U7G0we+24WVOXWVtPvHMWSDXjilrKCsyWFpvdtc5s27Jo/2Ki45zZub1mnY1mA518RvEDQswRaRlmuR6XFtea1e30n5MvHyimyPAIHdQuDg/7dogOlWibCWsqzTYsjbY1E8dqCCFSnIFhs7dOmu076/rN7+dd/dMzsdFEyKu8LLMqb6Mf2GS2fXm0b3ZU143jvfpIxzajYydfE3pGpJJxVZpvVlkY6debZm852nlDV1OkXzv8+96PflWisLhBBB3rsWNxnRlLsRS5ZhIzp6HN7FSL2UGPSQ97PDoTwv3Lt3s3mD3ozTH3sZzJl9AWQqQYaNXBIbNW12vPHjR790y0cybhLIOvNteabaqJYln6+eYTTz75pD3xxBOhHzmZ1etqMJNYa4hpApm9i/7r//Sf/lPoW8bEIgNqumBaYUDt3LnTfuEXfiH0W2/atCnMPEZfNutZkWnFtH8XLlyInzUR+sB/67d+K6x1VVRUZG+88UZYguett94Kx8U6XONhPawNGzbYN77xDXvssetfn1eIuSYl5oDjYmWaP9Igya4iBfPIkSP20ksvBXeZeTqPHj0aDKsf/OAHIVuK/Q0NDcHI4uJk+j9MKCGEEOJGkO530OwMs3K/9awoNyucwfr0aR7tZ7jQL8mP6ijSGvdCzDtoCzCcVvo1XDCDNY7pIMCkqvQ6VlVG7cB8NK2EEELMHwr9frWsNDLjs1zPci+bLvnZZjVeBwNS8/x3NK0QYn6AzuSaxXBmQE5NsVnuNI1n6hgfE9eURO3CQoJZu7Kzs0N/M33PSb8zxhKzfbE8DUvZTBf6wSsrK8MaVZ/73OdCMgVZXZhmzEJGogVrWtHvTabVtcCYamlpCSYVS+HQn06/OllVmGJCzHdSwriiIWDtKS4ssqswsJgOkLk6cYkxrHC++fnCCy8EBxkji0YCmMuTC5wGhLrYaAQwtZLtathHg8BPyiZTCAohhBBTwW8dlolI94B/ZYUH/nmRcJ/K7YQilOP5+R4gUAedBzMxv4QQHy0Y0BUe8C8vNyvxdoBRp+ybKknAj/m1ytuSYFzFjwkhhBBzQQGmU0mkQQv9d8wr7l1T0rFehnsX9yv0Kx3WOZkyroSYb3DNYlZVuY6t82uZAVihHYgf/yAoQ1uAhsUIx/yqdi2bu8BmEKavOCsrKyRb0PdM3zX9yEzDx/SAXV1d0zauyKhiHSqyuB5++GH75Cc/adu2bQuZXNT33nvvhWyrl19+OWRaJdMDTgbGFX3jmFess4XJhiHGlIC8jhDznZQwroDGAOOJtaqY9m/r1q3BWMKk+od/+Af727/922BksW/58uVhWj8WrsN0ovFgrSoufOrhJ3UxBSEXOK4zv483sLigaWSoj8aBxkcIIYSYLnRYMzUCHc6IdUatfRiI/Ay/AzOy7ZbVZqsro6lV2CeEmF8Q4DO6FOOJ6T431kzPfKLDb70/j3agtnThjVQVQgiReoQBWOnR4Kvb10YG1FQHXmBSYXihfZnadr5NCyaEuALmVV1ZFM8u959lcRbmh5G0IbQDt3o8W1sSG+ALLJ6lj5n+YvqYyWCib5kMKAymq6fhmwr0YWMqsXbR5z//ebv99tsvL49DggbrZv3oRz8KUxbyGpMlYowH04zjIfOL4+EYMdk4Zl5LiPlOSn2LMZx27doVUiVZKI7p/3p6esJ8nly0XIwsUIcrzbpULGCHm0y6JtlaXJhXNypcxJhX1EMDg1GFkcU+LmwaAZ7Lay9o/Lxk5RRZfslSyy2osKzcorB+1bXIyMq1vKIqyy2qtOz8Ev97BnPfCCHEIoBp/hDsBP5M98doM0adMXot66oOAEanEuzTqU1QQPltrlMZ4TbTaVqEEB8tGNFc11zTmE+YV5jSxS4tMaGSUewJSYYVj1GG639dddRZUBGPWhdX4zrWtWte8VLLKSx3TVto6enXHiVwWccWVlpOXqmlZ0rHCiHEeLgv0WFN1hXrTaNjGUiBRkXDjh9MRVlmCWA/GRmUo6Mb/bu2KpoqUAgxP+FaJ35Fw9IOMIgKTUtWJpoUcwqtm5BML4iGZZpr1rTa6vEsA7h4bCrm93wjMYDIbKJv+vjx42EKP7KuPsxYGg/91dRFHzZ93vfff39Y04pkDOom0+qHP/yhvfrqq9bY2Bj6rT+sfswqpgmk37y+vt6ampqsv7//fckbQsxX0n/PiX9PCTCbMJEwrUiVvPPOO4MTzQV91113hUXruABPnDhx+YLkcR6jAUgaAvYfOnQoXOikSTLPJ40Dz+V5e/bssddff93Wrl0bjLKKiopQ5qOmqcvsbJtZ76BZ/1C8c5bIzMkPC1pXLN8RfuYVV10zkE/PyLaCsjorX77dymo2+e/L/Pmzp0i5lyXCl44abnKLjYFus+4ms8EesxH/vHVPEXPNEtdbmQhQF6YsaM1PMTsg0OmcZp0ANqYLY5oERP7wmF/jo1G54twoyKeTGoGP0Efw0x7KtBJifoO2IWDHkMLQZjR6MuVK/7C3A/E6z7QDdBSuqTTbXBObVuXR/qmMcE1lmjrH6djpD0K9Jkv8X9CxS13HrnAdu3R9MKbSualNQqRjl0U6ttZ1bPlyv//5BzIL0F7zGaNf+RwXG4O9kX4d8Jgl6Nf3r18uxJwQdKy3qTmum4q83cyWWTIroFXpmKZdIyZn6uscvxcNjlxpx7Nd02JWkVGBUUWWMIM06ODmPpfudYzv2BZCzC+4fPFmMKQwrYhnMbEZaMVirEPeHozF/VXErrQDtAFbay2s8Yp5PZ+zrY4dO2a7d+8OBhAzc11t+JAAgUmFmfTuu+8GY4nymFj0PU8V+qvp82Z5HGYR27BhQ8iOYqmcJ5980p599tmwvlVbW1swpKZiPFGGY6AOlth57bXXwrGdPn06JGtw7OMh24vXv+WWW2zLli3xXiFSlyX+JZ933eXPPPNMWKju/PnzIXXyG9/4hn3961+PH43AnPr2t78dLnouSqYVZPpBGomksWG+UOYS/fVf//XQWKTC/J97G8xeOx4ZWG098c4FCDdGbm5MK3DXumiU12Kj45zZub1mnY0e/Hf6zTDu2B4Pl+fAUK8NDvfZ0LDfEP1GV5RXZjlZEyO1sUujNjo6Yv1DPdbrlSU3p7ycQg9Civ27neEiIj2UGR4dDGUGh6IbbGZGluXnFHtAkmvpaZn+mmM2OuZ1DcZ1xT0S+R4l5mUXTaxrJK6LY3OyMrL9NakrZ0JdfYPdoRzvh8+e18vNZrR0pqV5FEqZoZEB6wt1DUR1eR35/nr8TOoaGRv246KuKGWaG39UV4FleJkloa5hP1cD1jvYFX4C7y3Pjz8rg7oywnuiXN9Ad3hNGkGOg/cYjsvLJHXx3vr89YbonYnr4jUz/b1yLsb8gwvv0cuwXakrOq6oriWhDHVxHoZHIlc6JysvlMtIz/Itw8tEdfX2d4ZzBpzrUFeWt1FxXSPUNdQX6hoZjSLKpK5Mr4vzOhn+dMt1oVnsArNup/+siR8Qs8aoXy4dfd5+95pd6DBraDM70WzWGrfnTMOya6XZKhf41d7+MT0gnQVCiIUD7cCAN82d3hY0ejtAG7Df7/ldcVxLgM90gmRa0QlIZyGL2i8E3quPdGwzOvba0/HPa+jMYWQy+vUmb88XG11NkX7tOGvmcsVcklyTRMcODPfaMJos6Nhyv/dNNBETLRW05+AVHXu92hNddkXHFntdsfZMc43ndb1Pe3pdlJuoPTmurivaM64r1zX2Fe0Z1cVxJdoz6FjqirVnomPHa88P1LHUNUF7Frn29LqC9kx07NXac7yOnVx7jtex47Un9fAeIWhPP+/jdSzngVhkfF0TdWxmqIdtvI5N97r4fIKO9dfDhJ5Mx/I4Wv1DdSzZrHWup3ZEg7DE7MHgikH/OGi/61vN3jkd/QTaPQZbLCuL4ndMLPYxWEN+lRALB7/NBdOaePaiN+PEs2e8HUDL9sUD6ze5hkX/MHiHafJpB+b7AExMoyeeeCIYP5hRV5s9gHbIzMz0e1R6+J0yLEFDcsRU4X7KelnLli2zL3zhCyFRg/7qkydP2re+9a3w+qxVxSxhU4VjoZ+bjfo5LmYeS2Ycu5pVq1YFw4x+9MceeyzeK0TqknIZV1OBi/m5554LFyGZUjjFmFJXwzSCNAqkSx48eND27t1rb731VvgJt956a3C5uXCTi/yjZi4zrlIJzrQyrj484wpD6mzLETvS8LbtP/OKnblw0IoLKq2koCouEUHA3d3XZsfO7bY3Dn7fDta/Zkf9OQSD+bklIWgkqCRAbG6vtz3Hn7O3jz4dyrR0NIRAPcsDWUys4dEh6+prtaNn37HXD37PDtW/HsqNeZCZn0NdflP04LpnoMMutJ+2d48/a+8ceyaUudh1LgTo2RnUlW1DowNeV5sf/5v22oHv2mH/eczrJXgn0CWA5dg4rsbWk7b72I9t9/Efh7rauhr9mPJCfVmZXpcHy9R1uP4Ne/XAd+zI2bfsxLk94cRFnRpRwN/jwfK51hO2++gz4dioq6O72QN16sp2sZHj56svvMeDZ14LdR09+7adbHwvfAaYfVGQTl0ddu7isXCu9px4PtTV2XvRcrwu3h/HRuDd2dtqB06/Yq8d/G6o6/SF/aFzhs4DAnl+7+lvt4bmw/b2kaftvZM/CXVxDLlZBSFIp4MD47HL69p36qVw7qmrvulQCPKTui75v24/rvrmQ/bWkads78kXQl18HnlZfuz+GXJck7Vn/paUcTXHcNYZA0H7xvQJjDy70BmJf1jqAn/nChf6pZFphchPgVuPEGIW4ZJmxCnXPzpn0ONZtF0S8JNpeduaKNjP98eZfmmhTKsyVxlXqYQyrqaecYWJgY492vCO7T/9ctBBaFi07HgwV9CxR8+59jxwRXtizhS4XkyLtSd6san9jOtYtGesYzvP+jXkWtG3SHsORjrWH0OXHW54I+ipSx435ue69nTdic6jrgttpyLt6RvlW7vOBz2MJkMzYkZ1e13o16A9/edx19pIdoydxFBDg52/Snu2d18I2jPoRRdfvEd07CHXnq8c+IdIe5537el1JebcFe153N7xuvaceC7U1dHTEkyizPRYew73Wic69vSrl3XsqQv7wrnEnEMvogPRi2dbjgYd+16sY9GZQXu6Xsz094qx2OXals8n0Z7EGzw/z8tFU3JeCsd1tfbsdm2b6NNEx6KT9518yd449P1Yxx729i09mGB8hpGObbczTQdDXftOvRjq4vPgPCR1oX2vJuhYZVzNGcm9i+wqtOnZ9qjjGojVWcNmnd+/Sv280wZOdT0sIcT8gWufDQ3LoCoGm+N9nPP2INF16FiMK2YYCVlW8XPmMx+WcZVAH3RiDLFNZgx9GNTNc8mqYiYxZgpjRrADBw7YxYsXp5xpNR7KY1QlG8d1rTqUcSXmG/PKuOLCY3vnnXfs6aefDlMKrlmzxrZv3x7WvBoPrjNZVBhX7e3tYY0r3HAaCBxypgi8++67w/O5cCmfCsi4Wjx8mHHFdx3j6aQHoiEgbdznAW+LrarealWlE4f4EnA2XDxqZ31r7mgII1aHRvo9MGfE4qUQoOZ5dNfoAXp98+FgEnX0toQRnZcujYZRmhhbBbklYYRkQ8uRYNg0d5yxgcG+UFeGB7jUlZOdb9kePBPsNzQf8TpPepAa1+X/Ql1etjCvNAS5dFJQV1N7fcjyohzBMhDEEpxyPA0t0XHR2RAdV5RRRdnC3DLr6m8LrxcdV4MNeV1kj9H5kOblcrwuytJxQF0cX1KXLWGELHVlW1F+WXjvnIfLdXkZRvBGgX6a5eVEI0yjuo6Gurp720IHRmQIxXXllVt7T1MI5M+3HreWzqguPrcrdRWG55y/SF1HQl09fR1RXfE/zkGh19XW3RgCeeq62HkurmsoHEtUV3Sh0KFBR0RT++m4rv7wOOefkbTFBeXh76thl4yruYWvB/OEJ+vXkHlxssUD/zjjik7OHcujkaoyrYRYmHBdE8TTqYfW6fbb0PFms54oESNMDXjzqmgtvIW2FoCMq4XPVI2rSMcO2snGvUHHnnY9iy5btXSbVZX4jXAcmB3omnMtrheD9uyNdCymiddDhhaa8YJrzkQvXtGxscbzsoV5JcEAOet6EU3M4KyBIWYtGAg6l0sNTYxWQhOjUamT1w91JTo21FUWDJZExzZ3RDoWvRiZTEtCXehBtHCi8S5rTyfSnlFdQat7XWe9Lo6LMmQuBb3o/xIDqLHN9aKXo07MvMt1+ethphXllwcjqx696HqwOdae43Us5wqzqNF1LMZh0LF97Zd1LBtmH3W1dV8Ig6SoCxMw1BVrT+JjjDBAE/MZMWjtivaMGq+sjNxQ18XO80HH8roMZqMuzEvqweBDx5IBh87lfDVTVz+ZZf3heKO6cqw4v+Jy3eMJOlbG1ZzBKed+REc0+pUMC/omgFkC6KgmU5g1b0Km1fs/IiHEAoB2gGuca53+um6/1x/3+z7aDjCuGIiJHloIphVM1bhif2JeXavMh8HzMKfop2Y2MGYSY5o/TKuBgUjXTBeekxxb8vu1kHEl5hvzyrjiIuQCf/PNN+1HP/pRWLsK02rjxo22YoW3nOMIgjwz0woKCsI0gayNdccdd4S1sNh27doV9hcXF6dMthXIuFo8fLhxNRZGjRLwk8GDCYTBsWHZre8zrs57AP/usR/7b0ts88q7bF3dLltTsyOYUHQWlBZWW1lRTcgKYnRnXeV627rqbltdsz0YTATkmF1Ly1eHTKfdR38cgt+tq+6xtbU7Q11kDB0/926oh4DywKmXPTg9YMsrN9qWlXeGujBpCGoJVGvK14TAfPexZ8Jxb19zv62p3RHKdfVdDEZcuddVkFtq+70uAuuVS7fY5hV3hDJMGVLfcshGRkespmKNXWg9be8cfToE9juoy49pRdUmr6slBMnlxbWhA2H/qZe87ElbWb31cl10UJy+cMDPzyU/rrXh/b5z5EdW4O9959qHQpnlVRut3T8QOjoqiupC4Mwo0Ob2M+HxTStuDz8zPJA/3bTfRVqa1VasC6bV20eeCiOId6x9IJSp9fdORwCBe0VxXejgYHQq55ZzsHHFbaEcQTyfB0bfsooN4bN++/BT/l7qwvmiTE3Z6mBi0WFSWcycmpds74mfhA6QtbU32cblt3q5HXwNvK494b3WeV3UfTUyrm48TA129MIV44q2jvnAafuEEIuDFr/f0w4kxtWK8qgdoFNgoSHjauEzVeMKg2JwZMD13t6gF9GRaJSgY68yrjBNyHpiINLW1Ve0Z+9Ahx0L2nOplbiWRcdSX6Q97wo6iQx+tNvAcF/Qsa2d50PmE8ZMUhflMIHQXNTFYCH0IgbRcteSl3Wsa0z2YdygY9GAzCqAEbR9NTp2u+vLLcHoQleiYzFj9p98KbwHHhuvPdGIzJ5QU7E2aEJ0LBlkkV7cEbQnJhRmXHlRbciqIluJgUkYfIn2xPw6E2fz13pdlH/bdWyR6/Edax8MZepck5LlhcatcL2Y6Tp+78kXXUOeDa+1Kdae6Fj0JjofHXvGNS06trRw6WUdy3sn++xC2+lQF5oXHdvec8HW1e66rD2Jn0+c3+s6P9t17Hr//T3X10+H5yQ6tqp0RfhMgo71z50Bc2R/YaStq7vJNnhdfNbEPWSzMUCurtJ1LKL1KmRc3Thow7lvJcYVA664bzGbgBBiccH0obQHiXG1siLWse9vpuctUzWuZovEXCI7CrOKNapmkmk1E2RcifnGvGtqEMh1dXV23333hflAt23bZlVVE6dNg8S44qIkuwrj6uabbw4XJz/Xr19vZWVllpMz+ZRaQnzUMO1IS8dZY95/pjZhJOm1GBjqCQEh0/lh5qz1oJKNQJdRqZhe1ENwTFYPxlNUZmcILnmc/QTqGFhMw0KHAwF4UhdT8TFik5Gs1NXe0xyMnpKCystlCLoZaUpdZAqxHhVBLxCAU4bglFGVF9qpqyuMxCRriU6AkoLqUIaguLRoadjHY6OjIy6UmNLlZAhkqSPpiPCrPQT4zM3Pa2IOcQx0JiR1cYydvX68fswcO3Pvc16YsoR62HivjLTlvfcPdYdzQV2cG4yspK7igopgSnVQlwffPB7q8s+HMtS1onpz+Cya/DNhChZGwbZ1nQ/nrrJkxeW6CnNLrdXPFRlrSV2MaGVELY9T1zIP3pkqh8+XuoaGB0MHAGskVJeuvFxXQU5JGCnLObsRgkcIIYQQ4lr0uqZh4A16krWX0EnXAu2JSUTZFVWbYz21KzyHzCMMrEjHRtoTwyYpwwAhTLH2WHsyaAstx0CfRHuipxjQQ5ZVoj2pi6001p5smFpoSLQn2fN9g11B+wKakzKRjk0LOpbH0WjoQrRcWeHSUAZdxqCxjqA9Yx2L9kTH+nGsibUnx8dxomPRzEHH+vvAZKtwTZ3UhY6lHo6XNaku61jX5tGxRzqW88eU4ImOxXxCWzLwKamL7K+gY/3YMJGuaM+cy3VhqHGOEu3JDAfU1e/as2qcjmXwWWvXuVh7joXPgWwqBqzxeKJjeX7IfhtGxw6EzCze79LS1fFr7goGZKRj40WVhBBCiAVMkpiBccXsYPwthHg/88q4YpoBzCgypn7nd37Hvv71r9s999wTFrYTYqFBsM+6S0xBsnopmVFl8SPvhyCWQBAYLUrwxwhQguPBkf7wOKYMQTiBLHVSho3gcuzSSAiWw6gPD2KTaeyYa/5yXUvSw34CWcpRnvoY0RrVVRSCXh5n8elQl/+eTGPH40k5/qYuzB0CXY6JwJ9jSV7vcl0cl5GOHb3HqK7o2HmvGM8sXo3xw3uM6hoJI12Tuni/LATN8VKGxxkFvMTfE4YP5cjkoq7hUd6j1+XHT128LmsUXK4r3evivY97j6xbwJoJjKKN6oqGgGJYhePiPca/JwtZU1cGx0Vdo9HK5pyDqK6MUIYtJ+v9dZGJ9/66Mv14B8Nx0QkihBBCCPFRgNZi+mSyo9B2GDQfpGPRNOhCBiPlX6VjI+3JwueRLkPLMcAn0kmuF71+tNgwGs91Gdoy6FjXdOO155W6Ih17pa5JdKw/Fmm8SHtiVCV1cVxBL8bHRTnq4XnjdSzaM6mLYx91rR3VNV4vXqVjQ12RjmWtrfF18RpB44XjivQ172mC9qQu17F0fmFiMRUhup4pvifWFb131CJ1oT0n1BVrz+S4orrerz0ZIJdoeOqiTtbdHa9jk7rQqNFxjYbf0bMTdGy661h/DeoSQgghhBAC5pVxhbDHvKqoqLCtW7eG9an4PTc3Ny4hxPyHoJVgjlGVTDtCUFhbvtYDuw+YT9GfQyAIrGtF8MeG+YTxgvEDSfBJ0JyUSfffeU32Uw+vzXMgIz3jSl1LoudTxv8Xyof1sfyaTMoQ9Ia6PDCl04Lfo84GUsnj10vqCsfFP6/Nf6c+juVKXWnhWNgoxE/q4j0lZcIaA/58jovX8v+FesJ79GO5XBfvkWOiLl7P/9GxwXEkZdggOS5Khd+vqmuJH1fyGpAcF50tSRkCdoieH50HylN2wnv0A0j2Q3S+OK5J6orfY3Ts0e88dqUuP1/j3qMQQgghxI0maBXXI2S5Mz0eJhPTNDMY6loE/YPGdI2DTky0TaRjo0FOXiT8RA+N17FB4/Evfj7/0FKQ6KSgPf3vy3rRyyTmzkQdG2nP8RovaF8nKYM2RkBGWjcqF9U7UV/zO/UEncc/3iPHNUF7TqLxKO+/MyDqSl3jNLHDz0gTX6kL/R/eYzgu3uOV45qoPcfXFb1epIkn6msI5zQ68ZePcYIm9rrQpBPO17V0rB8Xr8eRJVo7bZyODXWNOy4hhBBCCCEW0KykQiwMCORGPbjr6m0NU3QwTQpTwjEq81qEMDAOeCdl/G4C0GuVi4nquapM2DVuf3g9foa/YpLHk53+c7LXG/fw5R9XH/9kZUKJcWUSwmvEJL9PKMYfycYPr2X8c67m8kPJ640rm/w64enXCrKv7Ete732lwv74MX7n2MJfVzFhZ/KccTuTXyeUE0IIIYS4caBiMFUiHdsQMtXRsXkfuCCRi5cP0mUxQSEFnXRV2XF/RtV4icnqm7CP3ycpA+PKva+e8LTxz41+j8ol+2Ime72r64Nxu5J6Jil1uVz44eXeV+byMYzbJn298fuo51rl4p9AkQk7xjFu9/vL8ET2Xdkmf71x+65+SAghhBBCLEpkXAmRYjCv/bmWo2E0IvP2sw4S0/ExwvGDuMQwy0kIu6/x2LS4XFFcWVLnhLoZGxv9m1huQqH3/QnXjFEnKTuR5PVikl8nPI8/ki1mwuMTufLQ5IVCTRMeulZl4/b7r+9/j6GmeIsZ9+t4PvT1kl3XeL4QQgghxFzT3ddq5y4eNTJn0LGsg0TW1Yfp2GszUdhcS+9eJjzu/5ukHJlAU2MqLzJBfcZPmfg8Xu/KnomPTeCqh6bi20xeJtHE4yqc7D2HfZPsnwEfXlNSYmLJS+87Lv97Fo9LCCGEEELMf2RcCZFisOj08fPvhmCXta1YgPrDSQI9gr6wIxD9mgSxMVcHiuHPuEzyED+vKhbKTHju+wpEUCZ56JoBaPJ64x6b5LhCmbDFXFXkMv7cKw9do9D4Mtc4rsuv9wHHFf0Zl0uYWCSC17vquYGrdk0oE36dWCD6i//7lpQNf8b7xsHxj3uXQgghhBA3lDbXsSfOvxempGNtq6L88viRD+EaminSSfwS77i8XeFymQlM9vc4lTTZU5Iy44/l6uPyP6OXi8pO3K4Q/XX1fv/96vp83wTtdvXDgbjMhOOKf44n7Ese4Odkhdg7/hX9N+q96rim8nqXy3xYOYpMeGCSQs7lMpM/LIQQQgghFhkyroRIMQaGej3ov2CNbafs9IX9tuf4c/b6we/ZmQsHrK3rgtU3H7azLUesf7A7foZfyGlpYTQrcd7AYK8/1hO20UtjYRFm5tmHMI98WmZYPLnPn0+ZoeHB0LkQrRe1JJTNSs8Js3X0j6uLDDCmLQwjZj0CTeakHxkZulwXiyqHuphn38uEuvz1qax/KKqHjVG4GRlel5flNaPjygiLSF+payi8Vpgb3+tirn8yz5hCJamH98p0IxzXEn+c+fGpi+fwvi7XNToUnp+sccBc/yzAzVz6SZl+P+/UHd4jxxXeY1Yoy+LUV45rOJwrXoMy/Ly6roGhvjAU9kpdaZZJXX4MLMydlONz4PnJWgKX6/JzfbmuYa8rfo/j6+J3FtO+UtdIeH+sFyCEEEII8VEw4Jqkrasx0rGN++3dY8/aawe/b2eaDob99c2HXMceDdolAb3HlIIwXseyLlLQP2g8fwyNl+nbiOu6K7ps8LL+Q1Oi29C+kfYcV1fQxIledI2Xhi7LvEp7uo5FL17WeJGOHa890cZj/neixXBZrujYidoz1JXo61AXOha9eKWuRMeG9+ivGenFiXWhtdNi7cnr8TP7cl1RGeIHPyzX19E6VrxmdIzo2InaE60Y6cVxOna89nQde0VfR9ozOcb361h0d/T58F6zMnLfp2PJDgufj9fDsfE58HPIdSzxDOVY/yvR8ByXEEIIIYQQMq6ESDEGPcDr7GmxhpYjduDMq/bK/r+35979Czt2bre1dDaEUawnG/dZ70BX/IwrRgwQAPYOdIbHCQKDcRUCysiIIYglGO7t7wplMD94PASnHkRGQbrX5VEmQWdSVxTwX1WXB/2YOkldBLNRXXHnQagrNwT8ff44dfGTgPZyXSFIzw6G2rAH1hPrihZtjuoiSI/qio7J6/Lju3xcfuzj6+L5V+oaDM8PBlHoiPC6Mr2usTEvE9XVP+B1+T/qWuLnc4k3jwTWlB0a6r9cF+cuBOnjzKbszLzwni7X5QF4CPjjDpIoSM/2zynDBof6rC+pC0MtBOmZXhOdKJnhuCbWRacGHRHR5xPq8vdIR8T4uujEuRzw+3sUQgghhLjRYFR09LqObT7sOvaVoGN/sucv7XjQsWft5Pk9dsp1bN/gFR2LpsnOjHTsBO0Z60V0LjoJDYvhNFHHRtoTPeWiK/yOXsTFuaI9XeMldfnjSV2Rjr2iF6kr0ouR9kSHXtGe4+qKTbDxOhYtN74udGioy/dHJtg47RneX6wXL+tY6oo0XtCx47QnWpvnZ2CCucSL6kJ7jtOxsfYMGjEc1xUdO+h1JXpxaHQw6MVQl58JHs+JzabxdUFkMEV1ZfEe/XdMrfE6NtKekY7lZ46/R9Y4S+rCiITLA9a8DuqiXuqKzmuiiaPjFUIIIYQQApa4EKdPVKQIexvMXjtu1uSxXFsUMyxICJTKCsyWFpvdtc5s27Jo/2Ki45zZub1mnY0e5HeaeYwXaGo/Y+dbT3jQ2B1GT3K2+j24333sWevoabZ7tn7e1tTu9MBviRXmlVlN2eowveDBM6+FhbAJpglceV4agbIHlFtX3W0rqzaHMqca93uZ0VCOMtRDILnU66Eca2wdPP2a9fS3X66L4D0E5h5Yb111j9VVrAtlGD07WV21/jh1heM6/WpkVk2oKy0E75SpLlsVyjQ0H5m0rmWVG8JrtnQ0hHKck1EvFxGVyc0uCHWVF9WG4zp38dikda2o3hzKXWg9aQe8HCM9k7qS48rPKQqvV1xQGV6v0ctiACbn1KvyutJt1dKtodxZP24MRkbDXn1cBXklts3LFOSUhDJNbWcm1uX/p3NhTc2OUNfpC/vC8VPm6rqYaoe6crLywrFzPsbXRRne57q6XaGuyQJ/duUWmRXXmtXt9J818QNizjjbZvb9PWaH/ToH2rrP7oraPiHE4uCA3+9pBxo7or/v3RC1Azn09S4w3quPdGwzOjbqr15wlOabVRZG+vWmlfHORURXU6RfO86a9aNfR+IHYi60nbbGNnRslAWERukd6AiZV12uMdGxq133oKeK8sqD/mzrbgz6p9u1J9oGIl0WDZRC1yyv2hDKoD0pk2g8tC6V1ZavDTqpo6cl6F1Mk6vrysrMCXXVlK0JZTDXyFi/ZBPrWlaxwbatvscudp4Lr8msAUldSbmcrPxQV2XJslCGdb1GRkffV9eKqk2hXJOfF16TAWNXH1deNtrzbistXBrKNLYen1AXZdhWVaM97/bXOm6H/DUxoa6uqyC3JLweMQLH1dR+Kn6PiY6NNOPqmu2hLs4ndQ2PDgftfLmutDQrzC3zc3q35eYUhjLEKJhSV9e11uMSXvPk+ffC8VPm6rqK8ytDXcyecMjLRDr2/XWtX3ZzOC609tUEHev6qbjObNkO//4sjR8Qsw5tOPct+iZgg59r7lsrpjjzpxBi4bDP7/ffezdqF+C+jVF7kL2Axhk8+eST9sQTT9i+ffvs1KlTYWDIQmXVqlW2YcMG+8Y3vmGPPfZYvFeI1CX995z4d5ECYFjR0dk76MHgULxzAUKHfW6WWUGO2fIys6qiaP9iYqDbrNuDfwY1jvjnnVjIBJyYUcs90CWoZKsuXRnWDBj1oHL7mgeCQdPQcth6+zvC7/n+HJ7HFIO7jz1jp5sOBPOGzoCb13/cKovqLCe7IGRSMTLy6Nl3bN+plyKDx4PGTctvD2ZYkQe5TInCQtoE628ffdrqmw+GcrXl6+ymdR+z8uJa/+zyg/GE6XLk7Fu2//TLoQyf6+YVd9gq1ubKixbjJnBubq+3t448FY4ZU2555UbbufZBr6smGDGMGuXtH2540wPeV0NdGC9bVt5lKz1IxwCiLjo4Gj0Af/PwD+3sxaMhgOY87Vhzv5UVUld+qG/Mg/hD9a+Hjbp4LgH1iqrNwURiNCp1nW89bm8c/kEo09Jx1l9ri21ffa+VeSScnZUb6mMKGYLwww1vhHLs27b6vvAe8j16ZjQq65Ax7c2bR34YyjClY2JslRUkdRXY0Ei/HTj9SjhnlMvPLg7HXle53usqCqN/CezP+Dl/++iPQhmy7/gObFl5t5UUVoXznpddGDpR+AyPnXsnlOMz45zScZOXUxg6AK5mSZpZZraZPxyCfX6KuaWr3+zoBbOL8UAE2jqCf9o+IcTioMXv97QDPQPR33T80Q5kvL9fdt7T1DlOxw7HOxcY6Nd8v5eiX2tK4p2LCBJo0K8DHrME/XpV306kY9dM0LFVJSusvedC0Jw7XMeWFVaHqa/JuqpwXZmfU+z3RdeeXeftHdexZ2IdW+OaBh1LGfRXVqw9jza87doz0rGMwUR78jqFQXvmWKFrIowRtBRTE56/eDwMhNq57mGrcN1MXegpTBU0GdqMuhjAhPZEw6GrGLCFjm1qP21vHUbHHrELbadi7fmg68WaWBO79vQTgVZEM1JXYrgxcIy6Ik3sOtZ18JuHnvQyR4M+Dtoz6Nilflx54dgwkQ7Vv3ZZx5KNhvZcUbUxnN+gY9GeXsebh6nrmLV2ng+aeduqe63Uz2+OH1Nu0J6DkfZ0jU05Bntt97o4HwV+3nmPxXmVQaOj1SnDwDO0fGSmVYf3l+vak1kh9p962eOIt0M5ns/nWVux3rVnUXjPxXkVwQxLdCyD6higtWXlnVZSUBUdl9dFZt2+k1d0bLGfm51rH/LPfE3QudfUsa6f/KWsqNrM34qYI2jDuW/RNwHlfq65bxXnRX8LIRYPGFa0B7QLsLIi1rELaP6uY8eO2e7du625udk6OjqCtliolJSUWHl5ud1yyy22ZcuWeK8QqYsyrlIMZVwtHq6VcTUZjM4kG4eRqssqN4aAjuwrzJ2K4jr/mWmDQ71hCpbGtpNh2jioLl0VzKsQ7HtgypQcZFKRRdTR2xzK5OdEHQxkGEWmz2goR8DPiNlkJOdSL4OBNr4usrN4vc7ellCGwJy6CKYJ5Hkuo22bO+rDa0ajL5eEoLS6JKqLufhDXR7YUldXX2uoi+A+1JVXZjnZ+TYyMhymn2luPxPqYhQq041g8tEhQhmmVqGurr6LoUx3f1uoq8iDaF6Tzgdek+wojgvji/cIaUsyQpnKkuWhDOeWc8p0N9TFaGEozq+K6sotCeXoEGDKPjoyLrSfCmXS07K8zGqrLF4WytDJwnF1+meGcZdMj1NasNSWejnMtKiugXBcvF5zx5lQhs6Jpf56FZiPoa60UKa9uzkce7LWGcYdnxEZY5wLOmOuxt+SMq5uMMq4EkIo42phoYyrD864mgwMDzL+yahi4A/myRUdu8x/RjrpIjrWNdDIWKJjV7u2WRX0z2XtGevYzljHYnihpRj4QzkGL0XaEx3r2nMSHYtZg8br7msPugzdCGQYofEY3ES5kbHhoPEiveja8xLaMy3o06A9vQwDwtCnGDSR9ox0LNoTDR7qCjp2vPY86SUuXaU982Id2+vvzXWsl0GzA++N1yzIKw36mqkSORfoTvQnEAtQpqJkWSiD9uTYyUCjrkTHYh6Fulyz85qJjqUMBh1kuPZEX/PZUCbSsa6J/TPjPV7WsYVLQ10Yj5wLBmgNDFLXiaD9gQwryjDQjjJkonG+MMeoq3/oio7lXOR5Xbn+mlG0OJGgY5VxdUNQxpUQIkEZVwsLZVyJ+YaMqxRDxtXiYTrGlRCzgYyrG4+MKyGEjKuFhYyr6RtXQswGMq5uHDKuhBAJMq4WFjKuxHxjASV3CiGEEEIIIYQQQgghhBBCiPmMjKsUI21JNFdsJlv6At4yop/p/j55z4sRpm5n3WFGD2rTdiM3vneTLB0ghBBCXBeXdWyi9xboxntczPo1jffveiL9Kn2hTdtcbuH75tcf379JZhIUQgghZkR6erplZWVZTk6O5ebmWl5e3pxs1J2VnW0ZmVlhy8zK9tfMDRu/J/spM1fHQb3ZXj/vWYj5gKYKTDFY9HBPvVlrj1lnX7xzgVKSZ1ZRaLZrhdm66njnIqK72azpiFlPi9mAf95h+Sch5hCC/Wy/5gqrzKo3mBVUxg+IOUNTBQohFtNUgUe8rUPHMk3gQtWxxbnRdIHo10218c5FRG9rpF+ZMnDQ9aumChQ3igk6dqPr2Ir4ATHraKpAIUTCYpgq8MUXX7Rvf/vbduzYMTt79qzNVTf56NiY9fT228BAtJZnZma6FeS5sHS6+/ptZDjqFMzJybLC/NywvvlsU1dXF6YL/Jmf+Rl75JFH4r1CpC4yrlKMc+1mJ5q90er3wHAw3rlAyc8xK/I2em2lWW1pvHMR0d9h1h6vDzDsn/elhTuNrkgRyLTK8muO9QFKlkU/xdwi40oIsZiMK9q8ky0LW8fmZZsVuoZdU2W2vCzeuYgY6IrWae3zmGUI/aqBV+IGcVnHlsQ6tih+QMw6Mq6EEAmLwbjav3+/vfTSS3b+/Hm7ePHinBlXQ8Mj1nC+2S62dYa/8/NybHmtC0qH/b19A+H3ivJiW15TZVlMVTXLlJeXW3V1td1777128803x3uFSF1kXKUY/UNmPR7oj3gQOLLAjYxkKpn8bA88suKdi4jRYb9x9UU/Cfp1IYq5hllVCPoz/HrL9MA/fQF2mqYaMq6EEIvJuFoMOhb9mhHr17xFql8ZcDWS6FcJWHGDCDo2w68/bzulY+cWGVdCiITFYFx1dnYGw6q/v98GB+du5BXG1Gu7D9ihE2fC39UVZXb3zVvtkv977Z0D1tTaHvZvXrfS7vL9+bk54e/ZhGkC2SorK62kpCTeK0TqIuNKCCGEmCNkXAkhFpNxJYQQYv4j40oIkbAYjKsbRVdPnz31wpu2e//R8DdZVZ984LYwiv2pF9+0s40tYf8t2zfYo/ffboUFeeFvIRYzsz9hphBCCCGEEEIIIYQQQgghhBAzQMaVEEIIIYQQQgghhBBCCCGESAlkXAkhhBBCCCGEEEIIIYQQQoiUQMaVEEIIIYQQQgghhBBCCCGESAlkXAkhhBBCCCGEEEIIIYQQQoiUQMaVEEIIIYQQQgghhBBCCCGESAlkXAkhhBBCCCGEEEIIIYQQQoiUQMaVEEIIIYQQQgghhBBCCCGESAlkXAkhhBBCCCGEEEIIIYQQQoiUQMaVEEIIIYQQQgghhBBCCCGESAlkXAkhhBBCCCGEEEIIIYQQQoiUQMaVEEIIIYQQQgghhBBCCCGESAlkXAkhhBBCCCGEEEIIIYQQQoiUQMaVEEIIIYQQQgghhBBCCCGESAlkXAkhhBBCCCGEEEIIIYQQQoiUQMaVEEIIIYQQQgghhBBCCCGESAlkXAkhhBBCCCGEEEIIIYQQQoiUQMaVEEIIIYQQQgghhBBCCCGESAlkXAkhhBBCCCGEEEIIIYQQQoiUQMaVEEIIIYQQQgghhBBCCCGESAlkXAkhhBBCCCGEEEIIIYQQQoiUQMaVEEIIIYQQQgghhBBCCCGESAlkXAkhhBBCCCGEEEIIIYQQQoiUQMaVEEIIIYQQQgghhBBCCCGESAmWXHLi30UK0NlndrHHbGDYbGgk3rlAycowy8k0qygwK86Ldy4gxkbN+jvNBrvNRoaiv4VIZdL8mszwazK70CyvxG8QGtpw3ZxtM/v+HrPDjdHf25aZfXaX2dLi6O/5ACqhv8PvS11mo35vGl3g9yaRWqR7m8SW69cM23zkwLmoHWj06wju3RC1A2ighUYHOtZ1z6C3EwtVx6Jfs30rd/1amh/vXIAEHUvb758nbb90rEhV0tKj+0SO69dc16/8La6PZtd83Lf2NkR/b1ga3bdWlEd/zycujU1sy6RjxY3kso71tim3KN45z9h31ux770btAty3MWoP0EJienT19NlTL7xpu/cfDX8vr6myTz5wmzdUZk+9+KadbWwJ+2/ZvsEevf92KyyY/x2lra2tdvLkSbt48aL19vba6OjCE5Q5OTmWn59vy5cvtzVr1lhm5gIM8j5CZFylGCe9nTp4zqy91xu1/njnAmTJErPCHLMyD/q31pqtqowfWECMDpldPOmfpd/oB/3zHBmMHxAiRcnIdgFKR9xys4o1LrIlRq+bhWBc0VlJW9ZWbzbkbdnwQPyAEDeArFzfvF2qWG1WvireOc9YTMbVieZIx2JgLVQdW+jfyRLfttSZrauOdy5AGHR18YR/lv55SseKVCYjK9KvJX5Nol/Rs+L6WEjG1dhIrGP9vQz1uI5VWyZuIFl53j7lR21T2cp45zxDxtXssRiNq8OHD9uTTz5pBw4csMbGRhsacoG5wCgpKbGamhp74IEH7NOf/rTl5S3AzIyPEBlXKQadm++cNmvtNmv3oH+hssS3Er+WK4vMbl5lttHF8EKDAP/C4Ugok3Wlzl6R6mTmRqNVEdZLN0ejw8T1sVCMqwuHzFqOR6NVhxfwoAqRemR5sE+7tHSTWdWGeOc8YzEZV4fOxzq2JzKvFiLo1zL/XqJft9bFOxcgI65bG13Htp6SjhWpDUZVjseUDG5Av2bmxA+IGbPQjKtG17EY8dKx4kaDaZXt7VPQsevjnfMMGVezx2I0rt577z37y7/8S3vnnXesoaHBBgYWnqCsqKgI2Vaf+cxn7Mtf/nLIvhKzh4yrFANx+Npxsya/KbR50L9Qwbgi24rO27vWRZ25Cw0C/rN7/Qbv9ySmDJRIFqkOI8Jy/JqsdjG6bIdZelb8gJgxC8K48oCftgzzasDbsqEFPKhCpB5MXcrUKrXeJtVujXfOMxaTcfVefaRj6dxo6413LjCYHrDSv5fo15vm6ejpqYBupe1vOSYdK1KbMPDK7xN0Ctf5vQI9K66PhWRcMT3gOXTsYelYceMJOtbjPtqmmi3xznmGjKvZYzEaV2+++aY98cQT9uqrr9qpU6esv3/hCcqqqipbvXq1felLX7LHH3/cCgv9whezhlYwEUIIIYQQQgghhBBCCCGEECmBjCshhBBCCCGEEEIIIYQQQgiREsi4EkIIIYQQQgghhBBCCCGEECmBjCshhBBilmH1yNExsxHfxi8kyf4x37S6pBALn3C9exvANv6apw0YGY1+CiGEEKlEolXHE+5bfi9D2/K4bl9CLGy4xrnuuebZxpPo2/HaVggh5goZV0IIIcQsgsgfdjHfO2jWM+C/j8YPODw2OBztk9gXYmFDoN/v1/vASHTtJwz737QNA/4Y+9UWCCGESAW4HzGwgvvU+M5q9nHfYhti4MVVHdlCiIVDYkwNeTvQ3W/W5zHt+PaA3wf9McxsIYSYa2RcCSGEEDOAvuZgRMWd0G29Zhc6zc61mzW0mp25aHa+w2xgKCoPff57o+/jcco1d0XPCx0BV3USCCHmBwT4mNH9fn139Jm1dEfX/tk2s3q/1rnOxxvYXX6918ePUYZ246I/p7M/qoMOQtoXIYQQYq4IA638fsNAq3bXotyruHc1+H2Jn9yPEhhowb7Trm0TDcu9q7XHrNvvaRqIIcT8hGs2GWjV5ToUPZrEs+hUrvmmq3Qs1zztABqWdgHdi/4lztWMAkKI2UbGlRBCCDEDGImGOG/zoP2Ui/o9Z8xeOmL27AGzH+0ze/6w2bu+j86ABIKB146bPeNlfuzby0fN3qs3O+Pin05rTDAhxPyB2HzU/0cQjyl96LzZ6yf8+j9o9rRf48/6z30NUcdgwvl2s1f82qeteMrbip94W/HGSbOjF6KOQwJ/OhIU9wshhJgrGDDFwCk6n/edjfQp2hSN+sqxqLM6gU5pdO4Lfr96en90/+L33b7vRHOkb8nSUoe1EPMLNCzGc3NnpEPfPhXp0mf8Omd7wWPbQ+cmGtmY288fitqLH3uZ173tOOBl0Lc9rneJj4UQYraQcSWEEEJMA0acEejTwXyqxey4B+zHXOgj9o80+uY/jzWZnfT9dGQzgi2BzmvE/nF/nLI8J9moo55RbR44UD+j3zRyVYjUJJkmBeOaUadc75ev57gd4Hc69Bi5SgdhAiYXZjWPUXb8RjtAXXQkdvRGU4tqSiYhhBDXC5oSYwkt2uIalnsXevXyfSvegh71x8YPuKBjm3vZSde9PId7XNCxbP47upZ7GrqXrI3x9zwhROqBvuzsi8wmrl2u6ySevXxd+35i3WaM6XFmFM+jLaBMoneT55zweoh1MbMxu0ImZvw8IYSYCTKuhBBCiClC0I+phMjf22D27CGzN06Y7T8bdTQzBRjB+ocZToxuY40AsrEQ94x0felolKlBlhaBv0auCpG6cJ3TOUfH3avHotGm75yOgn+mTCFr6sPMZx6jLWB0Kp0CdBq87XUw0p36TrdErzG+s0AIIYSYCWhK7icMvEJ3kulL1lSS+c/U1QzI4L70QXDv4h7IIAymCSPT+E2viwxj6sIQY12cD9PCQoiPBq5NsiiZ1n63686feDxLphUmFAY1upS24sOuYXQupja6l9lHiGFf9HiW9uCgtwtMJTqVeoQQ4oNI/z0n/l2kAKTk0/nJCKfx6bgLjSW+5WaZFeSYLS8zqyqK9i8kxujUavLP0sX7iH+e/C2mT2dPi51pOmgNzYf95wFraDlq51qO2dmL/vPiMWtqP2OtXedtcLjPRdElS1uSbunpGfGzxXRIzzTL8GuyoMKsqNosLT1+QATBTUc0o8dooxHnzPnNiFSm+OMxjKjpZElRjvIE/7T3GGJ0GIR1Anw/C97SVmb457DEf0njj4+AS34ctGU9/n5py0b9+MS1GRoesPOtx+3MhQNW33zIt8PeZh31NuuYt1lHrbHtlLV01FtPf4d//qPhM87MyI6eLN4HpybTt0Jvkwqr4p0fIYxQJaDHXKYNwKgi8L/owTkmE9cw1+50TGfKMq0K136vtwUsgh2Mr3i/VxdGmqV7W5Ce4kPOyBi9rGMXaFuBfs337yT6taYk3rkASXRsn3+e0rEz52ode5b7wSQ6dmi433XBmHTsDAj61a/J/PJIv/K3uAKaMhksdQ4N2xJlS2A6MT1Y0LDxvWvKGta3xAgL9y5vIzCyqIN9iR5O83tWJvGEi52PSMYGHdstHTtlBr0tQseenlTHHrMLrmObXcf2DnT65zwiHfshBB3r8TVtU2FlvPMjgOuR65a4FfMas5p2AC1LW0Acim7j+uXapuyHQRnq5bpH/9KW0BaglfmbtoeNGDbD2wLiWbbFzODQsB0/c84am/0DcIoL823dqrrwO/u7evrC77XV5bZuZZ1lZ83/G9q5c+ds9+7d1tDQYB0dHTYysvAEZX5+vpWWltrWrVvtlltusexstYmziYyrFEPG1cJBxtXscOrCPnvhvW/Z6we/b68f+p7tOf687T35gr3n275TL9mxc+9YfdNhvwEOWUZ6tuVk5VtudkH8bDEdZFxNDoIcAY/IZ/RYmEbFr21GkU0lu2o60ElN+8+oV+rPyjDLI+DxzwID66NAxtX06O5vC+3Vi3u/ZW8eftLePvKj0F7RbrEdrn/DTpzfY919bZaeluGfcY4V0dsmJiXVjKsOD/gveIDPXP6MLKVd4Jrl2p2tpoD2hraFdqDd41c6ADGsCvw80CakctAv42rhIONqdjjZuNd+suevXMO6jj3oOvZEpGPDFuvYhuYj3oYM+b0+K2hYtKyYOjKuPhg6onsHIsMqyQwmy5dBEh+WXTUd/FYV+i/Qr5hYdGLTVhbmfrQd1jKupkdXX2tor15679tBx75ztY5tiHRsT19HpGMzc60oz2+IYlJSxrjyDT3JoEtmDSGWxbgKmf1cvLPUFlBNkpFJW4Ahhm7K8Y14NtUHYM01Mq5kXInps8ibDSFEqjM41GcXu85ZT3+7pS3JsIqiWltXd7Ot923N0h1WnF9pwyMDdrLxPdtz/NkwCmxgqDeMABPiesGUIgOC6fwI9An6GZVGZ/JczNvNiDU6e6mf1yGoYM5wOsd5PQIOkdrQ9nT2tlh794Xwe0Fuqa2o2hzarHW1N1lV6UrLSM8Mo+zfOfp0aLt6B7q8HRuMaxCpCCPKw9SeHmdiYDNSlQzMZDoV2oLZIhhXXidBP9d+WEvP2wLaIcwsLXotxPwBTdraeS5kJ6SnpVtFcZ2tW+b3g0TH5lWETN0T513HnnheOlbMGtxLyHzgXnXU7yFoynPt0dqM/fG9a7bgFohm5l5JRzjTjZHJwRo5/KTzejYHeom5Y3R0OGSKtvU0hXaoMK9soo4tWWEZaZmhrXrryFN2qnGv9UnHpizJtcm6qayhSjzLVNQMmEdnkhnF47N1eVJXMMv963DR2xq0K1MQ8tph7db49YSYL6SlpVlGRkb4uWSxpwx+RMi4EkLMC8o90N+25j77+K1fs6994t/aLz7yb+0XHv7f7Z6tn7ea8rVh2pVXD37HTjcdCFNwjWg4nbhO0NRsLEDL/P10ViO+mROcaQ/mktFY8LPI7e4zUQZDmIJFHdbzhtzsQltTu8vu2f4F+5n7/0Vos7768d+1R2/9Fdu04s4wvelL+//ODp55LRhdTM0iUhdGpidm8p76aKrAYFzPcfBNJyDXf1gAuzHqdMTUEkLMLxh4tX3N/fbILa5jH/m9cE/48sO/bfds+7wtLVtlDS2H7bWD3w3TCoapZKVjxXXCYCeynrh3kSF82O8hSXbFXN66uDeiWXndg+eidWAZdHEj7pli9shzHbvOdey9279oP/vAv7ysYz956y/bxuW3B4P95X1/Z4fqX3cde1E6NlXxa45rj4FQe7wdYEBkI+tY+TU6lyQGFllX+xuidfUwy9DTHI8Q8wGMKkyrzMxMmVcfITKuhBDzAjIUcrMKrCiv3Mo8+C/3raJkma2q3mJra3ZaVmaOi+ZW6+hpDlNwMXWgENcD0xy0uMDGrGJj4dnpZj0xtde2ZWb3bYi2LXUeCGbFD34A6Hleh9djZCyj49i6PMjANJPeT33SlqRZdmauFeSWWElhddRmFddZbcU627DsFistXGp9A50h2G/vbgodACL1CNfhcBRs0+mXTIM3nZHqZflmN6+60g6srZr6VCkE9xhVrElAlhdTvDB6nmNQ4C/E/CE9TANYaEX5FeF+EN0TltlK17Fr0LEZ6NiLrmNbgo4dHpWOFTOH+wMd00wFhn5Ew3Lf4J42FfOIqb021165b213LVuYEz84BXgdsr0wrBhwwb2LAR8MxhDzg7Ql6a5j84KOLR2nY+sq1ruOvTXs6xnoCG1We09TmCVFpB5c91yDxLJnybj0j2m6MwWUF5jdMgMdS1vDbCLMToBxxiAsjoN2QBpWXA/p6d4+ZWdbVVWVbdq0yW677TZ76KGH7DOf+Yz9zM/8jP3cz/2c/fzP/3z4+dhjj9mnP/1pe/DBB+3WW2+19evXW0VFheXm5gYj6lrwGnl5eXbTTTfZ5z73OfvUpz5ld911l1VWVsq8usHIuBJCzEu4WTCv9tKy1bZ+2c1WnF8RRqcySrWrt9UFmSskIa6DAUapusA/czEKtsm0mo5pBUV5ZnesNfvsrmi7bXU01/9UQdQTcDBN2OHz0TGM+D6NWJ1/0GYtWZJmJQWVtq7upjDCnr/7B3ti46onLilSiWS6E0aOHzgbtQXTvf6qi80e2HilHaADMCxWPw0YNU+wz5RLrLHFqHkF/ULMX8Io3vRMvxessfV+T2BgFrMFMDV2lwZgieuAexQbAx4YcEFncbf/HkyruMyHwcCrW12zJvetO9eZlbimnQ7co8i8Yu1Dprxlql0GZIn5yRUdWxVi7+pS17H+L9Gx/dKxKQnXINcfg5+SdVmny1LXsQ9uvtIeMChzqgOwaItoezCxmb0EIx1Nq1hWXA+YSjk5OVZXV2c333yzPfzww/aFL3zBvva1r9k/+kf/yP63/+1/s9/4jd8IP3/913/dvvrVr9rnP//5UG7nzp22dOnSYEp9mHFVVFRk999/v/3SL/2S/cIv/IJ98pOftNraWmVe3WBkXAkh5iWXXO0w7zbrX51pPhQMKzoA8nOKLD+3xH+fQlqLEJNAoB3Ws+kzO+0inwwLAu2ZCOw01zN0UGdnRhu/T1fisHA2GR+tLvgx0c758TCKVcwvaLPGxsbCSPr65sPW2tXoO1msOC8Y74xqFakHHX/HGCHqbQGBNiNHpwvtQFbGlXYgY5qmFSSBP+ts0QlJu0Q7IPNKiPkJ9wSMqoudZ62+5XBYAwsdm+c6tiC32NL9dyFmAjMGMMhifIbudAde0R/3Pv06gz467l2sacOAi3A8PTM7HvHRk+hYjPV6j71bu8+H/TlZ+dKxKQh6lWuNbEvWtMK0CtOEzkA3vk/Hpk0/nmW6e7JAk7Vb+al2QEwVTCQypFasWBEyp8ik+sf/+B/br/zKrwTD6uMf/7jdeeedtmPHjpBRtWbNGlu1alX4uWHDhmBWkS31yCOPhIysxx9/3H7t134tZGXde++9wYzKz88PZlRiit1yyy2hLM+jjnXr1tnKlSutrKwsPP5BppeYXebNmeZGOdk22WNCiIVKfH37dT42NmrDI0PW2HrKjp19x0V0q2VmZFlhbpmL5/LwuxAzgan4MKqYkzsYRe0frVHEbY1OCNbaQujXx1MsiHkAHx7NVtAnY8FsZ7HrY+feCYta8yCdlKVFSz3wLwhPEakDHx8LSbPGHdlOTNnHvo8SMq1Y5JoOQNoBBf1CzCPCPSHcFGIdO2iNbSddx+4OncGZGdlWmFdmRXkV4XchZgJGEdoVDctgh496Wi407IXOcUbagO5d8wVXr7GMvaJj27sv2FGPvZvaz4RO3rycwjD9dU52fvQkkRJMMIq8LcDAmus1mj8IrnnaItoAsq5oE9QOiKmSTNuHEfWJT3zCfvmXf9l+8zd/0/6X/+V/CVMBYlwxDeDGjRtt2bJlVlNTY9XV1eEnZtfmzZvDdIKU+9KXvhQysf7JP/knoR6ysJYvX26FhYWXjStMMoywr3zlK8G4wrCiDPWVlpaGxyknbgzpv+fEv6cU3By7urrsyJEj9tZbb9mzzz5rP/7xj8P22muv2TvvvGOtra3hy/Lqq6/aD37wAzt69Kg1NjZaVlaWlZSUxDXNL1hDIVk/YSGn0jNCg7mzC3LMlpeZVRVF+xcSruusq8k/SxfpHpeGv8X0oXP32Lnd1tbdaC0dDS6ST9vJxvds/6mX7cDpl/33vWFu7ZKCClu/7FbbuvpuW1q6yrI84E9L081kOjC4N8OvST+VVlRttlhP30Ac8DMlFz97ybaKH5suRblmG5aaVRRGfxM8kC3BXN8zgY6H7Ixo6jHWymIE3ExGwE4Hj1NDW9bj54O2TOvFfzD9g93BTD/bcszae5pDm9XQcsQO178R2i0eu9B60jIysmzV0q1hsf61NbssO8sFcJp/uGIC9N1m+lbobVJhVbzzBkBHG9OrYFgd8+8/mVd0AswENA7tQLI+CJ13tAMzyd4C2iPqKvKNUfDoqbluB6YKU0Jd1rELtK3gfOf7dxL9WjM/w40pkejYPv88pWNnTmRMvRM6e5s76u1C+5lYx75kB0+/4r/vs85edGxVWP9w68p7rLos1rFLNJp3KgT96tdkfnmkXxdrshr3BjqmuV8daYxmDeA+NpN7DW0c9y30JjCYi/sWdc+UJIMry7di18dkcNwI0LHd0rFTpm+gK8TeZy8eDWtHN7W5jm0+fFnHHj37tsfnJ0MbtWrpNtux5gFbU7vDP1vp2MkIOhbNho6tjHfeABjoxPSAGNj0MQ5fxz28Gh1bE00hComOnYnxhF5lGm50LFMQMgsB8exiYXBo2I6fOWeNzX4SneLCfFu3qi78zv6unr7we211ua1bWefx4fy/oZ07d852795tDQ0N1tHRYSMjU/8yYhBhRLHOFGtMkTFFJhRGEn3+vb29dv78+eAF7NmzJ/gE+AWvv/562N5++21777337NixY+H18RAGBweDZ5CZmRnqLy8vD4YYRhdZV9RPFhZTBGJ4Ua6trc2ee+45e+qpp+zdd9+1pqam8D6SxBmeh6G1devW8HzW3xKzR0oaV6QgDw0NBRPqjTfesBdeeMGeeeYZe+mll4JJtW/fvvDFGx0dteLiYvvRj35k3/rWt0L5/v7+MM8lbuh8ZC6Nq9GRIRdqAy7eRsMFxpzE15qXc8yjU8qOubKjPCyZxVRIXlXGlZgKiXFF5+/51hPW2HrSTl3YZ6ca99qZpgNh2i2mVtmw/FbbufYhW165yYo8cpVpNX1kXEXQ/p7wa5fRaW0eqDNydabMpnGVZIJhXNWWRO1nJlM1zLHYl3E1PRLjimlUmtvrvd06HgJ+2izaLqaFYpR9XcU6u3nDJ2xt7U6rLFmmYP8afFTGFaYL1z9B/8nmqF2YKbNpXBEe0VFA51+Ob3l+bkrzFoFx5bqVdSxTQcfKuBLTITGuyE445/cD/r5axzJLwMblt7mOfdCWVW2worwymVbTQMZVBP1ndAhjMu07G91r+HsmzIVxRXPNPSzH5U6V1xsGXUQPzSkyrqZHYlyhY2m30LH8fuqC69jGfdbaeS7SsZXr7daNn7A1NTusslg69lp8FMYV1xnXLAb22fbIxLqe7KbZNK6SKQxZMw8dhYE9kym05ysyrqZmXKHvMzIywrR8W7ZsCSYSmVUYSmRQFRQUhHqo+/Dhw8Gcwjt488037ZVXXgnJL2x79+61Q4cO2ZkzZ6y5udm6u7uD34BhRQYX5hfeAVMMYjyRGENmFq/H61ZVVYXnHD9+3P7u7/4uGFcYZfgOiWkFMq7mlpQ0rvgy8yX7yU9+Yi+//HL4grF4Gm4nC68xt2RFRUX4shw4cCB8GTGtcEn5ojD/JOXnI3NlXBG0Nx57zU6/95R1tzXYUF+HpWflWFZO3Jt6FR2NR+30niet7dwh6/OolYYjt7AifvT6QaTKuBJTITGuEMO15WtDUH/f9sfCT0Z4bVtzn21acUcQzVUlKyw/pzgYWWL6LHbjKukQZkq+wy7GEeWsaXM9Qn+2M65oPOmspl46rum0Zp7xuUTG1fRIjKu27gvBkNqw7Fa7a8tn7bZNj9qOtQ/Ydm+ztqy8y9YvuyW0aSX5FZaV6R+omJSPyrgiyCfrkowrpjWZaecfzHbGFbAoNhmYxR74Y56kymjVuTKuxi65jj36qp3Z+5T1tLqO7e+0DNexmTmTT7HZ3njETr37A2s7fzjWsWmuY8vjR68PGVdiOiTGFVm2tPm71j0UdOyOcTp2s+vY1aHzd3lY30o6dnrIuIrgntLq96tk1oAO+j+v9KtNi7kwroBjZMYA2s4bOXOAjKupkxhX7T1NQcdiqt+55afsto2fjHXs/UHHrlt2s7dp68IU/dKx1+ZGG1doQ2YIQI8dboxiTwZhjutjnzazmnHlG4dCLBtmDsiI2pu5bgdSBRlXUzOuMJbo97/99ttDptU999wTDCu4cOFCyKz6/ve/H2Zke/HFFy9nVZ09e9ZaWlqss7MzGE5szORGxhTPO336dJjVbf/+/cHMImMLSIhh3Sp8BtbGwrAi04p6yLTitci0wrQiyQbzazwyruaWlBrKhWNJ2h5GFel9fEEOHjwYvhibNm2yhx56yD7/+c+HOS2Zv5LyZGGRFtjT0xO+3BhWOKdiIsxJ3Hp2v53c/V07d/gFu3h2nw32uqq9Bt1tZ+3Mvqetfv+PrenEW9bTdu767nZCXCcs+rqmZqfdtulT9ujtv+rb1+0Tt/2yPbTr5+0uF9N0AlcU11lOlq5/MTNo4uicxqxiTQDWtrmezuq5gGNkfnCCkDY/vplOXSbmnpzMPKurWO9B/v324E1fDu3WJ2/7FfvYzV+1+3b8jG1ffV/oxCzILY2fIVKJcJ150E9n3fUYTHMF7RSL3dNO0XGw0CUaA7BaG/bZqd3fcx37YtC0Ax+kY1sbgo5tOPCsNZ18y3rbXccK8RFSnF9pa2t3uY799Pt0LJ3C6+tuDjo22+8dQswE7gXtfZFGZAAsHdipdGtAUzMoBEONtXfoTP8o194SH0xOZr4tq9hgO9c+YA9P0LFfuaxja8rXSMemGFxTXFsMkiRW5Fq7nkGYsw2XPJqVAU6NrrMxw9UMiAQSJpKlf7Zt22YPPPBAWJcKM4j+fkwpTCeWEvrLv/xL++u//mv73ve+F8wrElpOnDgRklrwFJgWkPKYTWRMMZUg5TChvvnNb9q3v/3tkCzDY/gQmFXJOln4CvgNPJcMrieffDL4Dhhd05nqUMwOKWVcYVDV19cHtxRHtr29PaQC/uzP/uzlxdbWr18f0vhI3WOeS+a2LCoqCo4nP2VcCSGEmAkIfRaMJuNqcDgO+FNQSRP4E/R3X+e0D0KIa8MaV3QApup1RjvA+ntsmGypaK4JIYS4cXCv4p6FRhxK1YFNrqu5v6K16VCXcSXE7MKgRgxiNrRiqg5sQrsyOAwDS4gEpuqrra21Xbt22cMPPxz6/SsrK4MJRXIL0/X92Z/9Wci0IrsKI2n8lH1TgSWHmL2N7CuMK6YXJCuMZJikLn6yjhXTDPI6ZF7hV4iPhpQyrnA5T548GYwr0vZwW3FWybTauXOnrV27NnyJSd0jBY/UQdazYn5LymJcsaAaxhVfRr5cuK18IXFH+dJRP1/6q+ekFEIIsbjhlkAWA0KfoDpVbxEsrssxKuAXYvbhuqfzj9GqLGpPm5CK1xnHSNDPqHqOMdWyQ4UQQtxYuFeRZYEphFZMRbidYqqRZZFqmSBCLAQwrtCvXF/8nqqhIoNEmeGkz9ssdcsKSEtLC9P1sQQQUwSykf1EkgqZVCwj9Mwzz4SZ2fAM6NcfGBiYdr8+5cma6uvrC1MI4hvgD2BMsZ/Xowz+BMZYsl/+wUdHShlXfOmYGpAUP76wZFfxpcWMmmyOSMqwWBvzSeLMYlyR3kcKIV9C6vnud79r/9//9//Zv//3/97+j//j/7A//uM/Dql+uKbDw95aCiGEEA4BPx3ABP2pPAUfmRUEJGRa8LsklBCzB+0AhtAAZtBI1KmWynEKJntXX9QBIIQQYvESdKxrWHRsKg9m4NjoVEfHpuLAECHmM8SG4frydiCVr6+gX/sjzS0EMEUg60RhWD3yyCMhaQVT6a233rKnn37aXnjhhZCMQl//9UDSC+tXkQjz2GOPhdndli9fHjwH6saoogyzu91xxx22YcOG4DPgP4iPhiWXUsQ2xMFksbY//MM/tOeffz4svMaX5Od+7ueCyzoZOK0/+MEP7O233w4ZVf/m3/wb+/Vf//VgYvEFx5FlysFTp06FjWwrvpxf/OIX7c477wxzZmJyXS/Mn0mG2GzMdXmut8xOdFVb13CO9Y7M3oUxNjps+59/wo6/9fdWsnSdlS/basu3PGxldVviEhNhbSvKp6VnWkn1OqvbdL+Xf2hWV03Mzxiw4qx+W1vUZLV5116nYL5yaSTDRi5U2UhruV0azLZLw1poeSbsOe7X+Rv+XVySFhaA3b7mPtu17uHwt5hdlmQO25LsAcuoaLPMpU1m6Skc9c4Bw2MZdnGozJr6S6yxt8C6hiZfVLPAm+bSPD89U/gKVhWZ3bPebGVF9PfJZrNXjkVTI3wYdJgzEo0OiPGwkDWvXZffZltLGqwg06MTVp6eIy6NpdlIU7WNtHhbNpCjtuxDaO06bz94/b+GxfhrK9bZurqbQptVWbwsLiGmw5KsQVuSM2iZ1c2WUdUS7507xizdhi9l2wVvBw61VVvn0ORarMTbALapsKYqagfKC6K/9zZE7cBUzCYyv2gHrhXYLyvotNVFbVaU2WMF6VNoWOaYBtexJ13Hdg/nuo6dvYWJR0cGbf9zT4S1WtGl5cu32TLXpWW1m+MSE2F9K3RsRmaOFVevtWWbHgjlZ4O8jEEryEC/NtuKgmhx7QXJSKYNBx1b5m2/61j/W0yf3cd+bE/6PSE9Pcvq/J6wfc39tmvtQ6FTRMwSGcOW5veJ9DL0a3PQs4uR/tFsO9y5ws72ldvQyJL3TSGb701yab6frinoV8px31pXHf3d0Ob3raNmFzqjvz8IOsu5bzHIajIKMoesMq/PqnM7rCbnomWlzfHn5Tp2+EKsYwelYz+Mlo4Ge9Jj7+Pn9oQ2a/2ym4OOLS+qjUuI6bAk23WsbxnVTZZZdTHeO3f0jeTYhcFya+ortub+fBsYyYgfmch0dOxa17H3bojaBdhTH7UHUzHIr6VjaYcy/dDWFpy3zcUNHt/OXSybSgwMjdihUxesvinq/ywtzLMtq6vDQNSDvr+D+V6dFUtLff9Sy+YkzXNITvnOd75j+/btCzOikcl0NWRb1dTUhOSVX/u1X7NPf/rTQSeRcMJzmdKPNaouXpz5NUR9bMXFxcEUu++++4I3gDHFdIRMDUi/PuYZfzOzGzO5sZYWx3DgwIEwpeBk8Bzq/NjHPmaf+9znZnX5omXLlgVjbTGTEsYVqXik4LEo2n/4D//B3njjjTCfJVMEshgbH9Rk/PCHPwwLqjEVIF/gf/7P/7l97WtfC19GnNLDhw+HxdR4i5hWzINJdhb1MgXhbBlXmGf/9b/+12CWXS/Fq+61so2ftZySFZY9i+Ig9YyrSzbY1WgD7aes9fAPrKv+1Xj/wiEns8B2Lf+sba6532/ytZaXVRI/IqaDjKsbR+9gu7X3nbdDjS/Yu/Xf86A3Ek6LhfTsQitbfa8VLb/Dcio2W2ZBHK1fxZY6s7vXmeVmxTs+gCzXmnRW58VlGf3GQrmMMvswGC332nGzw43xjhhaYZrizjMvW+M7/93b0Xpv46lwbm7n6WlZdvOKz9rW2oetxNuyguyy+BExGTKuZpeu/mZvlxptT8OTtu/sj+K9c0d6Vp7lFC61wmW3WanrseziyQOFO9aY3b42/uND4PqnHaA9AKZIauuJOvc+DDoJaQfOtsU7rqK3cbd1nXnJei4ctN6WI/Hej47iVfdb+SY/byXLLbuwJt57/aSScTXUfcE17FlrPfR96zj1k3jvwiM3s8hu8rZ/49L7XMfWSMfOEBlXc0/fUKd1+H3iyIWXg37l78VIluvWuju+YaX+/bp0aYmrwonfsQ1Lze5y/Vo0he6PzPTovoXZBUxLy6ArOqE/DAZlvOr3rf1n4x1XMdLfaoNtJ6yz/g1rO/Gc/z23A1gz03Ns14rPBB1bmlfj70k69oOQcTW7dPY3hfZpT/0PbN+5Z+K9c0eOxxu0AYW1N1l2+XrXtYXxIxO50zXsba5lpwLtQFn+OB3b5+2Bx7NT6Ulu7Ijag/NXXebcAhmM2bT3b+z8m38S+ivnKpZNJbJycm35+p1WuSw6+T0drdZw9D1/55dsxcZdVlBcHva3nDtl9Uf22PDg/O+P6erqCoYVP5lljf7/q8nIyLB77703rGn1yU9+0nbs2BGMpHfffTesafX6669bR0fHda0zhTlGptXmzZuDMXb33XeHJYkwmUhCITEGg4rEGV6f5YlIqHnnnXfCrG1/+7d/G7K/JoN68RYwvDDgSKaZLX7xF3/RfvVXfzX+a3GSEsYVLiZzS+LE/sf/+B/DfJVkWpEeyKJspOWNh0Nmw7T6H//jfwTHli/6448/bj/zMz8TyvCFJhMKA4sv0JEjR+yv/uqvwkVy1113hXpny7j6kz/5E/vt3/7t63J/E9be8nnb+tDjHohvsuKqKd5JpkBiXB1789uWk19m+SU1VrlylxVWroxLTKTl1Lt2as8PvGypVazYYXUe8M+qceWfX2fLSWs9ezAc16l3vxc/sHAoyC2xT9/xuN23/TFbWrbGSgoq40fEdDhx/j176/APQ4CPYF61dJutrd3pf8u4mm3ae5rsQuspe8EF5JNv/In1D3bHjywOsr29W3vrF2zVjketeu3tVlQxeft4pwf9n93l1/jsJRNMCkHB9/eYvXUq3nEVJ975B3vj737P2s4fCZ26U4oeZkBWRk5oyx7a9fO2tHyNlRUujR8Rk9HV1xrarLMXj4U2q658na3xNqs4P067E9OCDpTGtpP21Jv/zZ5553/Ge+eOrNwiv/ZX2Yrtj9i2h79hpUs3xI9M5NHtvu2I/5hDzri0pB041hTvuIqGA8/aibf/wRqPv27Np96O9350rLvti5GOrdloRZWr473XT2JcHX/77y2noMwKSmqtAh1bMbmx2HzynaBjcwsrrWL5dlu2efaMq66W09bRdCzS1W98K9678CjKK7dP3fFrdu+2L1pN+Wpvw6RjZ8Lxc+/aW0d+aGlLMsI9YXUNOtZFhJg1Onsv2gW/T7yy/zuhw72zd+6zc1MR7l13f+nf2YY7fy7ETVfH7TevivQrHdBzCSYX9y0yiyejt6PRLtbvtdPv/dCOvvaX1tfVHD8yN+Rk5Xlb9rg9uPPnrMZj8tLCyQemiQiuJ3Ts+dYTkY6tiHQs9wQxfZo76q2x9aT98M0/tWd3/3m8d+4ocd26/o4v2fKtD1nVyptCfDsZn95p9olt8R9zyClvjmkPTlzjMn/3h39gr/7Nv7GROYxlU4mCohJ74JOft2233BX+bmw4bS/86O9tif+7/9HPW80yb6idfe+8Zi8+9ffW073wB2Jwv2Kavi9/+cshA4p+ejKYMKvItGL5H7yCmUL9bGRaMf0fs6+RFYWBxdJDFy5cCH7Bj370o/BazNKGcfXZz342ZGXhK5Bt9f/+v/9vWGML/wEP40bxu7/7u/b7v//78V+Lk5To+cWEYjG07u7usO4U7iSGEs7nZE4l5hPlMLuYApAvDa4mqXwJGFkVFRUhWwvXk/Wv2LfYGRsZsfbGI3Z671O299k/tjf+7vcn3Q698mfWeu6ADfS22aVJHHEhbhS15WvswV0/H7ab1388ZDDItBIiAZkrUom87CK7ad3H7BO3/JLdufmzIeMqP6c4flTMC+KLaj5dW4ulHRgbGbK284fs1HtP2t4f/z+Tali2w6/8ubWdOxjp2DmcSlWID4NO34d2/YLr2J+zmzd8zHXtFFM1hVjIBGMt/l2kFGhWYu5Hbvma3bH5M7a29qagbcX8IFxa8+ramncHLGYZ+vwxrjCVMIzKy8vDjGxkOr344ovBOLoeMK3IiMIzINPqp3/6p2379u1WUlISMsBInCGrC5OMZBRMKmZrO3HiRMjEwkRbtWpVmAoQo4tjFTeWlMm4Yq5I5rz8z//5P4cF13BbP/GJT4QvFMbTePgykWr4zW9+0/70T/80pPexgNunPvWp4IhOBmtdPfHEE8Edne2MK1IK/+Iv/iIYb9dL9tLbLG/lxyyjoNYy8mdvNFCScXX0tb8Ooxm4NeSV1Fh2/uTTfvS2n7f2xqNWUr3WatbfZcs2PzTrUwWO9DbbSPdZ6zvzYxts2h3vXzhkpefbpsqHbXXpHVaYXR2mXBEilekf7rSuwWY72faaHW551kbGrjE5/QIlLTPf8mpvt+zqXZZRvM7ScifPkFnvTfMtq5gONN7xATCdYI03s8m0LEwRxlQJU1nbhkWrd5+efIQaTfFg41vWc/TbNtx9Lp5eYW5IX5LpbdnHbG35Pd6WVVlepqaLEjeOnqFW6x5osiMXn7djrS/Ge+eOtIxcyyyotOzKHZaz4uOWnj/5dHe7VkTbVCjKM6v1yyZpMy66XDzfwUCs6O8PosXL7j4TTbUyGcOt+23owls22HbUBttPxns/OnJqbg86Nh0dmzdxxoTrIcm4IsNpZGTA28A0yy9Zall519Kx54KOJWOuZt2dIdtqtjKuRvtabLin0frrn7WB86/Hexce2RkFtqniY7aq9HYryqmynAzpWJGaDIx0W5ffJ850vOX69Tn/uyt+ZHGR7rq1ZOsvWG7d3TYWpgqcyOrKSL9OZcaAbL9foV+TNXBYr4r7UN/7lyZ5H4OjkX49ctVU1wmXBjtstLveBpretb6zr9jo4NxmFGSkZQUdu6bsbityHZsrHStuID1DF719anYd+5wdb30p3jt3ZBTUWH7dXZZVudXSC1fbEo9vJ+OmlWY7p7hsTnGsY2kXAG1KezAVHduMjvX24Or18YhlmSqw58QPrPPgX9mlRTJVYHpGlpXVrbOC8ii+GOztsrZzx/2EWNifnRdpre7W89Z+/qSNDk+h0U1xSDjBBGptbQ2G1NXZSphBS5cutd/4jd+wr371q2H2NBJU/st/+S/25JNPhikCMZhmAqYYCS6snXXrrbfaZz7zmeADYFphiO3fv9+ef/75sAwRf/f09FxOpPlf/9f/1X7pl37Jqqurg4/AbG/f//737ejRo9bSMjGzGzOL1yFxZs2aNcEomy3IQmNGusVMyhhXibP5B3/wB2HRNVL3Pv7xj4c0PpzN8WBwvfrqq/bUU0+FLzLlHn300TAn5k033RSXmshcGlfM1cnFePUFOBNOtufb/qYia+/PtK7B2fuyX17j6s2/s4KyujANYc36u8N6V5Nx/ugrduS1v7LM7PwwbeGsTxXoFGUPW1nesG2r6rLVpb3x3oXD2HCadZ0qst7z+TbSm2ljQ7M3z6kQc0F69qil+zVZsKzXCld1WVrG4hqlPjSabvWdedbg29nOHOsYmDxLl85n1qxBbH8YS13kP7zZbE3cf3v0gtlzh8wuTqFPZdTvzn1D7ze5EqG/rqzPbl/WZiU5zPU8d7fyS2O0ZYXW21BgI32ZNjqotkzcONJzRyzD26XCVd1WuOL6Bwh9GCP+fe8fyQjtwLvni6zN9dhk0AYka9d9GOuXRu1AZdzv//Yps+e9HZiKgT3szTAdhddaAHt1ab9trOy1irwBK8356IPbE22Rju0YmF0dmxhXJ975jhWU1lpx9bowsIoBVpNx7sjLrmP/0rJzi6y0ZtOsThVYmD1iJdlDtq2629aV98R7Fx6jQ2nWfbrYes/lhbZfOlakKmlZo36fGLH82ki/omcXI91DGfbO+XI73lrgmtav4atkfLbL2rxsv69OQb+WF5o95PetTfHYDab74r519To1k4EiZU3XgWvc4wr986kpHLIVxb1+D+uxnIy5/bwujcY69qx0rLjxJDq2aHW3FSyfex2L9jrdWeCxbK6d78q2/uHJZ6qZjo7d4O3Aw1vMKuIJrpjG/rmDrk2nsObdtXRsuh9Whl+KO6o77Pa6do9tF0e/Q9/AkL2177gdPRM5+1VlxXbrtjWh4XzrwAlraYs6CTasqrHbtq61vNz5n92zd+/esGwPffINDQ2hT348GzZssC1btgSTiIyo8+fPhywopuZ79tlnQz/7ZOtifRhkWmVlZdny5cvtZ3/2Z+3hhx+2TZs2hSkDmfHt5ZdfDsfF8SXHxWslGVosQ/T5z38+eAyYa/gPZGK98MILdvLkxMGCZInxOhw/JlN+/uzNyUvGF6+/mEkJ44ovIc4mLizGFV8gvlA4og899FBIy+MLx5cLg4gvMfNdYnCx8SX80pe+FNIKcVInYy6Nq9lkb0O0CHeTt1cs3D1bXDau3vr7YFaVL9tqy7c8bGV1fgeahPr9Pw7l09IzwyLYdZvun1XjilrK/Ma3tDhaJHbbAlyzfmTA7Oxes+ajZv2dfrOe/+sqigVOVp4ZM5pVbzRbtsMF5RTF7EKBTuSTHpgfu2B28Pz7R4bNhGWuMVhPIAn8Waiaeb6vp25EPubZdm83P+ZNOItnz+KYgvcx5kEJbdmFQ2YDftxDffEDQtwAsgvNcovMar1Nqt0a75xD6Ojr97bgqMeTz3pQTmbU9SrlrXVRO8DodXjZdQHtwLU69abDzhWRjqry84Su+qh5rz7Ssc3o2Fkck5QYVyd3fzfo0vLl24IRVVa7OS4xkTP7ng46NiMzx4qr19qyTbNnXJV6LFrp55vzzojlhQq6lba/5Zh0rEhtMj2cz/H7RNV6szq/V6BnFyOsjfqTw1F/Qo/HoYNT6FS+FlV+Prlv7YgzMhh4xX2rvjX6+3qo8PZzQ7VvS6MO8al2ns8UEjnOoWP93EjHihtN0LEeX9M21Uze9TardPj3m1iWa/awa1myJa8XYs7P3mRWHQ/AeulI1B5cTxtDLJufHWkpTHKMrMVAV0+fPfXCm7Z7vwcDzvKaKvvkA7cF4+qpF9+0s41RJs8t2zfYo/ffboUF8/+G9uabb4a+eJJPyKSiX388t912W+ijZwq/u+++OySqvPbaa/aXf/mXod9/JpA1xdJDGGK33HKLffKTnwwztRUWFobMr3fffddeeumlYEQx+xuZYOPNMZ6PF8HGTHCYa7wPphP8h3/4h5B0M56qqipbvXp18CUef/zx8Dpi9kiJ5iEtLS04kriIfOA5OTkh/Y4v0ltvvRW+uPzNHJdkWPHl4kuDK4rvxvpVZGXNpqsphBBicYH5w9R+BTlmmSk8GDPD79xM80Kgj8ifS9NKiMUG2Yy5HkyzZfr1xcj0VL7EGEHPVKTJ9C1CCCEWJ2l+zwo61jUig5xSlaBjXWuTSDCV2QuEEFOH2JDrC1Molc2grFi/YmCpGVjc0J9fV1cXptoj44kp+86cOROSW2YCGVMYT2QqPfjggyHRhaQYliBizaojR47Yt7/97eAt1NfXv8+0AnwGZoXDaOvs7LSMjIwJfoW4saRMU4Z5hSvJWlVM/bdixYrwBXrjjTfCPJJsGFd8eflik1nFXJN8IXkec2LKuBJCCDFTCPgR+cUuojGuUlVEc2wIfYKSxTI6TYgbBUYwHWkE1IV+jWEQ0zakGlz7HGMYserHmMpmuxBCiLmHexemFRoxle8JSYc1xyodK8TsgjGMfk31OJGBV6yhFzIu5VwtajCsMITIkMJAYk2rpqam92VmTYVkfaqbb745LD/E0kOsOcUMbkxByNSDTPl38ODBsE4VM7JNNg0hxhWGVWNjo/X19YV6mWKQKQFZz0rcWFKmKcMVxYC655577Kd+6qds69ZoPhhSA0nF+9u//dtgXPGlYu5I0glXrlwZDC+MLEwsGVdCCCFmCgE/xlWRi2iC6lQV0TKuhJhbMK9Cx5q3BbQJqTginGsf04rR9WwyroQQYnETjCvXhsV+70rlewLHxiAxjKtUvL8KMZ8h23K+GFeliXElFjX0419tXGEqDQxMf55LDCaMMHyFL3/5y3bHHXeEJBeMKNalwlv47ne/G5YpIimGDK9r0dXVZRcuXHifcYUJJm4sKdWU8WUoKSkJ2VSf+cxnwtyQ/+Jf/Av7zd/8Tfun//Sf2i/+4i/ao48+Ggyr7u7u8OWrqKgIhhdfHkwsIYQQYibQWU0wTfYCa8WU5ccGVopBZzXrA7JALqPqhBCzT463A9VcZ4WpOeUShlpdaRT00/FH+yWEEGLxwr0K/cq9iwENqXZb4PgYeEWWBR3r6FkZV0LMLsnAJq4x1kHmZ6p1k3LZY6zVuo6lPVAzsLhhakDWjGKZoFdeeSUsEzRT42rdunVhXaqbbropzOLGFH+sYfWjH/0omFaHDx+29vZ2Gx4eDn7CteAxsrEw0cjOevnll8O6W/v37w+ZWOLGklJNGMYT7iiLmn3qU5+yb3zjG/Yv/+W/tN/6rd8K5tWv/MqvhEXV+AK2tbUFdxRnFuOKL+R444ovGo8zhyVfSn7y9/h9Q0ND4XfKftCXdqGwJC3d0jMy/Txl2JIl9MJc+xaxZEmapaV72XTOa3r4WwghFjK0iBhXBPvl+bFxlWId1nROc3x0ShCMpF6H+iUbG/P77OiwDY8O2fDIoI2OTb5y79ilMX+M+/JwKHPJ/7420X2actSdbLzWlft39NrUN75MUrfXEJUK9UxWjro4BkryetHxXSkzFOqKXvPKsVI2ec/JlpRJXnM8Sb3UNTrmZS9FI72i10zeo+uTsCGqJ5++YPy5mPS4vMzVxxXKjTuuUMb/Hl8mKXelLo6LY3btNO64LpeL64Kk3Pi62KL3SLnx73Fimeg133++PiouG8SFqTlynZHqwbjydmqxmFboWLTpEtem6NglH6ZjXe8mm3SsEGKhQ4c12rW6KMpi4N6QSreHJNOKY6TTmrUZU+f+dUUPfZh+jbROrF99G6+93k+keybXiZEuCq8d1ze+TKSLJtGvV2mo8fo1Knfl+KIykW57n06MX3diXRNfczzjX58t0a+hpvDY1PVrcmxJXVeXney4eL3L58L/XUu/TnZck+pXfyzhyvFPrI/joJ6krquPiy2q64O+AzcWzGCurcS4wixmvdZUgWuebluODx1bvIh0rJgcpgV87733gjH00ksvBXOJ9aVmYlzhJdx3331hBje8AjK4WKeK6QG/853vBFPswzKtEhLjCrPqJz/5STCv9uzZE4wvcWNZ4g3w++9KKc73vvc9e+KJJ8Kcl5mZmSETizTA8bA+Fl9KUgDPnj0bFmB7++23wxd02bJlVlNTE77IzH3JvJek/ZGa+FGzt8HsteN+8XaZtc1sLbpJueQX7MWGfdbZdNyy80ssp6DcCsuXh5+T0d1aH8oT6GfnlVhBWZ2XXxE/ev1wb2JEGJ1Cd60z27Ys2r+QGPF29uxes+ajZv2dZsPTn6JViBtKljeBOX5NVm80W7bDRa4HvYuR3kGzUy1mx5rMDpwzu9gdPzADlpWZfXaX2aaa6O/9Z82+v8fswgwG6mCiFXrwsa7a7G5vN2tKok6AuRb7Ho+FtuzCIbMBP+6hvviBqyB4I9BvaDlsRxretq7ei9Y/1G071z5kt6z/hB/nkrDBkDeQF9pOWXN7vbV1X7DcrALbsuouKy+qDY9fzcBQr/UNdtvpCwesvvlgiCEzM7Jt9dLtVlux1vKyi7zOfjvVuM+aOxqs38tyPNxsqkpWerltVpRfHsrxuucuHrPO3hbr6msL9Wdl5Niyyg22tGy1B1AVITi92HnWWthCfT0hEOaxiuLlVl26wreV/n6HwrGdbHzPGpoPE9aG46ouXeWvu9zK/P3kZReG10igvtNNB73OLhsZGbaVS7fY2tqd1jfQbd39bXbivNfVcsSF9oh/3mW2a91Dfmx+UQaiwJn3eLJxr7+HizY43OflSq2koMpqytZYTfma0CEw4B/UifN77OzFoyHQzvALurSw2o9/WXifWX6cnNPG1hN26sI+r6c/GAFZmbmW443B6qU7bGX1lrC/u6/VDpx+xc62HLWc7IJwvtAHlV7XphW3h9fmuBrbTtpJP/6e/o7wefABMPhlXd1Ntqo6mgKac3n07Nv+uifD94HH09MyrNLP1/q6m60wr9z3pYVjAU5fbpFZrbdJtVEVN4Qh/953+3380HmzV12XtXo7MOQxzkxU89a6qB3gmoWXXRfQDgz4V3S6cAnRKbHR25TbV0ejVSv9HM11OzBV3quPdGwzOrY33jkLXPLvcKRjT4zTsSv8pzeyk9B18Yy1Nuy1Jf7dinTssqB7ZwPMQs45+vWmlfHOBQi6lba/5Zh0rEht/LZlOX6fqFpvVuf3CvTsYoTbE31xzX6/et3b4SMXzDq8HR6c3H/5QKr8fHLf2hE3m0e9Lu5b9a3R3zOBtnPD0isbHdc3AuTgOXTs4cl1LMbD0PCAnW89HvRrR09T0EdbV91tt2141NIZMBHfZNGW6Mim9jPW7vqVx7asvCtowskYcI2GJq1vOuQadn/QSmieVa5L0Z15OYX++qN22vXrhbbT1ue6ecS1JRKooqgulENj5fkXHP14/uJxa/fjQ/9BRlpmqKemfG3QuemuqS52ngtl0Yp9A11BvxbmlQXNVuXHybEm7xkteYbj8n/pXhePVbnGLS+qsfycWLTEtHadtzOuX9F4mEDLKtbb2rpdrhMH/HU6g34903QgvB90PfqV44+I9GtrV2PQzO3dTUFf8r5K/f2hS2vL1wW9Ojw6aMddv3LO0MIMPilz/VpeXOc6d7VlZ+WHc8r5Ou36lc8q0q85lp2ZH7Trmpod/v76PabrCvqVc88xoXHRr9S3acUdIe6IdHV90K9drnc5LqAc9aDRgdjlqH8/zrpG57ElrlU5/2WFNUHnlhYunaBfE4KO9fiatqlmS7zzBkD8etxjWa7dw43m3634gRmwfZm3BzdFpji8dCRqD2bStmCqM53pTm9b7nQdhYm9mGYQ6erps6deeNN27/dgwFleU2WffOC20IA/9eKbdraxJey/ZfsGe/T+262wYP7f0N58883Qf//qq68GE+nqtauYRY2+edamIiEFI6u1tTUYVyScTIcNGzbYli1bQsLLzp07gyH27rvv2htvvBG8AeokeWUqcD2znhVLFXGMPA/Tiwyuq7OuOH5Msy996Uth5jiSa8Tskf57Tvz7vIAbC1+8p59+OkwPSPYVX0i+oOPhC8WXlC8ozujevXvDl4v5KXFIGxoa7NixYyHDa9OmTZaTkxMulI8aDKuzbVHHaf913FyuBrGVX7LUyuq2WHHVmvB7xgeo+uy8YitdusFKlq4PgT5/zybczska4Ea1vCwSxwsNOnu7XCz0usAf8c+Tv2cKYnJ0NBothGhCUPET0Rl1BrtI+oBeKzqTEac8Z9g3RDciluel+QYIRR5PNjpk6fzkw0IER1wK+yeri3qoDziu4bgMopHj/uC6vIwfY1TX2AfWlYyW4u3S4Qm0C+yfSl3UQV2cw8nqSuC54bx5fdF7HQzvgc8iqjM63zw/Ora4zrEoK4PH00Jm47XrAspcqWvIBaAf/wfVFT4n6orOyfTq4jOnrsnVocdeluHXZEGFWVG11zfxlCwaOIWMWh3x4J82uWf6g30uwyg3gnOyNoDOXAKIHm8TpgOfam62BzzeFK8sjzbaz/jjnlMYREhb1uMxsn/dQgfAZHAtYOIcO7vbXjv4Xdt78if27vHnPFBeYdtX3+fHSlsVHTDlTpzbYwfPvGb7T79sHT3NtrJqcwj6JqPTG9KWzgYPPl+13Ud/HIwnAvKczDwPrIs9UM0LdfL44fo37JQHqPUth+xcy7HQ/hB8Y8bke4CMkXPozOshQD129h0vczzUTRtAQEt9tCnnWo/bKQ/oD9V7Wf+JadPlx0EbkutRaFXJihAQE3zvO/mi7T72bOhQoMOAc0EHAB0FBOURUdDe4PXsPvbjUGdD86Fg1KxautW6+zusrfO87TnxvL11+Klg7mCeraze5sH82lADo8aou6H5iL1z9GkP7HdbffNh6/Tz19vfaQV5paHDYXCoLwTf7534idf3XDiuxNDjMyBgp7Olu6/dTl7Y63U9Y2ea9gfjic4YypYUVIaOkAF/zsWu8/bi3m/bqwf+IXRc0PFwof20v5+x0GFSkFtiY6OjwQB78/CToVMC843Pic+gyM8Dhtmo3yt6BzrtXT9XHBuvd771ZDjXvC8MP8xFOnWS70qGf+8zffNDtsKqsOuGgDnEdIEE+i1+3Q74PXzQv/szGe2FxhnfSUfHH+3AyAwG6JJlmett9Spvpxn0wxQrqZR52eRx3GUde422YiZwH3+/jr22bsesKq3ZOCc6Fv3KVI3o18SMXIi4/AhtP/4+bT9/zxTavqDn0GquXaanY6+tPXleommCPorLTE17jq/rg7XnZHXNpva8Vl20sWQaJudmKnUlTF3HTkF7XqMumK72nKqODd8Vr4PP6Fp1JQT96tdkvmsj9Ct/L0Y4c2QyuFSwPr9mGRxBW8xAjOlCG8d9iwx/aO2J7ludMzCwOS50NcYVA7loO4vorJ74lZ0z/OtrLtWuqWP5/mEwocteP/Q92+Pa9T3XYsX5lUG/jtckmCroR/TrgTOvhAFYy6s2BVNoMhiQ1NJxNmhJdNs516AYX9mZOUGbol9H/bt94PRroU4MljOuDc+5Vhzw7z2aNCcrP2jJC66X0Lgnzr3nGvEtr+u4a7bT3CC9ntygn7iGzjMgqXFfKHvy/J6gOzt7WsJ1hG5moBA6Ee194NTL9rYfV6QT68O5wCgqyC0N2i6BtgjN9u7xZ+34uXfDYC1eb0X1lqC/270uztkbrgHR1piAK6o3h3MDY2NRG8exoYGPuMalDkw49CsGHqYabUKv6+G9J1+wd449E+rhHGPA+UFYiQtBDKqevo5gkqG9+TzQks3oVy+L9l5eudH6/bh43y/v+1t7Ye+3rNU1NoPlLrSfCu1OXcW6MCCNdqWh6bDr1x/6e9t9Wb+i+/Nzi4Oupg3knPHd4DU5FwzAQr9yXqtKl4dBZOmhDZvYPgUd69932qbCynjnDYJrDB17wU/f8AwHXwGG1Qa/dsn2h0THjk5Tx3IVkXW5rNRjWdexdd4WpNrsJnPN4NCwHT9zzhqbo1EAxYX5tm5VXfid/RhbUFtdbutW1ll21vy/oWH07N7t11ZDQ8hguto4oo+eqQEbGxtDWcowOxpx73TBB2DqQZJSML3wDV544QU7f/58SG6ZTp1Bm/mxYqJx7Bwbx0km1tWwTldpaWnI9LrllluC4SVmj3llXCXT/DH3JV/AsrKy4KZiPK1atSouFYG44MtKdhVfHrKq7r///jDfJdsDDzwQ/maxNp5LWdzdj5q5Mq5SDW5aMq6mDkEpQgwxG4Ty6VeCKER8IWYRcNFUOJGoHg9CC2FH5/CRhjfDhmjs7m8PmQB0wAJ1HfbHDp95ww6efjVkNTS5gKXG0oLqUDfCjg5hXv9wwxte11tBuCEwEa+52QWhLjo2efyQC+YDZ6jrkIvhM0HMMeIfhv090ckZ6vJyR/39UBfCND+3KLwvoOMWsU8Z6iKbg+MiiGAEGiA+CTYOegDBax47904Q94zAKiAoiE3aFn8eHdahLn+PCHlEOpkIdNKOp2+wy46ffzec74N0XLsopqMWQV2UV26ZGf4FdhDUnNvDfi44Pv7mXGZn5LpwdlXm9A50+DHtDnUd8o3O8Asurgl+qCsjjrDpUN/vAQTnlbLn/HNi1B9BTRI88Lnx/qiHMpzDprbT/tmMWHFBRTgvQGc2wQjHdbj+NQ9ITlpnb3M4rwRBkyHjKoLLiADbY6wQ+CP0CfqnK85hNowrrsEk4N9ca7bGv/b8fqOmLyPgn4pxRWcYkHHECEa+iwSjm1fcGbJyaEPY6Gwk64bvLqMWMU8IDDcsu/WaxtWZCwdsz7Hn/L6Rb+u93Oqa7R5wrvf7ZE9obxityUhTgsWK4jpbV7srjJKsq9gQgnmuEa5ZgmKOk2yjZf7YumW3hLJkKmH0tHldFSXLQjtFVhFtDK/DaEuOLz09I7SnvNbqmm2hDaFNYX9d+XrbuOI2W1G1JdTFhrlFUMx3ivaT4Lax7UTIhCLjCsimwrgac3HMOQujYj0ApmOPUZtbV90VRqJCn5832izash5vCzB6dq19yN9bTqiX46VDgraUgJvXK8mvsk0r7/Dj2hRnQg2EMph4nBPag6VeD6NFeY/ZWbkhG43RtrRh3H8Y/cvr0iFy28ZP2i0bHvHP4RZbU7vDj2FFEPZkr/G6F3zD8KIcZhX3Be4zvB/aH84dwT3Hs2HZbSFDjBGr3MdyMvNDe5jnz0naso/KuOIzg1H/WnP90Q4wcn0m7cBsGlcYVav9dkU7QMDPdDCptEbIXBlXqYSMq+lDhyWdikHHuv6iwxcdS8YCbQRt8jV17NhYeB568UiiPV3j0QbS2XlFezYGjXvYNdsB10eJ9kzzOpN7y8joiNe1z3Ub2tM18dlYxw50hjYx0Z6tneeCnpygPV2HY1qhiYH3hPZMBkwcvaw9XceGzuZEezbEOvbN8B7oFI20Z+ZlHUu7fKLxvfBa1EXnaWPbqXCPCzqWlCKHc4j2S+qinaf+DD9/3GvGw3u6oj0ZgBHp2CvaM9KxdNAG7enn4qC/PtqTzyXSnpGO5VyjPZO6uH+T7YCZVOSvm+hY3tt4HUu80eHac7yO5V7BZ4+2vqxj/bgwtHgPSdvPwI4kduGcnL94wjr7LgYdcLWODfrVr8nFblyNJzGF2vuiPoXp3m5m07hCrzLTynL/fNZ7ndwTb+S968OMq1i++nWUZWXeVqCpyCBaV3uza9g7LmdcBfPCdRXfWbKB0Hl8tzcsv/WaxtXZ5iP23vHnwzWS6NcVVZu9nr7QPpX4d552AP1aVrQ06M21NTvDoCAyhC52NoTXRrdh2Kb7dctMA+vrbvGyu0K5Xo+dGXSE/q1w/Z3pZbiWKLfGy2xwvcZxcsy53maurN4arjnaLoIMBkdtWH5b0HQ9/r7bvC1Fv6KFaZLRr7RRXPPoV9oD4HnoV46dYyvIKwm6NOhG35hJAQ0NA8O9oa1q8veM7udYd6x9IPRFNPuxMMMA2V70d5xpPhjMMAZ2ET9wzogbiOs5D7RLkVYsCqYS5wH9yv2g29sXYvpibwxoo2lXOM+0/bds/ETQppF+3Rm0NeeWNom2Ef1KDEC56jIGUhUGw5DPnDaYto77BLp9o78e557j4HzneFl+z82OdOx4go79CIwrPjvaAWJYNBkDMjGzZ+JdzYZxxfXO8TBTAAOv0LDEyamkYW8EMq7eb1zNNtSPSVVfX2/Hjx8PywzN1AibKjKu5pZ5ZVyFkcb+JWTav3379tmaNWvCVH/8rK6OgogETCiMLTKyMLZ27Nhhu3btChsZWvy9ffv2kPaXpCSmAjKuFg6zZVxFI3y84XWxyegpgmdGamGOcB4RbIzYIgBFNI4HsYapgyF14NQr4XlkFnS6cidwZRorOhAph+Al2KRzAFFJFgGjoAiYEXaMtKLj8UgcLDd5XRe7zoXRWojTiuLaEEhSF8H2vpMvGdMJhLq8no6eltAJSl2UQbAf8roIkhHPSV2IY8QsYpFyBKr7Tr0YjBjKUaa9uzl0fiJwKUNgH4wyD6Z5H3Q48HpIs0oXoAh/yp314HzvyRdDoE856mJD4DKtF53EqLwxF7d03BJQE1zT6d3a3RjKcp4554hU6iR42RNnDiCMeV06CxD7BD+U4Xm8T0aoIYyTujJdxVZ7YIDApRzBwHvHfxI+Jzo1GCVGBwiBDEENZehM4PxTlvPB94BRbghqOuXpVKEcnR6MVovq8s/c3w+in+kMgknn7/PqDiJ0toyrSOiHKfj8dzqr2ci64ud01T7TISDQCdAZ8dbYYXayOfp9qjB9Ah0IdJAi9Gkzs/2WdSMD/qkYV5w42iDagWq/zgf8uqRzkSAcUyT5vjGFHcE+Ri1T8fEdp0Prg4wrso/eOvLDMLLztk2PejC+LnQe0gFJR9nyKqb5W+WBY75VFi+3VTXbgiHCddjd1xE6vjguzKaszGwP3Ak8N4SpBpeWrw5BMNcMxjPTCtJOYbZwPATmBKl1Xh4jmYwoDJmNHuQzlcn+Uy+F12bKEYJnpjKhM5MAnedFgX9aGDnO9ImM9KSNJKCGxLjysxdMv9Dx4BsdlJybjR60J1PQ9HhwffbikdB+MH3BSn/ernUPh3J0UNLmYBoyipVRvXn+njlXm5bfHoJxjEIGGtDe0R7TNtIe1FWuC8fBOcHcor3l/BblYbp5m+j/aDMxHemIIOjnmMq9bcJsokODzgJGFbd01gfT8K6tnwsdJVGmggcQcbtY6W0eHSvLq6LXw6jr6W8L9xEMwMjcutIRGgJ+3/ypN9S4Ar6yjF5Hrwz6x9XS7d9/bwcws6YDZhPXL/Vx7Z/xa+mUbzMJ+JliGQN7RXm0TkjSOZkqyLhaOMyWcYWOpRMy6Fhvs2mHLutYbxvRVGhNdBV/jyfKMBoIRggmBh2nDGiiDQza09uSkPHpugdNtM/bYzo9+R0dSznad6aXogwZQ5gg6DvaYupiyi3aKNpdOiUph+FCXRwzOpZ60LIYPhj9lOE9YW4xkCiqK9Ke6OVKr4t7COUwhkJdLYdCux7qch0bac8VoQwdshhuHBuaM9HEKBF0LO0i5Th3aLugY10n8noYQyX5laFDN+hY35hei8fQnhhOdAyjPdGL0SAOtGekY7lfcV+j0zboRS9DNjH3P+4DlOF5GI4M6OJeQMc298OsjNxwL8Bsohz3ROriPTDAgmNAo3Nv4v1Sps2PY7/XlQwIa++6EN4r9wvqQkdQjuztRMcSu/A+OedlRe/XsUG/+jUp4yoiuW8BU7Zy36HTmgFZU4V1Hmu9fcvz88rzadtPeGjFFLrTgXsXWpgMCzKF2Ur83nUjO6vRsR9kXPE14toh9uQ7SOyMTmOAzfplN4fvN2XIgOrpaw/XITEf1y3X5gcZV3zP3zryI283VtrtWz4Tsny4VjHWieXqKtcHg4kp7miD0HV1rju5/pKplTHSmHKP16JdoQ6MFwZdkYHEazAokimZa13PBW3noinSrxuCfmUQ5V6Pp8mAx6Qic58MKfTs5pV3BtOKQUcMUCWTi+cxVSFt8oifD2YcoF3lesTIgcS4oi1hQ3+in9GBHR53oj0pAwxMRfe38UE4aM6b1j0U2nHaFWYMQL/z2vQfMCCh1nU8WrvOzw/Ppd3k3NEOcy5o92r8MbKrOF7iC95XkddFtlz0wS7x9uiMH3OvbV15VxhgRvvHsRIzoMUxrrgXEHtT151bPhvuSUG/jg0HfUtbmDyP1+L4i70dYoAeWaFoVmZtKPZjQ8uPJ+jYj8C4oh0gXkSzDvv9m2n9uH5pB6YpY8OASWb94BZDe3B6Bjo2y4+FKe9pA7YvjwZ1EuPGzfiiQcbV3BpXSZYUa2RhXPF6ZF7NpWkFMq7mlonRQYqTnp4e1rS666677Hd+53fsV3/1V+2ee+4JWVVCLERoeAnY6Ugkq4Dgb+uqe+1Tt/+affqOx0PHICObyCgi0LsaBDVTPCGqCO62rb7XHtr15SAqqRczg45jgm3MLKZJYIQRZSibviQjjOJCzFGGFHs6HxHwO9Y8YA/s+FmrLlkZ6iI4TeqicxZRi1j9+M1ftS0r7w6hNM9NyjAyltFsjLLdufYhu2/7Y0Gw0rlLAHt1XYzYeuTWX3IRfEfoFOA9JWXaPOhFEGPe3LzuY3bPti8EYUlKPx0X4+uifkTpo7f9im1cdpvfxEbCyLHk/BIsk9WEOGZaLcTxHS5gb9/4qdD5QRBBwE59F/18IGYJcOiw5nMhsECEh07c+HUJ+PsHe4OIvts/s1s3fDJ0ooe6PIBP6mLaAwxFOoU5PqZYYEobgoXLdflxEbgjoHmfN6/7eAhQyMQgW+RyXf6d4Tg2etDwCT9vyys2BgHe1XcxnBNEtvhgCLSZxoDsBsQ1fxMETIcuj+3eOBHNA8721snpB/2YXqv8GFjTho7qzBtoWk0Hgv609IwwYpVr8eoRh0AnJB13GPBhipGqzeFa+DB4Hu0AxmxBbnF4Thhl7+0a1x/XLaP1w+hI30Ingz+PDKEw33wcvAIdbUV+LZNRRSHaTqZYGt9hSvmw3zd+J0sL04ZR7Zg50Qj/JaE9of0gYC/xa5K2mGMke4h9XKu0e0y9wnQxBOeMNMUwoyN1/NROmDa0h3Qqcu6unvYJGDzQ3tUUfpYX1Xk7UBVej/NBu85zaCtoQ2m7qY8OPo6HcxKmpfFjpH2gXUmm2gonIob3TJ10ItKJy+fJgAI6IRg88cr+v7dn3vmfoSPmVOP+cJ9hWsSQNUFkfsnPl9+7IOp07g/nMHwnvBzZD+HzcKKf0RSKvH86CqiHzyxVYAqTYDyVRuvLVRZx3PGDU4RMyxcOX2kH9p2NOhGnA+0A6yrR+YdhQluQQqdJiEmJdCztZKRj0WXoy0TH3rnlp4KOJNPzatMK0GHoRTQf7TnTdj248+ciHes6hnYp0UdoWgZF8djHbvqK6+V7Qp1Xa0/aRtrYnWsetPtdx06uPVv9WF3HVqBjfzFkDgPG//i60J4MQrrJted9274YOnq5V6H7LtfVF62Zgvb8xK2/HHTZJW97OSdJGbQgdZGldfOGR1wrfj4MNHq/jmW62oGgDx+97eshk4JpWpPzyz2Hdj3o2J6moDPRnpzn2zY+aoW5JUGPopupL9Kx7UFrkl1CnWRjkGXbPUF7RnWRwXvP1p8Ox0gmAp/PRO3ZHjqCGYjCe2WasKBj/RxcrsvjhciAWura/4t20/qPhU5o7iW8h/F1odEZFPKIfwZkSXO/R8tzfqVjrw33KDqE6WxGO66tijTsdG5dzAzwzukr9y3WLiTreDqgVbl3cRxkCaOnMf1TDj9hiX7FfKB9SHRKAm0ZA5IYMIWOYhrnJCPxgwjZSugg11UFrtXQa+hf6qcNC/rV2zYyddCvGa7VwvF425Xo1+RYMES4htFTwBpLkanmH3ZcBi3O3+/Tr/6eMK0wvtBhmPjoUrQXg4qIJdGQ1I12pC3tGfBYcmwoZGGRsUkbGYyw8nVB4ybwvAn61d/P1XDt8nwG42Jks6EdI7NwlWWmZwfDnnbriq6uCseDvk90P+0kbT36kvfJ+03g/QYNnhFNI06d9BkQ+2KGvXrwu/b0W//D3jr8w/B+uDdQN1mcvA51Bf3q/wX9GtoY9Gte/L6ufB7JZ0L5EH/Enyu/pxpMzUemIzEtv2NmTRfWZv7JOB17YJo6lrNFdlXSHiXrWsWnUQghPpB5FfJygyAzav369fbTP/3TYbo/fiezSoiFCGKTkfQEjARp/E5Qy2gjAnNGYRI4RqNU33/nR9yRfYRYREwxEmubB/KMtkfoEqxGI+TPBpGIIKPuravvCWXDaCMXbTzOaEcCSgJQ9q9auj0YUowwQ7Amo+0xuQigqZ+RpNtW3Wsrq7aE1yfYRvRTH0Ezxgqin9H5dArQEcv7IChN6kJU0tmJqN2++v4QrCNy6QRI6iILibqYUoARaMliq9TFSNorddFZkRXOHcYbI/5zMgvCCC0C5RDwY1z5eWFkJ2IU0UwAzog7OoARwIwW47Wpk+cgdlmgdufaB4NZR4c45z45PgQ2dREYMHKM7BM6EngtzsPEuvLCKC6Oj5F01MVxJ3UhvhHUjDhNMjww1xgRRidKUhfnh44ARgty3njPmWlZ/tl0hu8Tn4X4YBgZFjqK/RbD9CZkhrK2DNOGTRVGpZ1oNttzJtpOtkTTNEwFAn6EfZUfw2oPNgg4EP2pKvS53iLTw4N/AjxvF8ZDLEggyPez8eKJcB1jSPPzw+BaoTOMIJVrJAqs/eQ4I/7dZ5o9Xpt9YepU/x1zh2uPwDOsNeWvw/M5Nq4NfnJd0llGJx9TwTDiMwnGeT+8Jm0Io8frWZDa2zkC/6guAtyxcGwQOhhC0Ov7fOO4MMMxlTGN6Xglg5TrHNOKjNfxwX04d+kZ4fwReI8PxhNGRgdDRwM/GdWJEcXzeD+MzuX98Z55Xc61v4vwGkldHDPHS2cE7QrHSduRdBiG9Qa8PWVUGueBDg6mPeUeg4nFFDO8H0bcMroXA5K2n/fMZ0KnyiWLOgnI2mpsPeFtXGN4bUamJtO2cl5p2xm539h6Kkz/NDo6Eurn3E7W6fFRQUYTHX5c/xhXdaXTD/yZWomFsZN2gIykqY5SDR1//lqYZ2RZ0RbRLtE2pKKBLcR4aA9oX+iMZEPH0kF6RcfWuY5liqXJdSztVGtXpGPpiGRw0JZVaE+mzbq29sS0WlW9xfKzi6/Snld07JoadOxdXlddqCuYK5f1otfl7TGmGmZZ0J5ZaM/xdTV6W+baM7cs0rErXccWu/b08Hqi9ox0LJla29e4jnVdxjnAlErqIuuINhs9x/S1TI/FdK1Amx7VdS6cS84V+nDn2geCXqRd5b7CQLWk7SeDgKz9oD1dx0ba8+agPS+hPb2dT/TiZR1buSHoWLIu6ITms0qOD10OaE+ygDnG4rwKv1eMhEyupC7eE1m46GveK/c67h/BPIzrwhADdDqD0ZgWjXPIAA/uQ5frCjq2IJwvzE7OH3XxOUvHfjBcSWhVpvViTVRMI7J1L2vIqNgHwpqOp1yzJvcttCyadqrw+phWFUwRiI72jWkH2ZdqoJEm6ldu8OPPEuaPx3/+/STbkeuF7/j4NaCuBaYR7QTtG88L+pVBPkFjRmviod3QrzyGdqa9ow3BPOI1giHiZa7oV3TqpWAmY2bzHHRukunDa6HtaNMYLEbmKANM0Yy0ibwebUPQiehn3i/tr/+eHC/rQ9He0F7SFiRTqlZ5m0hmWIa3jwkT9evkU75yfTNAExOP2V7YwiApb78YjMkx8J4xw2lXqIH3FdV1KXxGaE2OgY0ybBwjbTFZcKFvwfdxnjhnnE/OFb/n+3mkfWKqfgZdYWTxemhizErOP/0uaGxmciDrlj4UXpO+AM47B8W54XyQnRVNhdri+4aC+cW9jPeUaqBhyQ5PrkOm7STGnc7gp84+s0Pnx+nY9qllcPLpMYtJcTzzwDpvi9DRxNMafCWEmCpqLoRIYRBLjE6ik5DsJAwVFip9+u3/n72072/DVCdMWYD4nIzewWiUKSOgmDaLjkc6ZxnlhIlCsIrwIkgk24ogmccY7ZWM4EfwNbc3hI2AErHNtFhRR0NUF4IO4UhdTDNCRzFTB/IaCFEyJHh9xGxUpt6D5vNBrJLhxQgqMhl4fdL+6ahI6qLDl2kMCLzpGKazgaAakXylrgtBMDK9A50BBNwExBhZdD4kdSE2Me3oQEW0Y5oxmhYxjDGHWI4C/tbQGUKwwGtHgUZe6AxB/NKJkLw28N4IGKiHOcX//+3d6XNd533g+Z9ILARAcAMJ7vsiklosS5YUSVa6bcl2nHZnOklX3MnMVF4kTs2SSVX/B6m8SCWvp6Y8M3mRqlRN1aTd1Z24ZVu2Zcfy2NotSiIl7uK+b+AGAuA2z/d37gEBiJYAiZIuoO+HugJw77nPPefce577O8/veZ7D9H+UUy/DSfasrnmlrKVl3Toy+GU92G4acurl6DlHLzam8GL9cuqX8voExDzOtCs0fjONFtPjtE1vjxmlDLabMtkPdVnsnyWlLLaB/UbSjdcnEUnPXhoE9P44V+LEmwD//mXV9FyMtsiRV0TiHyNeO0da9VTTKTCtQk/jRGOyoj4jOcFJHklWPrMk3zm2Plg1Kue9uK++jcY0RkwtRQMXjZ009HFcjcRJLyeoTIFKHbJm0X1ZL9SoC5hqlfr2n375v8fWfb/I63FRP6K9PKe7qyePJxoHONZpTGOqJepLEticpPM4deyVq3RXvpkn0Lze7U7u3w8NHDRocKJNXU4dzIeFk3vqPXBRfH6nUYDpGqnfqZ9J5FFH0KOV9aJeqRoBLuRUVlw0/Lsv/B+xZc9Psy5kPXmPqGOoy+mx//tP/sf4ncf+53j47q+Xx+8q301M21W2syzPdRdonKV3MdcsZH9xMWz2H69D4yONk+xzGlVpNPj5W/85frrl/4ldh14t950u6z0jX5P6q9mQrFqzIGL9wupGvfBJ4JhnxCfJ63tKPUSPdaZwkiYDkuB9pQ4+foY49kKcL3Xqa6Wu+XEjjt1+4OW4WOrNXxvHltiXhE1ra3uJtVZnZ60q9lyY9RINt1XccyjrWeJIGkFpRKWezmvoleVzmXMH87uH0V3EtyTmiXFJxhAX9g+MjWOXltcg9mSkRBV70ihZx1lnLx3PqaYy9ixlkVQh9mQqa2K1uizqWr7rZhPH3sWo4RJ7lviM76O6rHOXT2b8ypTP1IHUhVlWiS3pWFYvRxzLdQWJNXk+9Xw1FdddcbrvcO6PjGMvlzi2PI94kjg269aMY4k9u/Pcoi6T7yFi4Yxjy++UTbzLtWjrZejswHYR21f1NOu6In/yHTtcVtk/TGPGNlKPc35AHMv3Fo9nHFvOTXgNto/vKmLhevYI3p+6LM4Z2LYsq/xOWTyH94bvsmo0hN4PHS9oMKax+v4SSzLSYUaJYScYekwY5c8o3109XVXs/LkVVYeL1vLV/nG/9seB+om4q0pIH8pjgGOEY3U8SIiUQhp/Ndy+ykvEnlwXj9dipCbHVMZ7I7BOeX26EudSjzEtN4nvGvEosdgvt/1TxnZvlNiuvZzDE39Sd3BuO7tzQR6btDNw3ssxxTYSvzK6tIpf+zPhQyfPG8SvpV7lmB0bT3+QjF+vD8b1m8SvLRnDUt9w/WsSbnwsiF/5ne3gdamziVFJntWjWPlO4G86rNGRiinJiVufefH/jF/t/GF2MCPmpD4hfqWshzd+PX7/N/9j/NvH/5d4fPPvZLsInaZO9x3J8quEZVuu496jb8YzL/1f8bM3/zGngeW1Vi7cnPXfzfJ9lomtkztz9oHnfvUPOcUr9SnvTz1qrdlwzkryiMTRF1ZXMeyHHXk1EbynHO+zZkTcvajEsEurpBUJ9Il0ApUkqwypiRF4caKf030MVaOBaPitT9QJujh5I+jisbGY5oRAlBM+elnSo4gTSYazE3gSoNKLkiC16s06p9zo1cVUVx2Z7CAAo0GRG2XRMElZ7SVoJ9AjAKaHPMFtXRYn6ZRFAwNJExqmOeEkyOVxlqOhgiCPHpucAFAWSRZOqAlWR5bFiTeJMp7PiDOSWAS7dVkEsXWgy0+mHsiySgBJcq4uiwZTkln1aAlOOGjgwIXLJWAvATNBK4227GPWm9cmmKVcGl1J3NWNL5xYcOLA1Cm8FtFZR1t3vgYNB+cvl2XKjcZjXosGBrZ5eF2nt+e612UR4DFXOb1VWT9GH9CQwAVlKYsbjd+cMHAiT9DPSX9VVtULdbissq9ocKGsfM/bZ+VoEho9WI6f+mAE3Hl9qRJo02jNSX/dWy2nXeFNu4PoCUujND1U6SW7tnw86Sk7v5Ewm8yBPskN6jLqGk4aOaZpDBx7Mj4xd8VdY07+KZ+TyGq6oSPlnpvZk5ye8CNPKKkb6IHKaCrqU441pkgi0V7j+OZEleOZY4b6iARQfd0m6gTK5v79x9+uLth9ckc5Bs9mfVMKyPWhNyjHHfXEzPIcflKvkOz+MHKTRzy1KudWaSS3aQBlnekly7UUGE1FPUi9n43EIz68VVKx6mVbf5ew3nUCi7qcfUMP+k0rH8uTeL4rWOZiqW8ol3qRRgnWgvLZJ/yk/ql68NLQcL1a93I/dS09gtm3IOE1UOpdGkh4rNlwXDI9HyMwmXKFZDKNAN3lhJzj8k7WBZRFI0N9bSySVtQD1D1MudRs17WSfp0qOX4+OxJkw2epT6lnsrPTuRLHlvqJUZ5cU+m2cWyJLYk9iREz9iwxGMmjauTArFKf3Yo9qY+GY88Sx9JwSQcg6qCMF4ljcwqq1qwjieeqBFcVx/Jat2JPRlKV2LO8Bs+vRgWMiT0zjm3LJAyxWI7aLWVRv4+OY4k9b43UJY4lJqbOvlXWmDi2lMXrEzsytR/LcON7hWWyrPKPDhBVWTcz9mMf8J1F3U19Sgw4Ko4tz2W7R8ae1MmUwWtRJmWzvrzWrTi2Px/P2LPE2MOxZ/lJB7FRcWxdVtlvxPS8PvuzjmOp43kN4nTeV67fQ6Pw7eJYyiIWr85dShxbXr8awWwcOx58N/HdRccnOj0QU/LdxQhiYsqP47uE15tbvruWlu8rvrfquDlHCfNd2VhuMmEkYyZLy3ki0wnyuebzy3ncB+MIy8hnFPbD2H3BZ5vOkYw4JH4lLiL5TuKbOqFG/ULdUY9a59hgCmqOtRrJsjp+JdZiFgDiV2IxRj+x/kzlSbx1oMSvXOP6wIntOVKT5cExRmKamDbPiYlfyzloS9nuWxHnRFX7YvSzb+0NXmNR2WbWi+vuEVOzXpw/MOKV+6lHK3RquxWjE2OCbSQm5TGSV2zn/SV+ZYTt6sVVBzW2kSQU+5tkOrFxvU3sH57LOQM/M36tv59K/Mo/6nVubA2vyzkF0yDe7nvs08buInlFsorZO+rzWa5hR2L7Tiew6hiW82dGWfKazFjAeS3Xt6OOGH4LJWkcJnETmDT1EQwRZBIMMd88gemD65/O6yTR04sgiwsbE+AS7I5FIDdYlgEnlwRgBHuctHPimY+XE3XK4XdOILmfaIKGAZ4DAnWCRdYFjI6iV2VdVtXLvnqtLKsEcvVrEATyuiSnUJfFyTWP0YDN48y3zYk168Dz67IIACm/KouTHq4DM4O4cXRZ5fl1Wfl7oyyCSsrJ9SqBZb1eqE6Ymdrq5vDjFEzwy/6k4SMbl8sJM7csv/zksXoUBQ2zw/u2lMnUCSxH4wzLcKO8W2VV01GwD7Ossu4jy2qbXjXKgO3mOQTEdVkE0/ROYzuqsho91UaUxY1t4oSK9eJkgBMe9gn7k8blOrjXByu7OQNwgu+HVkV8fmXVc4xREJwI3MnYu74WwOYlEY+tq15n4awqyJ/M+DzSg5OTY47fFQs354njhNxmR+dd5Q0aeQJNgxwXm6cXJtPc0UObHvF1b/IaJ+NMn0JjBPUXyzH1Sz2aCjSmcSHnJ+/79/HvnviLnG6Ji1PnKNVSL9Mjn6k4OXbpHfvy9mfK7Xs5EpZrYVEWx/+BE2/n6zGlKD1n67p1ojjOaTThuKcuYL2ps/jJ8c8eaWuMJmDaVI7/w+Wk/+Xt34+XyrrRGEiDIQ0POSVNKY/vFaZsfOjur8bvPP6/xufLdwwdEmhYZkqcbJwtdWXW9Vl/tmTDK99BjLilAYXvoGNn92bjBtu2acWjZX/9b/HUg/99Xr+E/cMIYUZ78vzurnk5jRfXl8nrIK56IhtRjpYyaMiutqX58PEhebWhHJf0Xn94ddUgR89yks53Ap/Q6eV/nPDT0Pi58joPlDqH6VW4z+kBNZlU8dVgdr5iilM6Bjy04at5jVYaY4nj6O1PIy115VjUc8RnGS8S05S6j9PXrItKvJXxYimjjheJdYidMvbM+GhM7FluHGXEQzzOcnW9RkPmcBxLWY3Yk+WrUQGjy2K7qucT29VlldizrBfbQjn1euX9uV4c31Ucy94ZHceWODPXa1rZQraRmPZWWawbjbZVWVVLI9flqWLiaj/zXVA1qg7l8xjJ3zLtVuxJ+VW8ODKOvZH7to4969h4dBzbiIkbZVXrWsWeQ6PKuhUT43ZxLHE5j+f+YFtLucwgwP4bGceyfyirWq+yb7Os1iqOLcs1YweHZsXIXTpc8T1CbHnv0moEVOcdji35fPM6NIoTKz+ypmocz2nJJvF3F1PQvXv0zTy2Vy28N5O248eGl9uI+DPln3zqb91PwpkEEiOp+KwzgpROSMSTVd1XodPV/uPvZKco6lViMa4ZOzKuJonONPdcD/l3Hv/znLqfeJdkF/Ed00sz3SjH+46DL8crJXZ94e1/ykROHb9SN9DpiZiXOHr5gg3ZsfXD4FjPuqvUf9Tb1E/UF9QNbEMe760zcnu51jPH/tHTe+JXO5/N0U0krujwRgxbx6/EsiT2uMbgNx77n+ILd/9Wjp7l+4aEV14rq9Qf7Mu63qS+ZKpZYn7qEaYD5HyBRCCPr1/6YJZFbEqbC3XVtn2/yO8o6tOZ5VyC/fDFsl+/9oU/zqlk6QhBB7gjZ/ZkPdisSGRzLK6YH/H4+iqOJc4keTXm0/mRcKyTGGd60gdWlFi51AO8Due3nE9L0kSZuJI+YXXPHRoxdx95Pd7e/8vb3ggi9x7ZkiMHOElkOhJGQDFtBj38uQA0wVfdo7PuHTVWHYgQHJaYsP4jf2S4XAK/KmgeHbKwRGOxfP28VX+WB8rJYl1WwUlyWSDLyaXK7/l61SOp/u1WWVVpLJc3fm/8yyIa//ht+P40YplGWfzOy1XbWC03+jl1aY0Fh++vlsvHKWeEXJbHRixfP6suq1qGRepHRiwzvG4s09iGEcvVS+ZyI8vKiRgq1bpV83q/t6xcpPq9/ENdFstwV3V/Y0H+4kn5Mlb9E8Euq4Nwkkj0HGOaBRqv+ckIjHoEViaych+PT339HHrD0gDOyT7TqtQ903q6IzroFTvZ37Ly0aPX/Im+A1lfkdghabTn6JacGojH8jofpV6kfhyLE0dOOqk/q0atgUzA8unmRJPPPg129Nbm5DITLgPnM4GzeF411RD1JccHJ6qMUs3rNB3fWp4/Pa8TwnRGLMfroGrMa8tRmUyjtHbJAzml1PCUKeVkm2QL1/Bg+tSchrRrQSaCOJmu5rtn1On03C6mSGLbaQAgsUbDBNNDcTLOdHuM8vwgrFv28m1pK/vsXG4jjXckj/iuYJ0Yxco6k1RjvZjeitGX1cn+jGhrZSTpvGyUoLGVxkB+Z/3pico0VPSWpyz2E42h2cO1/KOhIOuiPCoadUxj3zPNFvuWxgYaBEic0ZDCewCu0cIyPItlWAe+z+gJy76nNy/JQPZDMzdIklxmJNSSudXxSj3AxaY5XqkfGIE10Ua6ujGB3rCc6HOCT5nUL/zOqCsaFjzhVzOo41gaQXcf/tVtY9i3979QxbFH38iGUOoOppVjhPqSnjWxbH4Vx9JQSb1ILHv7OHZMfdMwKu7h1liG4GjkcizJ8+vlqK+qe0cuU6lKqf+BZarbrf+Xx8a+ZuPRSvlZ/svXyiUaJWXQdquc6rdqufqG+pGxy4wqa/iRovxSx3a5XKOc/MmvPN5Ymv9Xv1XL1v+QZdQPFmPLrJcbudDw+o34h5Fl3VrX8ijljFivWyVUS93k/nwtAp7G65Wybu07/oEy6lfTeNQjr4hVVxBrlu+WjeU7hliTayeSxKJjxES+Y9j/fM9xrRoapJkCjPI2cOM7scTKi8p3FyOt7vSo5E8aCRA6ipIwYoQh11Oi7iNu5TE675BEIsE8VpWwac3PMbFrxq8lVuJjTSKMY4JkLPHcmRILHj61u9SHZzO5wvTxTBfKKEmWo+MkI4mYKWDPkdezzIyh5izLmIrYCtTRvCYjFqlv1yz+XMaETBdfjwoi7iM+48a0nyzLCFNmDiGGJWakIwDbTFKGepz4en+Jmw+f3pWxK7d6WuwPQsdOOi5Q57OtVfx6PRM9vAZxJNvKFLDEkFzTbvH8dZlgI2FFRzRujESlcxWxP8lvtoPtZ0rw+pIB7BeuQ8W+ruJXPquN+DU/iFVNgus3mcmG+HUgY2zifEavMcsAr08Mz/azvrxpnBdwrkDCjGsf5vSrOcr2SiYE2aZmxaZzLDJVHwnljDVLDMsxW4/AIr5lBFaezzaeNx7EsHldZs6TS53CzATEsZTLeXKWW+qKicTGklQjMpT0CcrpkIb6swfT82/8p/j+y39329uPXvuHnP//xNl95WSjK3tT5fWW2jqzAZYL+9PDh4a+DP5KuWPVPYtQj7IhmGO6AG75OA2ZZRkab/P+61czMMsejdkDqgQjrdVFS+ltymkjgXNdFnPgE2xSVjaKlmXoFUYDBD2q6rJytFYJVni8KotG6KosAuxcryyrGhU1XNa0adX9pSzCTB6ve7nW606vT9aLhhQC1Los1nFkWZw8sI25XllWNUqBQJbH2QaiOp5DsE5Z125U68fv1XaXk4Gy7vna5VadSNS9XKvewfzNa9X7jdEK7APK4vnDZZV/nGTkcqUsdhDrk1OM1etXymMf1GVxklOXVe03rnlTTck1siyCU8pifxGg55QGZdunZU/fqqexJoZ9Wt7WnAJlXQnIH1wV8Zsbq7n7mXqlnsJrIkE5IzUoj6nA6J366NqqNywnE5wATKWGauqqHOV0cnts3ff/xS+2/pf4+Zv/OU+CSWjtObIlH2O5sbJ+KSes9AAnmcItEz3lc1+PAKXBgJN+emhy7SXQ23RlObGkvqnRE5MGhgMkzsprzpm5MEcAzC8nnzWOp+tMsZLHWJU85jhkPbJHP3VE+Z3pkjhpZvqRpx/8H3OE0eP3/HeZzGK9aASgZyiJJXp0vvXuz3PkE3X7m+/+LI6Uk3++C0igkXj6INQB87oX5zFOY0GdrOI7gEQcdQPfEyS3SJxx4ft//cB/yHV7rKzX/FnLcl/QMFBfIyXr8qy9KvTwpy6hXqWhoa5jKLt2rdQtNFiQcGRZTtppFKjfJ/YPhwE/SYKB96eq4+n4cOv1qkadUqeWcmiEoJFgAofQp4aL3jMKk2vQUQ88tLo6SSfxlFMwTSDCZlmeQzKM0ZbUA0+sr5LYvIbTqqiZjIxjf/bGP942hv3+y/93/LjEsdTzNLJSD1Rx7NJSJ5Y4ttRhPeV3GiqH49hS14xFzEPdkLFnI6ahg08Vx46JPRtxbBWPlTq81G1DxLHl2OFxbtmwW+ofZjGo677hskp9NTKOpb7ifrAsrw/WvS5ruH7ku6L8y5j4Jus1Mo6lrKFcL9xar1txLHVgxoYZz1VlVfVlNYPBqDh2VFnXsqzhOLasN99XOTqp3Fhvlh+OFxu/8z0wHC+WfxnHlrLANvMc9sGt2JORTtX9PL+OY3kvRseeo8tiPbOssg9YhvMIYmIeZ/tGlVXeF97r3CflxhtHWWwDcr3Ke8X5CsuxLzQx+V1TDgEalhkN9Uj5ruGaNzQuM0U1HaXG+1XDdxKN4PU1tO5bFvHk3dV3IUkxymP08FT47qo6B52KQ6d2ZFL+F9v+a9Z97x59IzsjcV0kRkrdrgNSVUd15Ge9jl/pxFMdh9UoUj7/dOI6emZvJsg4NtYsvj9WLb63PLfs4AaSTsTR1L1cP5SpAbl+E9eIq2X8Wsom1uJ33oDh+LXUCRzL/J6xW/vM2Lji4Xj6IeLX/yGevO/3GtfTasvp6rkuHtOxUodv2/fLRvz6X2LLnp/EwbIvuEbsvmNbMx78ILwe8TbfBZn0ung8t7OaNpZtHoqeWUuju8Sv7C9GXf3rB76Z6/bkfb+fSSnqQhJs3KhTsg4fEU9yH69D/UY9w2PUqdW5cIXXJHY+f/lULtfBdLBlWd4H6lkSUxwEfPew/dRptDtU9fHoeJkkO+s0On5t/g8856kcu3S22rw04mFizg23rkH1YabAJobt7a46c1Gn/EYpk/NkyuMxypOkD2v6XxaN39UETlyIOHw24nI5n7ny3k7nUwbfgwTHNMwS7NI7Y6rhnPJCieMunylBUnk/+RsEPASrnPRfGbqYASlTDoy9MbqK3vtMVcVc2gReBE8Ebm0tHXHmYnXhVE4KOfFn2qbqRO8WRh/QIMAIBXoTze1enD2ojpzekw23LE+jK/dxAkjDAcHi/DnLsgcsATrrWjWClgC2vSvLosx5sxaV4LOzGjVQgmi2g9EFWVZ5bXqkEZxSFgHqoZPby713VWWVZVh+8Fp/lkfvJoK+w6UsAknKpcGXsthfbCe9reiVT2Mtjds0ktZlcTI8VPbn0PWB6CnbSLB55NSunBZrVFklgGWfsJ70zuKi2ZRF4yzB/4I5y8tncnbuB05SuD4Az6HnF4k4AnSuV8W+oDxem/1P4y3vF8tx0kEDNYEz+5aTAk4AOJkhAKShhh5gnHTwGpRRl0XQzjpzHQUalmmAZ1qykWVxssHnhgCbBiDeC3r+0SjMNWeqsmZmWczdXTdQHzmzO7eX95zPFc9l2ZFK7B0t5SM0c37ErIUlsDW39R58tgm+6VnGravUY/Qg4yeBPj3KGD3FdGL8zggKTur5ybze3E/PVhq3aaSmp+vycmPaBoJ76kISYJQ90ZOGj0upArIuu3S6qsvKuduvQd1WTQnISTxT57177M08BjmZ4/PIySHHLSedfC75bHPdEeqddUs/H4vmrcnPOp9rGgM4maeu4LgdGrqSxzb1SX1dKj73XBdu1cJ78tjgNbkY9clzB7JhjLqSk2LqKE5w+cxzjO4sJ/yMejp+bl++Hs+lTuT4o5GObaH8Y2VZ6suj5fjh9xNledaNkUT07qRevjhwLk5fOJLry7ZQX7HebOPKRdW1oDgeOS6pz6ljSPRQd9RlrV36QNZxNC7weruP/Kpsy8tZLstSP1PncdyzDNcvPNl3oGoEKa/HNQ5Yd8pi1BTvQ+7D84dzX3AdKi5YzWgxrvnC/qLc+qL/1IO8LnUXdTrXOKAX6ZKedfna9Fylft5/4u3cf0yHwnQz7CumfaSe4T1kX9fvG3Ve1mHlveL95/2eU5bje4zXOHDinXw99msm3coHbf6cpdE7e3lO9UJjAMpHJFrLrTw1ylvdNDjxJ1FNz1ROyqkH+ElCi2Oenu3cSEwP1wXUA+V3jnHqCRoNGE1Fb1RuNCYuKzfu43HiJOqCydRD9cT5EXHsr60rJjfeF0YnEL/yXk1VdRxbqo7bxrFc94Ubdfy44lgSLKX+opGVup/vCuKtKo7tyTqnqn9voX4jXq5iz0sZe1KXZux54XiJaUbGnndleawPCfy+Ek8Se7K+w3FsWX7wWiOO7V6U9RYjHPoun8zH6rLq2JPXol5iqrCxsSfPpSy+h5jSi1iPkQhcE2psHJuxZ/md2JPRGYw45ntnbBxL3UlZ1PV0bCC+JJa+FcfeyHqbEQfErFX9vSPry1kd87J8tqGOYzP2LPuRazxSNvFixrGlLMqrYs9rw7En8fjRUr/z3UjnhVtxbGueR/B9QPxI/E5ZjDJ4T+xZ1pnvBN5/vlf4rhobx/Kdwk/KYh0PndxZvk+5RtnosthWRhDP6pqXZfH9knFsKZvnsv7I+LUck+WjlvFr4+tDYxBT1t9d1GN8f/GT7646hq2/n/jJd9asxvdX/RjTZNOhgtEZ+b1V4lfiWH5fXO7n+4/6sVliWBDHljDwfeJY6rTI+JLYsIpf36iSPCXu5DOd08R1zG3Erwuiva0jjxuOCaaXI+HD9fIYuUPsRd1QxUUXYnDwcsa/1DPERMRP1GvUjcSS1Bc7Dr5SYtNX87yPupLnUk+xTiRNOCZ43s5Dr8XeEltTBxJPcmwxDTP1XU41WuItjhOmb+bc72hZro5fOdaI60iI1XUJ9fCpcwdzW7gGIOvP6C3Wi2vicVyyrbPLurJ9rEe2Y5RtYpvXLvl81mO8NvEhHcK2H3wxt5O6iP3Dx4Dtz8R2Ke/U+YPltfoao8f2lXU/nbMDMFKf5am7qCdPljLqaxOyLxhtxXp1dZRz9fJ89jP1H/uCeJJYnXifOpSZFEhy01mNx0kssn5V/VbFpSt6N2fdSIerjJn7Dg9/11AesSmfDToK831BPUg9xDVtM349W+Lmsgx1FW0AtMXw+RjZWQ4Zx5bji7qpe0Hjzk8Zx2bGsKWurONXOklx7HLMc746XA806oC6HuB8lsc4n+WY53p21AP1OS1xEYlrRna1NmLYZqkLmsHg0NXYc+BIHDt5Jv+e3d0V61Ytzd+5/8Kl/vx9ycKeWLdyaTn+Jv8X2pEjR+L111+PQ4cORV9fX1y71ggop5Curq6YO3du3HPPPfHQQw9Fe3s5mHTHmLhqMiaupo76hH9s4oqgjUCYHkUEVTTW0qto7G1tuX/Vos0ZPLLHCCwJfgnsSPKQRKlOaDszmCLwIngdiZPUEm/lc7kINkmvmZ1zc3ouAkJO+ure+QSqBLacqHK9kzPlcYJoAtSl5TV5Hg2dlMVzaXggICVAJWAmqURPKcriRPZYCQxpUOCaLgTa9AybWZZfUv5mGda7mhrseE5nRVBMWQT19dzTLEcgScCZ67FgfQbiNOiSrFtcgm+WIbgnSCfpxZQHBM9Mw0hD+YK8DsviXI6ED1OI8Ttl8fvOso2cADNlFSftNBDQq5PkEqNA6N3GdAAE2rsOv5YjDdj22WVZyiHQJwk1v+x/luNEhwZZpjbI/V2WoTGFIJkyeP/YJspiBMOiuavzBIjlMll4YnssmLsin0vjPyfzOcd52Q6W4Q2lQYGer6xz/8D52FVOdLC4p5RVTjJY7tylk9moQDnsS6brIdimLKZfyJOust9GyhP/ckyauBofepIyIoqTfU7kSTwxcipP3gnay33cCOyp40hWEdwzmorpVDaVGJWpFPibxzgx4KShmU72wQn/eBJXnPSTfOA4/tkb/29OE8UJOA1oJ8rxyedyXTnBXVdO8O9Z+VjWfdRb9DLluHt007+JFQu4UPTNTLbsOvJaNmhST+XUHOWY54TzlR0/yBFKHAccc5tW/EbWY5yA//Lt/xrvHHghX5OGQj7zNCTWSRaWJ2n1i23/1Ej89MX5cqxwnB0oJ7Wc8NJISYMay23b/8vYuu/neX0mGhQ4dqljVi66J0dV0aBAPcLoqVd3PpvHLFMCsgzbmSMKyok2DYwrF24uJ/ifixULN2bDAY2c1OkbVzwSD6z9cp5Ec3L++q4fxwtv/3NeD4z6kUZQtmdmx7xy3M7P60MNDF7MXq50LqAuoUGRBkeuG8VUsrnPyzZv2fVc2V/fz/eEKV6Ymot1Z1oYkvHHy4k328U+fefgi5kwo46nUWLVovuyMeZSKYs6+Fe7fpTXQGB6HL4r+F6ifuF9pMGZBgV6sfL9wvvEa/I+cXJPQpL3KROEZZsoi/215+jref0vkoY0arIM+5W6icYL5Al/uTVb4qqWJ/9lVYlpOMHn2Ceu4QSeumBBOfapAziJ53fqAuoKHuN6IxuXVD1UmaqF+oHGgHrKpmnVLphUTFxNHXUcOzZxVcex1G3Leje+bxxLvUccSx916nqS20xdxcj1jGNLnTccx5ZY5T1xbHlh6iOuQ0KjInUOjZZZp5W6akHGsVXsSQKJZDl1PXEsdTFxLImQOvbsaO/KGJY6h3qaDllMudVH3Z9xbBV70nBKWXw3URbfNzsOvVwem1vKqmPPziyrr3wPUBavS1nEctSJw7Hn4KWsQ0nKLC31M99LfD9SnxPHsQzPPXWezg9nSh24Kht595S6lu8x6mv2D8ux//hOIwZeVuJYkmnEgHRIoCw6crDOjP4nFuc7mIZYYk/+zji21P0jY0+maazi2GVlO1bl9xiJNZKETB3LMryBlEUDLWWxTbsOvVbuvpHbzrawXD0qhXXme29v+T6gIxmzRLBPWIb3kwZhfvJdyPcw30N0ylhcvitIYrIc38fsN95ztp84lmsg8h5lHF5ek4QfMn4tHx0TV+PD9xY3vmeoy2ik5nuJ762VJSZdUmJSvqv4PuK7i9/rZBUN1Hx3MR0go4JXsXx5LmVQN1JmM8WwKB+1901cVfHr9UxuPP/mf8rpTvmMXho4l+fPHeXYreLXB+LeVY9nnbewHCt8Rply+dGNv111GiplnS7x7q4SS9UdM9vLsU2imeOHeIzYjWOY87p7Vj2RP6lvXixxH7Ekx/zlK+fzs058SWKH+oBj893y3F++/U8ZuxHz5jloqUdZ79Ol/uAcjzqO45zrMnFjhNjOw69mmZxfUidTV9CGQB239d2fx8s7vlfisXJ8ldiO43TD8i9kfUCnTurXlb2bM6mUz52/NmM0Oi2sW/JAxq90EiMOZSQWI7KI/YglOQ/ndUh4ca7dXeJY2hvoBHWwnCtTX7IdTCFL2cTHlEu8+sbun8SL2/9b1vW8F5xXr2rEr+xoZlZgO1/d9Wy+X8SvtCswKmpF+V7aVM4z6NxFDLplz3Px4jv/LePXQ2WfUvdQP9FpjHNi6hu+i6j7eG/4yTZQ//D+3Lv6i5m0om7fsvu5an+VdSdOZ12ZDYdr4BJ/054xrRG/1jKObbLEVY1DlfNOzj9JWHGsE9swkwh1AtN9Dp/PEsOWeoBzVuqKNWVbmGmAkVqM2qQTJvEu58X1tIBNVhU0BRNXJq40cSaumoyJq6mjPuF/T+KKf42TfgI/TjBvf+vMxwmU6K1JAEijIIkUelgSbHI/818TXLI8QRcBGiesnKiD1zlz4Uh5Dr3gB7McAl7QO3/hvJV5Ms0JP+XSkHqpBJpHyzIE5ASwTFdA0Ml6URaBIYEn12UhsKZnaM7zXIJJyiIAP37uQAax9PQnEKasheXkds2ie6NzxuzcNhoiKI9eaQR+JHfYXtaLgJKyCGApiwZjAnRO+ElQceK8euE9ZZmqt9mpUg6j0DgxpyGBEwQSfATCBN2URc8uXoP140SdUQMEoSSxCMo7mXu7pS3fIxrM2U5eq3/oYjZyUy6NFgTO9CalTMo5do7eVlezEfvIqd25zst6784AlvXjfWL/81okz1gHyqp72tErlYYY3l96bpGUIhnItrJvSHBWPflm54kVZXEiQNKK7aTxhjIoi15hlEWDN69D4zQNxZRFgwNzodNoRC9V9vVI/FnOr0xcjRMn5gTlBPycqDMygsCfYJ36re7BOruczNOgPbec/HNin7+XGz3RaDDgOTyfcppxZAUn/ONJXFXuymOQk0IavTgGmCuezy/HDSe8fFY5GaY+4dglYUPD1Jpy0l8n6m+Wzzn1JD2taVwj4UEjIfdxgkiDQT1vPw1dJNFpMKhGOi3I4355OW5oAOSklBNPGtdoRKCum1Z2NH+zDOu4qNSDLEPyl3WsentfzcZETrRpDKBOYnnKZn1ZV+oJ0KuTHvHUl4vKetXLUA+zjdxY77pe5ydlU58wjz6Ng7nd5R/HKdvK+lGvUhbrSAcCjm8eK4vmPqHhjkY8HufYJjFHr1imVKzczG1h3akzKS/XvZykc2LN69FYyLoxWpX1Z/tpqF1Z6mES8iQj8zurbCPvGw2GvM7yrOPuznqfTg2sD/UT9QqNjDy3d87K3Kc0ePAcesqzHOVRT7HPWR8eo6GBupj7+UxQD6PsuuZOXHFr1AP0XqUeoA7guObaH0zLlKOwGj1VOfZzNFajHuA+Hqe+4Lk53WgpizInIxNXU0cdx74nccU/6oRyrI8njmXEQjUa90j0XTxZ4rn+7BhEHMvHnKQScVp7eQ6xDR2UqFszjs1jqyVjV2IfLuLPSFQaMlmPuk6rY0/KJblTxcMl9ixxGXXWmvI9lLFnWSdiT2JOpsCiLEYGUL/V1yuhLGJOYih63hN7kownKUO9vLoRx1KfnbpwuKzbsWykJmYkJqOjBSNRGf2UcWxZn+HYs7/EnqerUa0kwOhsUMWxbfl8Yj++Q/mdmJzETFUXV3Hs5UGmhS1lXevP+DTLKuu3dP6GfE2WISlI4p8EVdWpq8SeZR3ozEDsmaMpyvcOSS6WP1/WiViefX7uEvHi7lzX/N6hTh6OY6tRGZwn1GXx/cx3O43SVRx7IuNYyjpbyuI95juX7wu291YcezAbrOlkwXtJ/E7nsSqO7cmy2Bcnzh7Icxp+Z7QE38vLF1TfdZ3lu43PIDJ+LcekiauJqb+76hiWG99b9QgMYlgas/N7i+8svrvKjb/5TuM8nu86nlfHsM343fVBiatUVpw6gU6FXBeUY4pjPeOhcmzxk9E0HD/Ub8RwHGecg9MpiWOBbSf+pX7kczy33FdNL08yY3pe34n4lXqE53BM5Gj7svxgOU5I2mb8Wo4Xlsn4tcRY/E7nUGJcyiZmXNZb4r6MX4lxV2Y9R2dRjh2OE+JOOhQRi9OJk+OZc12WJ/FNbAdiQOLEjF/LYyvLNvOTuuE98WtbR8ag1Ywtc7LOJH5m20BHg7YSsLEu1Ft0lOJ6hpwDkFzn+Yxcm1b2G7EqCW3aMUhYcUwTv7P/iF2ZTp/9nPFrxsPVurNNVbx5I8vhO4aYk/Unzl22oJTXaEeo4le2cXrulzreJF5eXvYf69lV9j/fUcTNfA9w3kGnuuq8YVWsXnx/7le2uWqTKcdGeQ6P895keWXfEg8TI7MveI9GyjiWY6kJE1fIfVRudMLKGLbcOK4zjm3EO5yz1jEst57GT0ZfdZfHWI7nEcNSF4zZBRrBxJWJK03cXeVEgvpXTeKtQxEv7qkSWGcvNe6cgvguI/ClxwbXc7l3WXX/VFLizzj8VsTJXRFXzpdg7krjgQkigKP31Ss7no3tB17IqQA4qeXEmITSF+/799njlGCWk016JhH03rfmyQyeCF7pGfT67ucyycLJKIExQdujm76RgSUYJcTc1fTuqqbu6syg+6H1X8nlCA5JfL28/Xvxxt6f5Qnz1aslyC7LMNT+NzZ/I4NTMM0Cr3n09N48Yab316zO+fGFu7+WvdIwUNaDsrjmC+tF2awXJwmPbv63sWTemlyO3vsvleWOl5NqyqJxmOUe2fTb8fCGr+UyNFKw7vS4YhlOclkvGrV/o6w7gSp2Hn6tvOYzecLNa9IDjrJY5sH1T5cgq7pwK/uchgjKZNoxls2TkLLsxhWP5rbOLtuDN999PsskMUdDCcvQWEGZjB4ADRBsK9tSlUXAPj82r3w8l8verAU91dhWtuFyKYspGlh3Xu/uZQ/nMqw7yzAFG2URbPOa965+MsuqE5avMTpixw9yGRo62P8E/pRFT8Hc1jwSbynnJDGjHJML745Ydn8JPEsQqonjWzW/WOufY+ReL/8jqB/9DjQnGiupy45vL8dtqcuGqnj616qu81Zdu6I+gefzxolmlbRoXCC54KSSa42AE0JOLglLuJ/GA06oeQ73URaNYTTGgc9vNV9/KbP84zQ3rzXCCrNn8z9eh9dn2ZbyGi2lTmxcp6N+g4aX48RtejaE0YjAa7EO9cl9JnnK49SFlMW68li9XvU1oOrXqqdFqcu+hW3hGlrX83nVepWTYbax/GP/cX+1/27m/uK1cv/kCXHZx1x/qyxXrVu1TLWPy/qX8nguj912vbKMclZZ0IDI49X8//WntdpfvB7L1/tguKzG/hr5enV5LMN3Dq8/Uv0+lQeGt7Her5XqGgz1No5EldYxq5zAlTppyT2NOyeB3JuNj1jZ7NvivcxPR/1zCnjzYBXHniSOfe/l6qYEGmvoVUz8yrUJpyriVur+U7s/ehx7sf9cxiSMNKri2P6MY9cueSCeLHEsnQqol4lBiZWIBe8rcQ11EfEtMdSWPT/NmIYYmLiHZDcxDYkM7Du+LZerpusj9pyZy3ENQ+IjkEQhhnqLOLbEulUcOz87EFAWjahgKi7KIlkysiyuJ/PI3V/PZeikxDJcs5FlWE+WITbn9WhsBqMvWI6EE8vRIEyMSmxNjA0SOKwXcSzLMNUtZTENF2XRKAtmL6AsEj/EisSPNAhT1ufXfTnrYvYZ+5zkHGUyAwExO99dlMk1GVmexmu8sfdfqtjz0snhOJYGWV534/JHchmShsS6jERgv3EtLbaBESMsR0IKv2I0Qimrmja3xJ5lGRrfHy37dsPSh3IZElsss+/4W7kNjD7mNe9f85tlvf5NdoQAo3K5sQyJN5ahYZr3iUb/3NZGzdnaUeJXRgOsj1haviuIZ/XhTOS7i5+TQQk54ghx7I73j2OrGIY4cnT8SjzHNZPqv8HjHPPEadRlo+JXOl+Vf8RHuWyJT683rjWM6rFb8StLkPTh9XPP5n/VzuX1KKeOXzN+Kv/yDRqzHMfS6Pg138W85XYQwzbiNtaTbRiO7RqIgYntuH4T2zvarfiVWLuOTfNjUu4n/qM8yh0Zv/J6lFnuiJtl37Ifqg5WLFO2oKzXyPi1eo2yreVWYX+x7sSwHxy/VvurulZ1tcx741f2Bfu/Li9f7z2xKfFrdW1bti/j17qsYb8+fq1lHFuqSOqmxZsbd04CZZNzz/Lzdvh48Al5z8dE74vE1LPPvxKvb9uVfy9f3Btf+1cP585+9uevxOFjp/L+h+7bEL/1m49E98zJ/4X2yiuvxN/93d/FCy+8EPv27YsrVz5kQNnEent7Y/Xq1fEHf/AH8a1vfSu6u6s2Od0ZJq6ajImrqeNOJa6Q10Q6tSOTFpzc0tBLDy6mfeIEmZ6fBIvnL5/MJAk9jzi5IxgjAKyvX8KIIy4wSk8hehSR4KL3GOiVevDEjvzJcoxW4sKsJKPouUQgSHBIWfQ8ZRmCexJJNDjQgEBvMzAFC3NOM+1fltU6I5ejNxLLgeeyDCPE6L3J+pN0YfQAvarqE2pOvNl2eqdeLsuRUGM51oneYyDYZ704Geb1CCjZRnqnrVy4KUc1gH3D9CfZY7QsR08ulqMsetKNRDKMMumtyrJEZbwuiSSW57mgUYMpVnhfOLHmIq+sO8tw4g8eq8o6nNvK+8Jy2bOtLFdPdcJ7xPUY2E7mDmfdOFHPnruzq4OERgVej/3CenFCwHpVIxY2Zc840PjDfmMZkoTsf5JlvOfs49sxcaXb4bxxIokr6U7KE/5JmLj6rDJxNXXcqcQVGJHElKwZxw6WOLbEgDSyMloh49gSo3AfI88ZBcU0e0xnRexJTHewxDN1HMuoK0aNE+vScYpe+mB0ObEWZbAcIyIYjZtxbIkFwSh0Yl1it5GxJ3Es8RhJLDDCixiV2JPliNNYjlG3dPwCjdbElIxWYpkb16/llGLEWJRVjSCu4ljWiwQMy3EtLWJA4tM69iShRlmMzGLdaZTl9dg/xHZ1BycSVsSAt+LYmbmNlMW0eyMxTRavy8gofmdfVnFsiT3L8jl6t2BfsByxKtd2pTzWnX1bJ8zoQFeVVWLPsg3EsbxnJOfYt+xr0IGO/VbFniWOLcsQx/J6bAsYVccyjMBjORqjeU1GT1MWSQAwBRpTXrPufH54z3mv2R9j41gTV3o/5TAfV+JK+jiUqmtSJq708TBxZeJKE2fiqsmYuJo67mTiqlIdqmMP2Lqn1fsb/dxbzxj73PEs1yxljWcZfJiyahMvczzL4P2Wm8jr4aOVdYuJK92OiSt9mvKE38TVpGHiauq4k4mryujYpWYcW7uTZdXGX+aHe118XGWN9/VMXOn9mbjSp8nElUYycWXiShNXjY2VNAlwopYD3Ef9G5/Rz63/fq/xLDeeZTCe5cazDG633Fi3W2a8y/06t1v2dsvfWm48y3zQcuNZZrzLffAykiRJH7cqDhn7b3xGP7f++73Gs9x4lsF4lhvPMrjdcmPdbpnxLvfr3G7Z2y0/vmXGu9x4lvng5cazjCRJkqYyE1dNJkPy8j8ukDiVb/U28pPblMW2sY3lSKu31Zu3Zr3lZ5Wf0hj58eDzYV3m7VO4Ea3yQ82vfs/Gxn1T7Tb82ZzichtHbK83b017o1Wj/JR+ndt+brx5+4Ru0mcVUxVzLbi8dvV0ri93529cPuOuUj63fK3h+6v76vvHPu9O39hW3XlOFdhkdh6L2HIg4vSliL4pPIydw3lOZ8T87mqalQ2LqvunkmtDESd2lPdyX8TgxYirA40HpCaVU62UY3L+6oiFGyO4Fq3ENYipy07treqyoak3ul9NrL2rmmaFKUyZBkrNbQdx7P6IM5enbhw7u3xXziufy8+vith8+0tGTgnXBquptc6U99M4Vs2sdUb1PdFTzimJX/lbqjHlNXXZ6XcjBqjLjGP1CWqfWd0WlbppwehLEeoz6LM4VeBbb70V//iP/xivv/56HD58OAYG7nxAeWVgKPqvVOXmNT072qOttTXvGxy6mve3tEwv98+I1vLzTuvp6Ynly5fH17/+9fjmN78ZXV3V9fB1Z5i4ajIHTkfsOl6d7F+cwieIJK66y0nFnHI8k7Ra0VPdP5Uwn/bZA+W9PFrNpU0DgNTMWtsj2soxOXtJdfI/raXxgD7TSFxlXXakqstsvNQnqa2jqpfmrYiYu7xxp5oWcSydsM5fmbpx7MwSv5K8In5dvaBx5xR0fSjiTKn7z5f30zhWzaylrRG/lmNy3qrqb6k2Ko69XOJY6zJ9gobj2HJuPXcKXtddE/NZTFzt2bMnnnvuudi5c2ecOHEihoZKgHmHnTrTF8dPn8vfp0+bFosWzC37ritOnDob5y5cyvs7Z7SX++dFV+ed790ye/bsWLhwYTz22GPxla98JWbMsAfNnWTiqslwkn++nBwOXSu3EmRNZW3Ty601Yk75MqcRYKq5eaPq1cXJPj29CJqlZjatHJMkq3KEw8zyBeFksiqIEuhtP1hO9q3L9EmjTppOvdTosarmRhxL5yvi2KtTtK5oJX4tn0lmDqAT1lRlHKvJYlqJV6eVc8q2ckzyPUE8K9WMY/VpMo7VSJ/FxNX58+fjyJEj0dfXF1euXInr1+98Jfzm9r3x2tad+XtbS0t84f67Y8XShfHaWztjz4EjeX9vz5z4wn0bY3HvvPz7Tmpra4vOzs5MXi1btiynDdSdY+JKkiRJkiRJkqSPwWcxcfVJ+NlLb+R+RXt7W9l3D8fm9avyvi1v7877VyxhXz8Sa1dM4Xm+pyj700uSJEmSJEmSJKkpmLiSJEmSJEmSJElSUzBxJUmSJEmSJEmSpKZg4kqSJEmSJEmSJElNwcSVJEmSJEmSJEmSmoKJK0mSJEmSJEmSJDUFE1eSJEmSJEmSJElqCiauJEmSJEmSJEmS1BRMXEmSJEmSJEmSJKkpmLiSJEmSJEmSJElSUzBxJUmSJEmSJEmSpKZg4kqSJEmSJEmSJElNwcSVJEmSJEmSJEmSmoKJK0mSJEmSJEmSJDUFE1eSJEmSJEmSJElqCiauJEmSJEmSJEmS1BRMXEmSJEmSJEmSJKkpmLiSJEmSJEmSJElSUzBxJUmSJEmSJEmSpKZg4kqSJEmSJEmSJElNwcSVJEmSJEmSJEmSmoKJK0mSJEmSJEmSJDUFE1eSJEmSJEmSJElqCiauJEmSJEmSJEmS1BRMXEmSJEmSJEmSJKkpmLiSJEmSJEmSJElSUzBxJUmSJEmSJEmSpKZg4kqSJEmSJEmSJElN4a6bReN3fYKuX78eg4ODcfTo0di5c2f09fXl37wdd911V8ydOzd6enpi1apVsWLFisazJEmSJEmSJEmTxYVL/fHs86/E69t25d/LF/fG1/7VwxE3I579+Stx+NipvP+h+zbEb/3mI9E9szP//iguXbqU7c379u2LPXv2ZFs0Zs+eHfPnz4/169fH0qVLsx16svrZS2/kfkV7e1vZdw/H5vWr8r4tb+/O+1csYV8/EmtXLMm/Pwr2J/uS9vzTp0/H5cuXY2hoKO6///548sknY8aMGY0ldSdM/8ui8bs+QVevXo2LFy/GG2+8Ed/5znfiRz/6UTz//PPx4osvxksvvRSHDx+O8+fPDyevJEmSJEmSJEmTy+DQ1dhz4EgcO3km/57d3RXrVi3N37mfxBaWLOyJdSuXRntba/79UZBY2b9/f/zwhz+Mf/iHf4hf/OIX8cILL+R9JGAWLVoUy5Yty8TVZE1e7T98PPcfWlqm575b0DMn7zt+6mzeX+/rebO78++P4siRI/GTn/wkfvCDH8R3v/vd+P73v5/7t7OzMxNXHR0djSV1J5i4+pSQ5SYjSwKrra0t1q1bF4899lg8+uij8fDDD+d9VCRkwbu6umL69Ol++CVJkiRJkiRpEvmkE1fM6LV169Z45pln4saNG/HAAw/EI488km3P7e3tceHCheju7s72Z26TdaTQJ524Yra0/v7+mDNnTmzatCn326FDh2Lz5s3x1FNP2XZ/h3mNq08Jmexp06ZFb29vVhq/+7u/G3/yJ38Sf/ZnfxZ/+qd/Ghs3bswsLsM5d+/eHefOnWs8U5IkSZIkSZKk0UhUMWCCARE//vGP82/anf/4j/84vvWtb8W9996bgykOHjwY27dvz9FXGh8Gl6xZsya++MUvxh/+4R/Gl770pZg5c2bjUd1pJq4+JYyg4sM+b968WLx4cf5saWnJhBaPzZo1K5YsWZK/M2UgFYokSZIkSZIkSbdz5cqVOH78eF5/ibbnuXPn5sCJekavFStWxD333JOjhxgswegrjQ8jrJhikTZ7Rl3x92S+RlizM3H1KaGi4MNNgooL4vGTEVg1hmkyZJPlmE6wvoCeJEmSJEmSJKl5MLLp6tVrMTA4FJf7B0bd+q8MxLVrt9p2r5dlWY4bz6uxTP/A4IjnDcaV8vfI534QElcnT57MKe1IVpFgYcAE09iRZCHpsn79+kxcMdPXxYsXG89sTkx7yPazH0buU25DQ1cbSxVluaGrV6t9PaIdvd7XY5/Lfdev38jyx4v2etrxFyxYMDzVoomrj4+JqyZz7dq1rGCOHTsW77zzTt7HEESudSVJkiRJkiRJai6X+q/EkROn4+1d++OXv9o26vbqWzvj5Jlbl4G5dLk/l3t79/7y+5XGvVGW6YtX39wx/LzXtu6Mbbv2xamzfeNOsDAAgmQUCTEGSoy8fhVJFv4m6UIbNMuxfLO6QdLq+vXc/je3742XtrwdL4zYrweOnmgsGZmE2nvwWO6zU2U/1ti/23buG35Ofdu+50CcO38hE1hqTiaumggVEMMzmYP0xIkTWXmQGWcIJxWNJEmSJEmSJKm5MNqK5NXRk6czKfL2rn2xdee7edux90D0XbjUWDJyVNW7h47ljd9r585fjO1lWZ6zrdzePXgsTp7uy1FE41UPiiBxxSgrRgWN1N7envfzOMs19SxfN2+W9bwZl8v2kxTcvf9IbNu1f3i/Hj91trFgNbLqaFlmx56Do/d1ee6+sp/r57yze3/s2ncojpXnXvkQo670yTFx1SQ4QKgoduzYEd/5znfi9OnT8cQTT8SGDRtyCCIViiRJkiRJkiSpuXR2dsSiBfOiu6sz23kHBq/GxUv9eWPUz9Vr1xpLRty4TtJoIG/8XmMZls1b/5Xo7GiPVcsWxezumROakm6qJGLY5paW6TGz7NuFPXNjZldHXBkcHN6vgyOmCmSbBweHcr+RRKyR0CJ5VT+HEVyUN3tmV8wq71V7u9P9NSsTV02AA4uRVswrSuJq27Zt5aBsycTV2rVrY+bMmdHa2tpYWpIkSZIkSZLULNrbWmPOrJkxd3Z33lpbpmcihanoSLAwsqfGFHhDV6/ljd9rLMOytBW3t7XF3FLeot550dU5/gEN06ZNy3ZkkjFDQ4woGj2iihFZTA/I4yzH8s2KdZxe1q+zY0YsXDA35pX9yt/sJ/br2Gt/XS1/576+MWJf36j2NfeTGGxrbYkF8+ZEz9xZ0VHK5X1SczJx9SmjIuJG0uq73/1uJq56enpi8+bN8eSTT8by5csbS0qSJEmSJEmSmk2dZFk4f27cv3FN/uQ+bhNFAmz9qqWxuLcnurs6MtkyXiSjuIbV9OnT8zI0AwOjpxlkekDu5/HJMliiY0ZbjmZb3Ds/envmZCJv2gT3K+/NjPa2mD93dqxduSTLa5luaqSZ+e58yqgo9u7dG9u3b8+kFVnw++67LzZt2uS1rSRJkiRJkiSpyZFGIUk1u7srli/pzcTIvDmzMlkyXiSTMrkyb3asXr4kFvTMibbW1nL/+JvwZ8yYkYMiuLbVpUuXsu358uXLOcqK61qdOXMmDh8+nAmrxYsXT4rL07S2tOT0fgvKflmxZGHZP7NyCsGJJAXZr0w3uKS3J38ypWMzjzaTiatP3fHjx+MnP/lJbNmyJZNWTA34ta99Le6+++7GEpIkSZIkSZKkZtfW1hqzZnbF4oU9sWbF4kxkjVd7W0uOtiLptXLZwvx9okhELVq0KLq6ujJxRaLq5MmTmbwicXXw4MF4++23o729PdavXz9pBk2QpJo7e2bcvWZ5LF+0IGa0teUoqvHgud0zO2P9qmVlvy4q+6g9pk3zulbNbvpfFo3f9Qkiy03lwfWsnn322Rx1xbyjDNHs7OzMCoXpA/v6+nIIJxlgMuaSJEmSJEmSpObDFHaMkOLSMC3Tp8flKwNx8fKViJvVta1uh4FDJFIYoUXCatWyRbF04fxobW3JkVwTUV/j6tSpUzlggnZm2qCPHj2aSautW7fmYxs2bIh77703R12R5JoMcrq/tta8XlV/2a9c6+rKwGDj0dtjtBZJq6WLFsSG1cuid/7cmNFO4mri43nYj/v374/du3fn7GkvvvhivPbaa7n/SACePXs2zp07l4ky2vj10Zi4+pSQjDp27Fi8+uqr8f3vfz8OHDiQyawTJ05kBcL9r7zySpw+fTovmsfcpPPnz89KDxMZCilJkiRJkiRJ+mRwXaquzhlx8WJ/XLh0Oa5dux5Xy+12SFpNnzY9li9ZEJ/btC4WL5gXHTPaJ3wdJ9BmzI3RVXPmzMnk1Y9+9KNMsLz88ss5SGLevHnxyCOPxIMPPjh8PazJgO2qp00kOXdlcChOnz2ff/86nR3tsWxxb6xetiiWL+3N0XDs7w/Ttk7y71/+5V9yf/7gBz+Il156Kfcv+5RLAJHUYjAKSayVK1c2nqUPy8TVp4RpAUlUcSPDu3r16sxy85NM98KFC/O2Zs2aWLZsWf5Opvbc+Utx+tyFOH/hUh6czOfJTZIkSZIkSZL06aO9lzbboavXciDCwOBQjhK6na6Ojlg4f26sXr44pxec2dWRo7U+Cl6ftmSSUtyYPpA2Zy5Ps3nz5rzxN49NlgESdVKOW3tra/QPDGZSkNFs166PTgqS9GPaxp45s2LdqqWxfMnCmDe7O+/7sNs7ODiYo67qfbt06dLYtGlT3latWpXt+iSs+J22fH00d5UD5/ZjFPWxYreTvBoYGIj+/v78ux6iOPLgIXvMjQvqXbt+I3bvPxJHT5zO5ZkjlSGODCP9sAecJEmSJEmSJOnOYmrACxcvx8kzffHKG9tj57sHc3q7sVMGLu7tiU3rVmTiasWShTla66O29dLuzI1kC+3PNRJVLS0teUka2psnoxs3buaIsnf27I+3duyNE6fOxakxI69IGnZ3deT+fPhzG2P54t6cNvoGjaUAAAswSURBVPCjXNuKWdHYn1zuh99ZB268V9zYr/W+5Rpi+mhMXE0SDCe9eLk/Xt+2Ow4cOR6dHTPyQn33rF8VC3rmNJaSJEmSJEmSJH3aaHS/OnQ1Llzuj63b341d+w7FqXPn4xLXvCpIpDCVHde0un/T2pwicPasmXktJ32wYyfPxKFjJ2PH3oOxZ/+RTApebySSmKZx9bLFsXbl4li/yoEfk5FHwSRAbvHqtWtxuX8gTp45F8dOnb114TmPN0mSJEmSJElqKjTbMjXdrK7OWL6kN9asWBLd5fdaW1tLJlQYnLCktyfmzOo2aTUBPXNnx+Z1q3L/zWhvG77+FQkqrhG2evmiWLdyWcws+9yk1eQzZUdcMRSSOSfPnDkT+/bti2PHjsW5c+dyaCSP1cP2enp6ore3N+eg5HpSzYhMcZ1B3rrj3TjbdzHu3bA61q9eGksWzh9V4UmSJEmSJEmSmgNtu+cvXI7jp87Em9vfjYNHj8fA4NWYO7s7Nq1bGauXLYplixbEjBmTc+q+TwvT9LFvd+49FDvfPRSHjp6M033nY8G8ObFs8YK4/+41+bOttXU4qaXJY8omrkhQkazavn17/PSnP40tW7bE/v37o6+vL+ehJGk1e/bs2LBhQ9x3333x9NNPx1e+8pXGsyeGXfhx7sar167H9j0H8gA8fPwULxhffPj+2Lh2eXS0t+ecnZIkSZIkSZKk5kPLMcmrLW/vjr0HjsT5S5ejt2duPPHQvTkwgdFX0xwV9KGc6bsQJ0/3xWtbd8a+Q8di49oVOT3gyqULY96c7sZSkwsjxD7ro8SmXOKK0VQXLlyIgwcPDiesTpw4kRlYRld1dXUNX3iO++oL0n31q1+Nb3zjG3n/RDESiszu0NVrjXvurBs3b8SZcxfibDkIuc4VNR3ZYoaSkrSadpcZY0mSJEmSJElqTjdjcOhqnDh9LvouXMrfub7V0kULoruzI6ZNnxZ3eU2YD+XK4GD0XxmI46fOZnKQNvN5s7tjVndnzGhvbyw1uaxbtTQ2rF7W+OuzacolrhhNxciq119/Pf7+7/8+fzIV4MaNG+OJJ57IKQEZaTVYPtCMvjp69GgcPnw4nnrqqQ+duHr1zR3x7POvxOVygEiSJEmSJEmSJH0YX378wfjqk19o/PXZNOUSVxcvXowf/vCHOdrq5ZdfjqtXr2ZC6uGHH44VK1bEnDlzcsQVI7NIXl2+fDmvhbV8+fJMan0YJq4kSZIkSZIkSdJHZeJqiiWu2JQzZ87Et7/97fjud7+bCam1a9fGX/zFX8QXv/jFaG9vz6kB77S3duyN5196M/oHBhv3fHRsC7eBwaGcgpALyLWUdW9tafGaVpIkSZIkSZIkTUGPP3RPPPnw/Y2/PpumVOLq2rVrcfz48fjbv/3beOaZZ3IUFSOt/uiP/ig+97nPZdLq47ioGReAO3byTFy/fqNxz0d39eq1TFjt2Hsg3j14LObO6Y75c2fFskW9MX/e7MZSkiRJkiRJkiRpqlg4f24sWjCv8ddn05RJXLEZXN/q0KFD8Vd/9Vfxve99L0dZfelLX4rf/u3fjg0bNjSWvPMYaXXpUn/cuIO7kgv0cXt92654e9e+6O2ZG4t758XalUvLz57GUpIkSZIkSZIkaaro6pwR3V2djb8+m6ZU4oqpAQ8cOBB//dd/HT/+8Y/j6aefjqeeeiq+/OUvx5o1axpL3nm79h2OX23dmYmmO+XGjRtxvdzO9l2M8xcvxYy2tpgxo718YDuio/yUJEmSJEmSJElTy+c2rY3P37O+8ddn05RLXO3fvz8TV88991x85StfyeQVo65Wr17dWPLOe/XNHfHs86/E5SsDjXskSZIkSZIkSZIm5suPPxhfffILjb8+m6Y1fk4Jra2t0dHRES0tLZnIunLlSiazuPaVJEmSJEmSJEmSmtuUGXEFElTHjh2Lv/mbv4lnnnkmpwd89NFH45vf/Gbcf//9MW3atLjrrrsaS9859VSBA4NDjXs+vCsDg3Hx8pVS1mCWN3f2rJg7a2ZMmz4tpn0M6y5JkiRJkiRJkprDA5vXOVXgVEpcsSmnT5+Ob3/72/HP//zPMTg4GOvXr48///M/j8cffzza29szeXWn9ZNsutSf16X6qI4cPx17Dx6N46fOxInT5+LBezbE/ZvWRHtbW7S1tjSWkiRJkiRJkiRJU83Mro7o7ups/PXZNKUSV7hw4UJ873vfy2tcbdmyJe/7vd/7vXjkkUdiyZIlMWvWrGhra8sk09DQUPT398fly5dj8eLFsWzZslz+08D6XC+3nXsPxZZ3dseFS/1x5cpAPPr5zfHgvRsyadXaYuJKkiRJkiRJkiRNXdP/smj8PiUwFSDXuuK2Z8+e2Lt3b04fePz48bh+/XqOwiJRdfLkyThw4EBs27YtXn755ejs7Ix169Y1SvnkXct1uxr7Dh+Lt3ftj9aW6bFowbxYtWxRLO7tiekf0zSHkiRJkiRJkiRJzWLKJa7Q0tIyPKqKBBY/L126FH19fXHw4MFMaO3evTv27duXUwsy8mr16tWxYcOGRgmfvKGr16L/ykAcPXEmDh87Gb09c2LdyqWZvJrV3WXSSpIkSZIkSZIkTXlTbqpAkKhiCkCSVO+88048//zzsXXr1jh69GhcvHgxH58xY0Z0d3fH2rVrY/PmzfHUU0/F008/3Sjhk3ep/0qc7bsYO/YeiLe2vxub16+ML9y/MWZ2zojOjhmNpSRJkiRJkiRJkqauKZm4wrVr1zJJxZSAu3btisOHD8fZs2djYGBgeCQWyave3t68vhXTBK5fv77x7E/e4NDV6C/rdvJ0Xxw/eSYW9c6LFUsW5nWtWlqmN5aSJEmSJEmSJEmauqZs4gr1pvGzvo1UT7/Hz/r2aWLtbt64ETdu3Ixp0+4qt2nVA5IkSZIkSZIkSZ8BUzpxNVnVb4nXtZIkSZIkSZIkSZ8lJq4kSZIkSZIkSZLUFJyLTpIkSZIkSZIkSU3BxJUkSZIkSZIkSZKagokrSZIkSZIkSZIkNQUTV5IkSZIkSZIkSWoKJq4kSZIkSZIkSZLUFExcSZIkSZIkSZIkqSmYuJIkSZIkSZIkSVJTMHElSZIkSZIkSZKkpmDiSpIkSZIkSZIkSU3BxJUkSZIkSZIkSZKagokrSZIkSZIkSZIkNQUTV5IkSZIkSZIkSWoKJq4kSZIkSZIkSZLUFExcSZIkSZIkSZIkqSmYuJIkSZIkSZIkSVJTMHElSZIkSZIkSZKkpmDiSpIkSZIkSZIkSU3BxJUkSZIkSZIkSZKagokrSZIkSZIkSZIkNQUTV5IkSZIkSZIkSWoKJq4kSZIkSZIkSZLUFExcSZIkSZIkSZIkqSmYuJIkSZIkSZIkSVJTMHElSZIkSZIkSZKkpmDiSpIkSZIkSZIkSU3BxJUkSZIkSZIkSZKagokrSZIkSZIkSZIkNQUTV5IkSZIkSZIkSWoKJq4kSZIkSZIkSZLUFExcSZIkSZIkSZIkqSmYuJIkSZIkSZIkSVJTMHElSZIkSZIkSZKkpmDiSpIkSZIkSZIkSU3BxJUkSZIkSZIkSZKagokrSZIkSZIkSZIkNQUTV5IkSZIkSZIkSWoKJq4kSZIkSZIkSZLUFExcSZIkSZIkSZIkqSmYuJIkSZIkSZIkSVJTMHElSZIkSZIkSZKkpmDiSpIkSZIkSZIkSU3BxJUkSZIkSZIkSZKagokrSZIkSZIkSZIkNQUTV5IkSZIkSZIkSWoKJq4kSZIkSZIkSZLUFExcSZIkSZIkSZIkqSmYuJIkSZIkSZIkSVJTMHElSZIkSZIkSZKkJhDx/wNdSoqMAgGZJAAAAABJRU5ErkJggg==)"
      ],
      "metadata": {
        "id": "C040pn2AixGQ"
      },
      "id": "C040pn2AixGQ"
    },
    {
      "cell_type": "markdown",
      "source": [
        "Por otra parte, el Sampler nos sirve para calcular la distribución de cuasi-probabillidades de los bits de circuitos cuánticos. Explicado de forma más sencilla, hace de simulador cuántico.\n",
        "La función ComputeUncompute() sirve para calcular la fidelidad de estado de dos circuitos cuánticos utilizando el método ComputeUncompute. Esto lo utilizaremos para el cálculo de la matriz de Gram, la cual será nuestro kernel. Con el fidelity básicamente lo que estamos es definiendo la operación que se hace entre los vectores. En este caso, y como vimos en clase, es la siguiente:\n",
        "  \n",
        "  ![Screenshot 2023-10-22 at 20.20.33.png](data:image/png;base64,iVBORw0KGgoAAAANSUhEUgAAAZgAAABaCAYAAACFbEBeAAAMPWlDQ1BJQ0MgUHJvZmlsZQAASImVVwdYU8kWnluSkEBoAQSkhN4EkRpASggt9N5shCRAKDEGgoodXVRw7SICNnRVRMFKsyN2FsXeFwsqyrpYsCtvUkDXfeV7k2/u/PnnzH/OnDv3zh0A1I5zRKJcVB2APGGBODbYn56ckkonPQUUgMOfG6BwuPkiZnR0OIBlqP17eXcdINL2ir1U65/9/7Vo8Pj5XACQaIjTefncPIgPAIBXc0XiAgCIUt5saoFIimEFWmIYIMSLpDhTjqulOF2O98hs4mNZELcDoKTC4YgzAVC9BHl6ITcTaqj2Q+wo5AmEAKjRIfbJy5vMgzgNYmtoI4JYqs9I/0En82+a6cOaHE7mMJbPRVaUAgT5olzO9P8zHf+75OVKhnxYwqqSJQ6Jlc4Z5u1mzuQwKVaBuE+YHhkFsSbEHwQ8mT3EKCVLEpIgt0cNuPksmDOgA7EjjxMQBrEBxEHC3MhwBZ+eIQhiQwxXCDpNUMCOh1gX4kX8/MA4hc0m8eRYhS+0MUPMYir4sxyxzK/U131JTgJTof86i89W6GOqRVnxSRBTIDYvFCRGQqwKsUN+TlyYwmZsURYrcshGLImVxm8OcSxfGOwv18cKM8RBsQr70rz8oflim7IE7EgF3leQFR8izw/WzuXI4odzwS7xhcyEIR1+fnL40Fx4/IBA+dyxZ3xhQpxC54OowD9WPhaniHKjFfa4KT83WMqbQuySXxinGIsnFsAFKdfHM0QF0fHyOPGibE5otDwefDkIBywQAOhAAms6mAyygaCzr6kP/pP3BAEOEINMwAf2CmZoRJKsRwivcaAI/AkRH+QPj/OX9fJBIeS/DrPyqz3IkPUWykbkgCcQ54EwkAv/S2SjhMPeEsFjyAj+4Z0DKxfGmwurtP/f80Psd4YJmXAFIxnySFcbsiQGEgOIIcQgog2uj/vgXng4vPrB6oQzcI+heXy3JzwhdBEeEq4Rugm3JgmKxT9FGQG6oX6QIhfpP+YCt4Sarrg/7g3VoTKug+sDe9wF+mHivtCzK2RZirilWaH/pP23GfxwNxR2ZEcySh5B9iNb/zxS1VbVdVhFmusf8yOPNX0436zhnp/9s37IPg+2YT9bYouw/dgZ7AR2DjuMNQE6dgxrxjqwI1I8vLoey1bXkLdYWTw5UEfwD39Dd1aayXzHOsdexy/yvgL+NOk7GrAmi6aLBZlZBXQm3BH4dLaQ6zCK7uTo5AyAdH+Rv77exMj2DUSn4zs3/w8AvI8NDg4e+s6FHgNgrzt8/Fu+c9YMuHUoA3C2hSsRF8o5XHohwLeEGnzS9IARMAPWcD5OcBfzAn4gEISCKBAPUsBEGH0WXOdiMBXMBPNACSgDy8EaUAk2gi1gB9gN9oEmcBicAKfBBXAJXAN34OrpAS9AP3gHPiMIQkKoCA3RQ4wRC8QOcUIYiA8SiIQjsUgKkoZkIkJEgsxE5iNlyEqkEtmM1CJ7kRbkBHIO6UJuIQ+QXuQ18gnFUBVUCzVELdHRKANlomFoPDoBzUSnoEXoAnQpWoHWoLvQRvQEegG9hnajL9ABDGDKmA5mgtljDIyFRWGpWAYmxmZjpVg5VoPVY63wPl/BurE+7CNOxGk4HbeHKzgET8C5+BR8Nr4Er8R34I14O34Ff4D3498IVIIBwY7gSWATkgmZhKmEEkI5YRvhIOEUfJZ6CO+IRKIO0YroDp/FFGI2cQZxCXE9sYF4nNhFfEQcIJFIeiQ7kjcpisQhFZBKSOtIu0jHSJdJPaQPSspKxkpOSkFKqUpCpWKlcqWdSkeVLis9VfpMVidbkD3JUWQeeTp5GXkruZV8kdxD/kzRoFhRvCnxlGzKPEoFpZ5yinKX8kZZWdlU2UM5RlmgPFe5QnmP8lnlB8ofVTRVbFVYKuNVJCpLVbarHFe5pfKGSqVaUv2oqdQC6lJqLfUk9T71gypN1UGVrcpTnaNapdqoeln1pRpZzUKNqTZRrUitXG2/2kW1PnWyuqU6S52jPlu9Sr1F/Yb6gAZNY4xGlEaexhKNnRrnNJ5pkjQtNQM1eZoLNLdontR8RMNoZjQWjUubT9tKO0Xr0SJqWWmxtbK1yrR2a3Vq9WtrartoJ2pP067SPqLdrYPpWOqwdXJ1luns07mu82mE4QjmCP6IxSPqR1we8V53pK6fLl+3VLdB95ruJz26XqBejt4KvSa9e/q4vq1+jP5U/Q36p/T7RmqN9BrJHVk6ct/I2waoga1BrMEMgy0GHQYDhkaGwYYiw3WGJw37jHSM/IyyjVYbHTXqNaYZ+xgLjFcbHzN+TtemM+m59Ap6O73fxMAkxERistmk0+SzqZVpgmmxaYPpPTOKGcMsw2y1WZtZv7mxeYT5TPM689sWZAuGRZbFWoszFu8trSyTLBdaNlk+s9K1YlsVWdVZ3bWmWvtaT7Gusb5qQ7Rh2OTYrLe5ZIvautpm2VbZXrRD7dzsBHbr7bpGEUZ5jBKOqhl1w17FnmlfaF9n/8BBxyHcodihyeHlaPPRqaNXjD4z+pujq2Ou41bHO2M0x4SOKR7TOua1k60T16nK6aoz1TnIeY5zs/MrFzsXvssGl5uuNNcI14Wuba5f3dzdxG71br3u5u5p7tXuNxhajGjGEsZZD4KHv8ccj8MeHz3dPAs893n+5WXvleO10+vZWKux/LFbxz7yNvXmeG/27vah+6T5bPLp9jXx5fjW+D70M/Pj+W3ze8q0YWYzdzFf+jv6i/0P+r9nebJmsY4HYAHBAaUBnYGagQmBlYH3g0yDMoPqgvqDXYNnBB8PIYSEhawIucE2ZHPZtez+UPfQWaHtYSphcWGVYQ/DbcPF4a0RaERoxKqIu5EWkcLIpigQxY5aFXUv2ip6SvShGGJMdExVzJPYMbEzY8/E0eImxe2MexfvH78s/k6CdYIkoS1RLXF8Ym3i+6SApJVJ3cmjk2clX0jRTxGkNKeSUhNTt6UOjAsct2Zcz3jX8SXjr0+wmjBtwrmJ+hNzJx6ZpDaJM2l/GiEtKW1n2hdOFKeGM5DOTq9O7+eyuGu5L3h+vNW8Xr43fyX/aYZ3xsqMZ5nemasye7N8s8qz+gQsQaXgVXZI9sbs9zlROdtzBnOTchvylPLS8lqEmsIcYftko8nTJneJ7EQlou4pnlPWTOkXh4m35SP5E/KbC7Tgh3yHxFryi+RBoU9hVeGHqYlT90/TmCac1jHddvri6U+Lgop+m4HP4M5om2kyc97MB7OYszbPRmanz26bYzZnwZyeucFzd8yjzMuZ93uxY/HK4rfzk+a3LjBcMHfBo1+Cf6krUS0Rl9xY6LVw4yJ8kWBR52LnxesWfyvllZ4vcywrL/uyhLvk/K9jfq34dXBpxtLOZW7LNiwnLhcuv77Cd8WOlRori1Y+WhWxqnE1fXXp6rdrJq05V+5SvnEtZa1kbXdFeEXzOvN1y9d9qcyqvFblX9VQbVC9uPr9et76yxv8NtRvNNxYtvHTJsGmm5uDNzfWWNaUbyFuKdzyZGvi1jO/MX6r3aa/rWzb1+3C7d07Yne017rX1u402LmsDq2T1PXuGr/r0u6A3c319vWbG3QayvaAPZI9z/em7b2+L2xf237G/voDFgeqD9IOljYijdMb+5uymrqbU5q7WkJb2lq9Wg8ecji0/bDJ4aoj2keWHaUcXXB08FjRsYHjouN9JzJPPGqb1HbnZPLJq+0x7Z2nwk6dPR10+uQZ5pljZ73PHj7nea7lPON80wW3C40drh0Hf3f9/WCnW2fjRfeLzZc8LrV2je06etn38okrAVdOX2VfvXAt8lrX9YTrN2+Mv9F9k3fz2a3cW69uF97+fGfuXcLd0nvq98rvG9yv+cPmj4Zut+4jDwIedDyMe3jnEffRi8f5j7/0LHhCfVL+1Php7TOnZ4d7g3ovPR/3vOeF6MXnvpI/Nf6sfmn98sBffn919Cf397wSvxp8veSN3pvtb13etg1ED9x/l/fu8/vSD3ofdnxkfDzzKenT089Tv5C+VHy1+dr6Lezb3cG8wUERR8yRfQpgsKIZGQC83g4ANQUAGjyfUcbJz3+ygsjPrDIE/hOWnxFlxQ2Aevj9HtMHv25uALBnKzx+QX218QBEUwGI9wCos/NwHTqryc6V0kKE54BN0V/T89LBvynyM+cPcf/cAqmqC/i5/Rd1J3xcKZV9eAAAAIplWElmTU0AKgAAAAgABAEaAAUAAAABAAAAPgEbAAUAAAABAAAARgEoAAMAAAABAAIAAIdpAAQAAAABAAAATgAAAAAAAACQAAAAAQAAAJAAAAABAAOShgAHAAAAEgAAAHigAgAEAAAAAQAAAZigAwAEAAAAAQAAAFoAAAAAQVNDSUkAAABTY3JlZW5zaG90NnfOQQAAAAlwSFlzAAAWJQAAFiUBSVIk8AAAAdVpVFh0WE1MOmNvbS5hZG9iZS54bXAAAAAAADx4OnhtcG1ldGEgeG1sbnM6eD0iYWRvYmU6bnM6bWV0YS8iIHg6eG1wdGs9IlhNUCBDb3JlIDYuMC4wIj4KICAgPHJkZjpSREYgeG1sbnM6cmRmPSJodHRwOi8vd3d3LnczLm9yZy8xOTk5LzAyLzIyLXJkZi1zeW50YXgtbnMjIj4KICAgICAgPHJkZjpEZXNjcmlwdGlvbiByZGY6YWJvdXQ9IiIKICAgICAgICAgICAgeG1sbnM6ZXhpZj0iaHR0cDovL25zLmFkb2JlLmNvbS9leGlmLzEuMC8iPgogICAgICAgICA8ZXhpZjpQaXhlbFlEaW1lbnNpb24+OTA8L2V4aWY6UGl4ZWxZRGltZW5zaW9uPgogICAgICAgICA8ZXhpZjpQaXhlbFhEaW1lbnNpb24+NDA4PC9leGlmOlBpeGVsWERpbWVuc2lvbj4KICAgICAgICAgPGV4aWY6VXNlckNvbW1lbnQ+U2NyZWVuc2hvdDwvZXhpZjpVc2VyQ29tbWVudD4KICAgICAgPC9yZGY6RGVzY3JpcHRpb24+CiAgIDwvcmRmOlJERj4KPC94OnhtcG1ldGE+CutxhwcAAAAcaURPVAAAAAIAAAAAAAAALQAAACgAAAAtAAAALQAAI5l6hfQ9AAAjZUlEQVR4AexdabNeVZW+6Z/QfrGrtL/dmy+2LXywxCrAkiaWtHSJVCkSBoMYJpVWQIiAQWYbaLHBBAiTiIwBRVGJ2NqCQkIgCcgQpkuUeQxhDBnu6fWstZ+1197nvPe+uZA4cE7VPWt61lp7r7P3mc97ZzSyjHQsUM6IelE0oqAOXjOSYNjgQVZpM9KIF/0sJAExQcm3EKLo8/f15zjqx18///r9T9ybhj0mWaV/2f3vDB5gWs2IM7jc96vUwheYoofZ0lJTIQeP+jDU5897kFxB51r1cgsY1pU0GSmSOq6vf6ue/fjrxx+PYMXcMqE1XgoMJxjpu3f+zWgmZCbxtLCqA0Rc4MxIha7KldBGWrZKUYnqpLoOQ1T1+fv69+PPJmicF8XkE6FlqxSV2M8/1qyjMFHV73/e3v7Hr2BswMbSQhPlyBu6MCcVfQwt63hfi5iBZ4d1jihHvs+vFegoSV9/K4qv+/GX76v2888q0O9/Blyd1juUKEd++P2vHmDiUdp2UAiQLms0rgXHGgsveLK21BgqrNVRVgMuOfv8+Syhr381ynSQ6UrPZ/rx18+/cm9jY8P2NpHv9z9eAZQFs+cvsP+1KxjdLrZxnEWbuCXBT7HAD4u6FILp47pl9qQz7KKoBYje3XzhUghtfMsMxQxd9flZCpSt3/6owlBLMaYKoe3eMuvQ01U//qRcOhVRtn78tQfPAE0xpgqh7dAy69DT1Ts+/mbIIxjcRAiLJTJFaEpSRyswJg8wMqqYGxk1+V0yRul6VEYbo4NKCwekMPUAY5/fKiDl6evfj79+/nFPl/YXslOJo8Inix/ZgMPS73+mu/+VK5gJqWK4cuA2sMrqmpsjqLaILfzDNrMgZtV1AcwpBqgzYAqu8IeAxftpVl0XQINhPUCdAVNwhT8ELH1+q0OqrtaoKFQyCxmgzoApuMIfApa+/laHvv46GHSMFAMllUfIAHUGTMEV/hCwvEvGX37IX1TBauBrPhQTTNczU8d1MDls19lCcMjAoExsn18GpIzIvv79+JNh4Pum9kxpafK06udf+2ollCsXKigT2+9/pr3/6bhFFosKvns4T7Y99JCfwnS7J28hAw9YulH7/H39+/HHqRRpP/8GzQypEorDpXP49Psfrd422P/6LTLdHh2jtlTlDaMHjtLITSrUDDSTOqBQBCGwxJaqJFFJSrBTM9BMWpmTGKyBJbZUJYlKUoKdmoFm0sqcxGANLLGlKklUkhLs1Aw0k1bmJAZrYIktVUmikpRgp2agmbQyJzFYA0tsqUoSlaQEOzUDzaSVOYnBGlhiS1WSqCQl2KkZaCatzEkM1sASW6qSRCUpwU7NQDNpZU5isAaW2FKVJCpJCXZqBppJK3MSgzWwxJaqJFFJSrBTM9BMWpmTGKyBJbZUJYlKUoKdmoFm0sqcxGANLLGlKklUkhLs1Aw0k1bmJAZrYIktVUmikpRgp2bQtT/kJ5jUwW0muLeNommHqDVZdo4MaWdkUxpkMLBtqTVZdo4MaZ9/YAWsRIML1bbUmiw7R4Z0YHaOr8HAtqXWZNk5MqR9/oEVsBINLlTbUmuy7BwZ0oHZ++1vJRpcqLal1mTZOTKk71D98zMYD8gMoFhwjSk872XRbNpwB4wGUvi2F7cq41IAUgeKpc/f11/GQj/+fCpw0nGm2DyhRGraeu1WZVwKMOpAsfTzr59/MhamOf/ST8VwUNmQ6lp3I6glLT3zB5TVA0aBs712udPtH6N1I6gljR6SQ57j2M+M9PmLB5xSrr7+tuvsx5/MmfQNWDl7SmnADIOz/A2w9vOv3//IThiP03lSFMZKoS1HWyURqc/lZbyROowAV5RMYXbBmRLcIRHJvKQOJcAVJVOYXXCmBHdIRDIvqUMJcEXJFGYXnCnBHRKRzEvqUAJcUTKF2QVnSnCHRCTzkjqUAFeUTGF2wZkS3CERybykDiXAFSVTmF1wpgR3SEQyL6lDCXBFyRRmF5wpwR0SkcxL6lACXFEyhdkFZ0pwh0Qk85I6lABXlExhdsGZEtwhEcm8pA4lwBUlU5hdcKYEd0hEMi+pQwlwRckUZhecKcEdEpHMS+pQAlxRMoXZBWdKcIdEJPOSAtq6RWZguli0Qhe9O5K1VTmWcrLys+c2OJ0LZR9ATEq6Pr9sNZw1DrvkWionq77+4YSqKqNVK9cM5kLXj79+/PXzr5o1g8XqABMmlrPOaJQoca6pLhpa+SY1BnTAOetMn18qEKvR19/2dVqTWJgwooyd1BjQAeesM4qLUl//vv7p87Qp7jLGUROGW4sNOGed+Zscf9UBptqBSZcGnytbx8vutyrmihqtcodzVEXeAzlj1skxDi7PQkWtfh3OURX5HImcWSfHEMu6ZrRyWXRgVEXeAc6YdXKMg/v+SynS71VoUbRuHcWLqsjnSpIz6+QYYvvtX1dL5Y7iRVXkcyXJmXVyDLF9/etqqdxRvKiKfK4kObNOjpE5lx7BFGfGDGGUD8hDKGedKV0micZNnSmzDDqY9fntAX2otbPO9PUvKjCoLgDRRmqOpRSD9eOvH3/4FbcwQpx1Jg6YMMYqtYr0ITVMKUW/v+3xJwcY+y0y75L31Bk31UyJYCESqjCKkG7887ZCjlUA8/yPGzSDC6707PPXb4rly8++/v34k3sRXS/g1PPMJ5UzxZyLQono518///LPqXJY+RVM2LPrGMrDJXNxcCVQ52VHOfByZNPHdYxYeuWsmYvoPr9UoCyZl6dWUzYa1+7SCparnrmIVp6BK0OtphwzU5ddS03OmrmMTVzp4uZaTdloXLuLMESZLmfNXEQrX7q4uVZTNhrX7iIMUabLWTMX0cqXLm6u1ZSNxrW7CEOU6XLWzEW08qWLm2s1ZaNx7S7CEGW6nDVzEa186eLmWk3ZaFy7izBEmS5nzVxEK1+6uLlWUzYa1+4iDFGmy1kzF9HKly5urtWUjca1uwhDlOly1sxFtPKli5ujWg8wvKooQgWUsWEdbNowlXF6JDmKhzaimOyVpdSkPr+UTcsXzoFCLY0N62Dr6y/F0Hr046+ff/3+569t/xuuYPwAZEyxE4MqKtKhKKrcPRym3O5MChNk96uYFiQq+vx6KIol8fL19ffDtNfHmX78aSlCPXzcVEwLEhX9/Ovnn9wOi0PCh0+5/wkHGENHH+edYZSgUNZkrLHki5iMI0dqyLg2S7Q77wzxQaGsyVhj6fNbHeJJAStGSkSmuYasn2OdIToolDUZayz07/PnOpEjtUrFtVmi3XlniA8KZU3GGktff6tDP/7yOCFHygplapZod94ZooNCWZOxxhLHn90iozL4KZL3rkRwkzOKyKta3ylTmWhJQpIUts8vW8s2FyuXN0QuvXIOYO2E5i2daktQWXhqW7H7+vf178dfOb18sqR5RlLrO2UqEy3J3+X+L1/BhJ0JawZalSSanCcmo93kjGIyMOmDos/vOzMvmjCsEGm0kc+2zNFGqpaWOSj6+vf1TwcTjhlQjhDSaCOfbZmjjVQtLXNQ9OPv73L85QMMRwJo2O6qrmXHtg1tjYMzI6Dyf8Rnk3J1kFp2eNvQ1jg4MwLq8/uTilwXcnURa5m41kBpDx2HRqavfz/+5AZ+eKk1jo72IOrHnxx8yhKZ1C5MW5P9Nm/ePHLjz28cWXnXypGnnn1q5H3/9L6RnXbeaeRjH/tYBoGrg9Syo9uGWlMeYMRavPQ14KyiK74FrsJTVIoV2p4fDtEc4/X5w1jq6995VhfHCyeejaVqRFFUilU//vr59+7c/zz/wnMjBx180Mi9994/8sEPfHAE8tPPPoMv7Ud23XXWyHHHHjfy3ve+9x3f/9sBhhPRZ259EAuAwAb49FjGIg1RSlWQAhvg02MZizREKVVBCmyAT49lLNIQpVQFKbABPj2WsUhDlFIVpMAG+PRYxiINUUpVkAIb4NNjGYs0RClVQQpsgE+PZSzSEKVUBSmwAT49lrFIQ5RSFaTABvj0WMYiDVFKVZACG+DTYxmLNEQpVUEKbIBPj2Us0hClVAUpsAE+KYvfy//SgQeOPPzIoyOXX37ZyPvf/8+Kv/6660fmfXOeXlX8y79+YGTxtYs9TpkmSIF18CRMeQXjwI4oHSqFqz4YnXXGr7iypj6AeeLERORgVZ9fKqClCvVy1pm+/lIm3GHIFSl5HUfFKiKToUOlFtUHo7POeN6s6fPHWhSlz0Ut1YMcVB+Mzjrzrq//o+PjI7t98pMj//ie94x85/TTR3baaSevybHHHjty7eLFI/8g1b7shz8c+fCHPyxcrp1vhA6V2lQfjM4mBj8VM4H/m5yWwFIlCFtIIZEnTZAOEhGRJ/SvL7/cq2wuvvji5oT585s333izs6/sCSl706YREXki/7L9v/zyHzYnnXRys/all7RB3S20tkYbeVL2pk0jIvJE/mX6v3btS82pp57arFnz2LTG/8OPPNKccMIJzXPPP8+ODKCxz5En/O31/5VXX2tOP/07zcKFCxmwojFn5AkbLv/lP7q8Oenkk5uXqnHSFZGRjRri5z//eXPZD39QmlQaLj+gMRd50o7ASRURmR8fH2+OP/74ZsmSm6a1/RmJNOa//HLU6iSZU2sHtDqirf+vrFun4/HBhx+ORuWZgxRK8qR5PK+p/CeaX/7yl83Y2FgzNnO0+exnP1vYb731lmZ0dKyZKfYjjzzS40YQc5DCRp404iOP//qYlgRVEt2iHtBoo+/w1L2FcV7dk6QkWqIewGgbPi+R7i2M82pMkpCTZXBgg+z1+b2aTZs3mquDnWHILaLuLYzzVf7SklAOdmaL8hLs3sKAX7RokQ6uWbN2bV5++eWU2lGCSLyrnGHILaLuLYzzGiFJSqIl6gGMti1KHbM0d915VzMq2/i8885LQWKemCPqATV53rxjdIzcesutyX844pGFcV5dk6QkWqIewGx74403mj333FO331lnnjVUA9xbGOeHyL/o/AukvzMbjJN1GCdbuMz5wgFar42bNpnnFubPjS1bvYXN0DBr1qxptvvQdrr9b7nldylEiqsk5oh6QKOtO/sFF6BWY82sT8yyORVg7i2M82J/+OGH1Gful+ZWORLKwc6EqI2OZ+RcuJDjOZvvu/8+3Xawf/vEE80gYRDp7rvv1vEzNjbaHHzwwalRMUfiXeVMTjAJFw4wJaoVRhRR177qCVaySuUIXYYWqa0hZNmyZc1tt93eLF26rLnzzjublStXNvfcc09zz6q7mxWrVjUrVq5o7rrrruaBBx6kS4pmMe+7775mxV0rmrvF594/3tusXv1A88Dq1c29997bLF++vFknZwqT5V+8eLEUfGbzoe22a5599lnPgSSx1Vur/0wYc6luK+XfvHmimTt3rg7uffbZp9mw4S2mY1OMbqX8ZZIsbe3+r5AxNGhCohWT5ccYGh2d2WwnY2T9+vXF+NMe0Fnp5OP/2muvbY444ojm1VdfzZ2fIj+AGH9HH3209mH2Pvs2m3kipEasZBkivwHba3aBlolNm5svHXSQnAWPNRgn69dvoGmo/s+ZM0fbukkPMHV0D+VMCyGKqDvllNOaM844Q/GmD1aySsv6o86zPrGr7lS/973veb6aYQjXiyLqJpv/m6VWcw+SOSVXBvvsM7tZ/5bNKY9VRDIt6rLDDjtou55++pk2Yor8K1bcmcazXMmyoUqt/9gv3nrrrU1df+zvMA/wd8opp3gTGSIqom6y/sf8foApN4OEjRE8S2Za+GyCc5JIK9HVzojHRPPQQ3YUxyAeGx21I+vMmV4AFgL0Izt8pMgIAWfghoEv/EbdF5eAM2WDf3/Bgtw8bydUE3LwWml4yf/73/++FT8qtkb/Y/xtWX9cyu+4047a96OOOkprsS3zo9+tem7l8YeTF4wP3lrakvxXX321nP2Oyq3FdDZYbDjrjany+FaZIqn0Wu6Ha93fXP9mGWWK/l/6g0ubmTJOcZArToS6E5XNCfmZdJj+4zYM23vkUUeKqwdimESpJ22a/ffbT+ffJrn9nN2yfZj8TPLkk09q/ffffz+qKsq4pGbGQfKwLx+Wdvz7yM423Z0Q85bkR7QW3lKk9USzdu3LUqs8p3Q+sTmkuRAaDwc87L/Ov+B8SeCgIjKFOr+NZ1zB4FYpfUm9Wca4eqI55JBDNCfGM/Z/vmxhfvdThgnkl/q9LQFBM1QTIVHUB7iyLVulqMTsEwy4dP3KV77cfEnOqHfbbTc9Wxr1A82Y7AR3bg488MDmUCnKJZdcUjQBYdauXdsccIBciusBSg4ooLLBcGmPK5IDDpijVzJ01NQp/3NytYIzCOx0vnv22YRs0/4zaSjJNst/t1wh8uD8oyuuYFO2WX5PKMy26D8mJG6RLVzQfnYxVf49P7On1uruu1d5s6OPKitFJSrk8See8J2dBxImYrvm3+1yhY9thfH9h9//oStdGaSKyVyaJyZLhqiq86+Suwg4WUP+K68M44RBSWMQ0e0rBxjMLTuDNtB08sPzpzfcoPkXLPi+BZJ1la6lgP3cc89VPx6Up5vfkwamKz/GB/c/cU7Rrc4/Pj6uNfr4LrvIFakciGWp60/fmi6X8YztwhOmuiCt9kmAW+SKBldZaOMJ80/wkBE7bP7oo4GSwq9gLHoNi3LkU1s6VNyyZpJ1FyYctLxXsVXC//nPf9Zi6waSiYSzgbfqS82O2I/JQ1v4YOeBAX3qKac2jz023myesA1madqOX/v61xSPwff6a6+nZkVc5DvMScUOG1rWHW4yahxdMrU+ypHfOvmPOOLrWrvtt9u+wf39svFbP3+ZD32MOSP/9vuP26UYJ+cVD8frHFE2/sHVD+pExrOIonmpSVQaWtYxBDFp+//4xz/WWOd+nzvKGhxl4zdu2Nh8VE+Expo5X5jDiIEaztcxBFFvc/wdKbf0UDs8x7BxwsCgntn4lH8/udrAid5m3CJ7m/nnHWPPv5bJbfT20p3/IX3GMVPrfb4/d6u962JFOfLJr0NV9/+Irx9hV5rbo1bpKnWS/u+1117SxpnNHXfcIUligsi38y+/Y7n6LVwod2jcU3w63FD/V197tdlFDmQ4KB1y6KHNho245VmDoxx5TdGGq9pwXOsBJh6lzCsEU5bwMmbWpoStBoaGDCyqxCxsiDrRyBenOiBxWwtvP+CNHbMwF9tirYB26e236S0DXMHgucKf5IpIF3XMOFPmNS657axsZnPWWWeKIWCVNRnrYEl8W5MjJ04dI65EdPXfEepmvhrGDWxLjBv5CljUONiEZf577vmj1FxuK0q9F124yEAa0uJiHTNkLeNFK3XJaYj85lFl0ZA5U8yQtcwVrdR151++XG6RydhaeN5C7/8w+U87/XS9Qr7ooove9vY/+hvyDEXG6tKlS+vGZlm7lHv6C7wRJD7Ywf/ulltS5wgfvv/0AOX2Nx1ihDjKmkzLPX+8R/OPSjsuXHSBuek6+AUtwu23777qs2lzesgf7Fuaf4eP4k7DWPP6m0OcBCGP5McbofBB7fgmHJuwpfndT5nY58gbSucU9mFyJwYv1HQtMf9118kzEZl/x8hLJLpoSIuLdcyQtY0+X54pc7c8YUrZ1DF74iA/d648T5N2Ic/GjflWoWXIWEuYMwVLaktbk7IqsSsYxeQg6hn9oscAHnB3KYS2Q8usjuZN9sRvn2gDIg2KJTctaQeiRpwWXXhhumoZay668OJmQh5eD1pgidazv3u2blQMwKfkAdtfQ/+LBg7qSNAXfSqEAEpsy6zF0FXzub0+rwMPZ6f2QkTbv0tTxCyENrpl1tS6sm63AO0YtaZwKYQaaZt32R3L9KRC37rR1LqaNP8GuYLGFS5ORp595rkicJGyEAqYCjTbLdmZzRuv5x2ltoKAtqu+Zor8s2Z9orgqL1wKoR2kZYYiDThnlWn7UrMXxonsrLeTq91X1r2i3u4CxgXzwIsBmF+4RdYyK9YcnDWR6ZziNjr6v/fes10HBnB3KQR5NruOz2bHmhPlLarKnBzNW9ctQJGqUyhcCqHRt1HRd4wdzKnKXORf98qrOv+w83/llVc6c3Upl8kVj97yxRV5K0H2wMHsOHk9G89cviePAvS8D/hUPWeVyX5TcUXKIIy040RNQCZ1tFbNYhvbbRGn8qEUo5RaczSbPoPB2bT+jTXPP2ffG9CTSV597bXmq1/9ig5e7BTxFlprmST/63IrCBt+TF4mOPzww8U1ZgCf5JJ4ClMPMBIl5rKnCV9pDU4bJPBJLolB3TrASJSYh81/05L0zrzU/aqrrvQMVTMYOanfufzeX82AuGXsJL3t/Hcsv0N2VKPNguIWGcLGDGX+X/3qV82ojJND8DpnWgydfKIrAaCir+u/5k/YUY42n99774g0sGsQMMfG25TIjx3slVdi29CaMaqsVx35DVK2irrsXuaHPmVqbrrpJp1z+IbCxkkw5gDGidPsfWdru8u3mLY8/+Lrr9c4eJ6CxdqTWsXGWVZfX3LRxVI3e2kILxLRC7TtEjXgk1wSj23qAcaEWvLLmzz/VVddlWMOyH+M3gIcbRYvvjZjB6RgftxS0yvy1ni2EOzpOeecoyfTP7gM3yRR2zTnSD23xv5PrmDYxNwX4Yol9a3QbYlQ+ENoKZIq6V988UUZvDaRsOP/pDzw71oeGx+XM7lZOtA/Jx8QPYOrj46llS4oFuOSVCYsjv7XXoMN2l4CvG0cQlP4Q2gpyv7XIQt4bRxCLvynyG+1xy2Ymc2XDztMoxf+Q+SrIYX/FPlrX8iFfxdgCl3hn/LjRARn4MU96wKYg1J90EFzdawsWTLJ1XR2c47+qkj5r7vuOs1/7rnnuHpQR+l/zDH2WjLG67iM/WEX+nuilmLLx5+PE6nhYWmcDGoP0vEKZvNGPIOJSBN0XegzJqr5anZ5WzFjaw63g3ZMb+rhilFzx4CpMcPmr+MPI7+g+zPMqbHmy4fKnJoiv45NmX/8KLKAD0h4B8azHOz9IX/A0R8HNzxyuOaaxS3rZ+R7qjP+64ygzyz9s2Z4zm6RAT9ZFN4/F8xksK60GZ+Pll24GPjXv/61bgxsEJytnSJfEOsS8t98c8bg46EN8vCza5kqP946Qw5snNUPru4KIZ1OUUL+bmBbO1V+98hAVzmzjfPjLRbUHn+bcH92G+f3fpPZCvltEocJOUX98SowxgjeRmy9bMJ2dtActhz/dpYanr9kYDuK9B/3yZEfJ0K44sb3S8MsGVXmb/lmYMs0aPvjITHHyUYcODoWht1n9mw5i7dbZB2wyXcsYft/JL3g4A/MO4NlJb6bw8kSnoF85fCvZkPNsaG1HnLIPxms0zUpd/n4x7X/qFf5zCMBQmC8QcbXwR+VX4wYJv+yZXIFI7HrAwzD/va3v9H8OMji+yH9kwMKfs1CX5qQsYVvsjqXt9H/jltk7DCaxua10w62JLdJ3ZO3kK44p512mg4I3h7DrQkum+Rd9v8+6yydaCjoDT/5CU2ZMndXcEWZAR9EYYehA1BiFQ8gtagDA2i70S5cVuIqCh+S4bJdn1uIG+6rLzh3gdwr3rvB/eoF8qbQM8/wCivFFTIwwxD50RU8F8Cgwtsne3x6jwbPrta9LB+TInBH8Mcff7z5kfzsBz5ghb0D0nxz3jyv/4oVK7Ri9arLzzEw8s+VkUneQhIXjcYP2f+2o2iYe3BwvZWKHXb7FlmKWOW/SJ7xYbxhbGIZGJpGtkHRTfOWfJCJ8YKP2fbb3x54I/+n99hDJzlem26/6ZizrH7gAc2PNuAWXbakBJEwdwLh4Pg/8o0Fzoj/Y/fdm3nfPEY/ukMQQHCwxfdPu/37bvrx5s2Yb1X/Y3jw8JuHcSLtwV8xTmDkH8CyzJZ5AJy+RaZGUQoGsM4l5X/hhRcaXO1hTOJXCxADJ4Rz5MTw+zKnHhsfb7szt1D8FBLvhlx66aUJm7IKSVwR47nnnpN59O1m990/pfMKPxtl7c6w6Ie5hJ+HeeLxJwwAI/+Si84pabfV6i7HxTgJqmShfK+H/d+ZZ+Klo/ZS++kJk4wnPcAwdwKtTm8+Irf+ye1CpYK3t23lACw2PJf0ZYjt79iaCfn9Fpli6laLslQliUrSOkHyopnUYYUiCIndXSaBDgo540EB+HtPL7z4QnPAHPnORQqDgvBLXo/rjAViZNLK3IyPy3vnqdi4kqk6q/DS1yTswPGtDtuhGyttPJwh4KtaPENC27eXA5htxDF5LfDf7MFdETQIgWVbS1WSEln/5nqdADE/+J133tEfpiIOY6yTh7H6vEm+Qsetxw0bNgRrZq++5hqvf7kDLvN7YCQpFsMxL6lDCkUQAktsqUoSlaQEOzUDzaTRjIeiqNXC8+y1TrW1gFY7PBi1q7rRBq8pe7878JbDDFhPyNnoz268MZ2R2kQeS/XX7cbJLm058IsHNi/Jt1xxYYpr5OwSOxy8wnqB/GyLLjRGh2CA+SZ568xOojBnyvxny0PeH1x2qdYBbeHPp4C/4ko8K8hdVYEdT3nxwan2AXUs7v0bgM0DxYkW8uszGBo0aBACiyuU8+QNP84do+kD6jT/Of/OkhPO+H0NW41wR8nvazHGihXpQ8KQh1g2Zc2f/mRzRNqK74zoe7Q8F3Es/YXiwMoa4M1VWwwQYHJbyuYUsAsXnJdwIESV7BNPPqX5ccWW+5awdCEV1/KK3Aw0//RnP0ttLLe/tjuMv2efCb9cgqbJwhiFRCWpGcPaDFjnKxiCSQO8ZrN7bTG5HaLWZNm5xLz04ku+wXCmsqu8LYMFDzix80ZRONh2+bddOt8W85jWHFnXGpNvlImPn/xATHwvo0sN9RjG4PbIbH0jZlTOouY0jz7yqA6AONm0fTI45aew9Svr3Xb7pPcJt/9iezwdGdIqbxQNMtHMP2G+7nBwFYXvEfJXuXJGKbcG8mIefDCLHRUONFg8HRmh+sBQaoL6H3f8t3KYxBmUDi1zjikm/ETPSmkLzvKUyiSP8ooVq8wG/Sr5U7vRVeKzYuWqBhT++NKYf4ixMXyJHVvRblmtmdBXg7HdF/C3mwghDQFXpp3IHnK1gcUgHcDkQwvOCOHDK3GcgV/xoysafCCI3DgDf/LJp+0DQOw0Zczs8JEd9BctUign8+en12zF71c33+ytcEBgmP938jtbyIP8+EmQ1+SFGOxEcGZueplLMv4xFu6U17Z/csNP/KQJJ0iDFvbfXpSw+YMfjuTC/JRRMTvA8BZZRjiXmE1yqw23alAHjL9R2dEfesih8qOUS/RZD9q9VK64Hnjg/ubw/zxcxz90eMaDbzuweEzh7TaenbG/KCeotmSEc8Lg1xR2/xRObuVNVLyGLicHyG+/CjKmPwsEf/Ox9cknnuy1tIfktKdUSiZ8TiH28ccf58aYP0Hd9kU56UX+//vtb10HJuanAc+kEBsHeo9JY0uTEc6RIXXfNmOQwcBoyc9gPA7NoIEPLKFUmUyJlKiSulUZlxz0m//lsxV7g+ykk05qrr76Kh/4dvZnOz/syPOPDTIWqYcsGLcKs2jRBTY4ZGLzrZSizx39P/cc2TkIHpf8/sN9kmGjfKiEDcydCW6b4V6rvrWhetjGZBLfYO3RhnhrQhupAw18YAF+WN6GQf+R5430PYBd+dlkwgGvXrCTgg/OzA4+6GAxM2hETsjkxe0Yqz8OWoojlLTlTQNp06x5bE2qifUd/Wd+O/u0tqKeVjts16RL+b2mftYqOzTBY+fjtdTmMy9p7FPmaV16OyZk/qmYNgJIQ8+f/y0df/rmFgO4lZ40GAWWfQK1EwuL+I1vHKXxli1bSmf/xVv0fz/56t2QOaZeuUscjH8+4KbVglAyiqtsvVoVn9tuu83zwIorg1h/fHOGExS0k/XHh83sv9IyvMa7X8eJbY9DDsF4wkKgSVzzAONzRmElFmfq35CfoOE230F+Dmp8fNxiClRPMKX/Nt4tk37OoOOH2zLHRLy4Dd56a0NuncIyFu3EwR/9x+1CRH/55bXeFtTrEX0eAqQt8NYDWMp/id6CK2MSa3PKxv+hh8qc6sifo4LDryD/QvPjLVlveAgfWBkTtyuWL60wb03dZ4j8RVI6kmoLY3QaSM32/wAAAP//WELApQAAMCBJREFU7X0H3BfVsfZB8+UmMVW9ud7v3nxJvgTe35dyI5iiJmJsGEFN1HsV7PpZo4LGjkaNWGK9NkAliqhYYhCxJGKNhSoCdiwUAVEjqFQxwLt3npkzc+bs7v8FW9pvF96dOTPPzJydPWfbObv/TkV7UYRORQihE/21XuoRKlWa2xdw3Ql+C/rXKUUgeEFijsimyf7sX58drhk6jG0EAV0In1pnnXDpJZeEP/zhD+F3v/sdSWDdHrbaauswaNDAWCbiltXFP+ecX4ehVw0NndYqQv/+vwx7772Xs85Z1GLpkiVho402YsWtt44M3/zm/yMe9SjCkiVLw0bf/S6lUup7/oUXhF49e5Hf/mHkrSNCO+UBaR4/fkL4wuc/33L72XnNCl45X1H3q1+dHm644fpw4YX/HXr16hlenjU79PjJthZ/2HXXhu9/7/tZ/n+8+ebhtddep+oW4ZjjjgsHHvD/UXVynHufM/eVsPVWW3LEbt26hhtvvFFgMXYiaqc0acCtWrUqDB06NCxetJC2H2GwBZ0oPOGRD8RtJ5byXxRrkQ5yWK4V1l5LsJBxGwIe1mwnuj326BM+//kviF2WHfjAZrZuf+MmTAj77rtPOKrfkeGQQw8mNAdmO7965513woYbbsjbP+mxx8JnP/tZp9btViqqkbfeGk7of2KgvsX1/c2QK8OPum9uETbdZNMw/803wxNPTA2f/KdPUGix79OnT5g8ZTJVvBPt2+HW1uB1hx13DC88/zwHuJX8f/Ob3yRe4yplNa8GDR4ULvrvi8LWW0v/oJpY/PPPvyBcOWQI1S2EL/3bv4f77r8nzJ79Sthmm60lDRR///33C8cff7w5rEYIYe7cOdz/UI9u3TbidmIGxPj899599zDl8cnh2Wefo327Vm37P/HEE8OtI2/l7d9gg38J119/ffjSl77ELme9/HLYtkeP8F3qY8OHD49hirB48RKSoU92Cuus8+nw0EMPhs98RvbRW2+9FTbeeGPSFNz/Xpgm+UPaysefdmqH2233kzDr5VnhgQf+GP7tf/9rQJ5RJyzY/iem0v765Ce5jNW8ea+ELbZAP5Hs3Hzzb6mtfMf0fvvnvDI3bL0l5Zdq061r13DDTTfK/mBTsTfDyCxf/m7YdNNNwtKlS8O48ePDul9AW/eL2hVh/LgJYZ/99g2/OOrIcPDBhzDIx/f7v277Zcd73zmvkeqlLbTo51QJnGPSYgVjkq4Fp8j2yCg1uAJMkDNe3XO7nkVbly5Fly6d6Q+0S7HzTjsVc+bMYaOnn37a5IJrK+bOe4V1GlepRfEBTFgUp556KvvqTDFGjBghGsMaYxb33X8/40844QSTgQFyzJgxRefObUVnqnfnzl2KP/3pT4yZPHly0WObbYsePXoUv73pZpaVV1kkKxhThnN5w65dOU/Llr3D8S+77DKLv/HGmxSrVq5MduRq7ty5RRvVS3M6heqlSxaJCgvffptwkv+tttpKYS2p2mvelZqBAkyQM5naCsbk4JqSIjWuUoMqwARFMX7cOM7F4MGDO2z/d955J+f56KOPdtY5q+4R9+XZL/P+1zyPHj0662CzZs3kuHvsvrs5UfszBpxRdKF9hHZ99tlnmR4M9kOXNtl/s2bNynRqr9sNusMOO3CcGTNmZPFhuOuuu8Y+1qU4/fTTefvbyYgOpsUm1HZ+fuihxeuvv5bFqCtIO6E2T/VC/Xz8DE/16d27N7e/lb5dRhDqf/fdd3N9dfvp5JW5QP/E9qOdl5dttu3Btuh/91Mf1Xq8+uqrLG8j+SabbFI2szLiv/jii4zdb9/9ory92J32EfYj9ke/fv0Mr8zto0aRXrYfuOXL/8wqja84JPht6lPa/8p9CvFtsYIwAwYM4Pg33HCDQcoMkOOoPWP7uT2bj4gsl0sOMrUVjCmhq0VF6nYrBZJPMN5EwGoimkzmrb1hSz75Yo5WSZIbzV8wnw7Q6EQ4uLXxX/+T+hfL3llOwGhF8dFB0NjaYoe7+OKLc0dZKUVjjlYqOZFOFHoguPfee9lKdIoQRyp7Z9myAgfmhQsXZRFQuPiSi6khyEGZrrScPvlijlZJ4mCRFV2OyGQx/1OfmEqd4gW2ojuFovvm3S3+ueee6xyL9W233Sa5pQMYcrx8OXJaXYBeuXKF5R95rotftWwlEWtomaNVklRtRJcjMtmH1P7Gjh3LHRcd0i9ZLFIcdPBBlK+24uFHHhbYauLjQCQXPl2KvffZm2zStoAb8bsRnP9LL71U/Ln1BRdeIPuI2lG/I480Dew23mRj8du5c7FgwQLTtWJwEnrm2WdIncdfumRpjCEHThzY/SLoZANdJnPbv2rVSus/aCf1i1jjBIN2t3LFSlcjsVixYgWfALq04QKtS0FPJDJX8HDCCcfz9o+j/VZedtllFzkeUN7obtvUONnrhVLPnj0lLjmTGhmMmXfffbeYMHFC8eprOLG28wUtH4Nou7D/H3zwATFw29+//4m2/bKvc5/RgAlOrHxsi/2vDgmZ1C3V8Kmnn+L4/7Xrf4mJi+99jB2H9tyZTzBerh4hY6+0St5zpGFKCMFHqxbxq55EUjrBuNDGGsMWvqSxWOYVlWgdKg19z+h4FYOTDO0IerxEutwWpTvuuINPLrhTwAliw67diuV8EjJXJSb3oUqcvPQEgyufLJaZGMNmvuS3f/c+dLUTT3hnnHGGhojUW5VUWdHhjDWGkb6k8SdPmcL50vi4y8sXuTqFHge/vffeJ1dbSbyjMyD/yA0arV/q4rPMK7wB8x0qHdrhjDWm4km3nxE5zPkEW1WiQyIf+QnG4SK73377ch4mTpi42vjzF7xh7Qm504sWH18uatoKxC8v9MjS7M8686yolop036w71VcOwPToR+oS68gk8mWfUk7KCePHUwy6eENbpb833njDmSRcSpmTEdKXVtDJAtuJAzDaS+ulne9gEC+7s44G6Hva1kC5ThZIGNxZYfuXvrPMwmD/0yNM7v/cXsl/yjndtc+ZK9tKbRh3dKtfLGgx5MohVqeu9LRgxZ/j3YlzgicFuv2DBg5ymjLbThdtlCuqn1x8tJUBsZzia6JffOF5jrHj9lJ/h7A7NcjGjqlrzxrGW6msjjqcscawgS+tSf8rnWDyBuSdVasj2o4xyaqM5nLJeMDpA+QsTzsCO+7e++9LDhz3Ll19d+26Ydy5gr3jzjscosrWxb/gvPPZB3Y8rvCx+Cp5viOPuLOBD71C4cciJYO6+FmwiPcxPV9yR8Xk8YILLrD4W21Z/0hrs+50gKKOhgY+cOBAsa4JANHCRQstt60fLaT41bpVJWU0l0WYgb3I8xmIC6LtGJOsyugxuIOhg2J+gtGsih1saLyPctFWnHzyL5Mz5soei+KPDz1kJ2Y7UEYrRW9Kj2qgW7J0aRYMjzBxkOQ2RG0JccVGHOhVOmxnvzybhOoxBlgNUfQg2vfwgTjbbtOjYuVjer4CpPgLFy6U+pKvTTZt/QgKtrvRHQzan55g2HcMcN5553GdsP3b9Eh10vizZ88hfVvRu09vVw3R3k4Xm9ge7X+zZqbHh4sXL2ZdG9luzI/I1GPMXiqaXxUh37wvyPcpp5xiemVmz5nNvhUz8TG5AFF9mb5NudL+hz7FcTSYA3sReMlNW3HVVVc7FFhBKh4XLKhLuT2rUY5e/fanCOqhTMsey3op05g0RmJ0mCofwpGSDtC7gRxjjSkZtpIDpjqlGiWEn2xLg2yzZvLgF7T0XDGsu+4XyAIDlA5PLD1iCJcNvJQHUQsasfv2t74VfjcCg/9YHFYEbq26ggagh4Vf06QCDHCd/MuTw1577ulwyq5++ydMmOgmCHQKY8Y8EtZf/5/VQYmm+H5gTaUlMBVXH3/nnXcJzzzzNJsecMCB4dhjjyY+DVq/8sorYcstt2Jf8Df8+uHhu9/7bobx8V+dNy/8eIst2N9XvvLlcPfoeyr5F/feiuFxJfJVq9ppQsZvw8qVq2IsbEtBQ/jYm8DEgf1Y1hqDQiuLWtAorI7MkhKD/b227xk+97nPK9BRie8EjhXduHFjaZB//3AUDYoecsghHE/jOzANIi+iyRs0WYJmI0yZMjV86lOfksoxOI9zyy23BDoRkXl7WOfTnw6TaVDbL3QSoUHxLXnwnp6pkypFvITa88DLMFkFrT2E0ffcE7785S9zGZJDDj4o/PHBhzhlI0fcFr7BE0zy+ASOSyt5CHvssXt4/PHHcWEZ9tprH6rvSWzT2gL5r/Y/VBKD3FtuuSX56hS+QnUdfc/olvH79Nk9TJ78OA3yPxPWXvtjhEsRjznm2HD7HbdzFExYufDCC6MfkCKMuv3OcBy16cMPPyIcccQRzrQINE5C2zOFcRtssAEN0D9I/pFB/IXQ1tYmLNXx+eenkUTjKmWYSVFavGgR9Y/viYI0gy+/Mmy5xeZUFp8A01OUcAzVCe0Q2z916hQ3ASD3DUfz5r1KEwJ+TFwRvvrVrwZ6NEl89MdSXyIBLXTXE7p33yzMX/BWePSRh8IXv/gvojD3xoRxY8eFfWmQ/6ijfkHt+SDCJd9ipGu1UVpyqTCjrfd/yqWBI+N865lQzje01lNiYkxVZgzKivbcIlNSIZb1tir5EsVrr2FAjsYw6CoGVyQ9e22XIDXcvHnz7AqDr2DI9omnnkzINYh/26jbJCbFG6jPfc3OmOSTuOeee64YRYN7s2fP1k0qLrroIvaDwc4ePbYVvDNfRWMa/fr2K359zjl2W5ucOiCEVjQmQUscEMtw90T1R+4Q/7778KiPFmd+O7YTecUjFhoIfCd7nOiA0W7atGmElfEkjHe1WnLL6v5HjlA3Hpty8fkRDfY11Zf3Odc/8nH/a3zZNujkT68YUb6FrvLTUo3vdZoPbX9jx47h+IMHlx5t2EYZUxx77LEcX+9y1W9CQNJe3HTzTYTD2CG1X5qskhZC0v9Rt9/O+b/0Uj9Q3V7YGERs/5h8ku1AKmEAHn6x/RMmTGDX5fi+vHjRYmoL9/GgN9of4uOuCftf8383PZIux7n/vgeK/fffv3hu2rMco6PVc2gnVB/87UpjBD5+udB7N7qDofa3YsWqksv2AhMoxE/novxoEGA8KoceA9l+mfa8PD5S2zvuujOpY2Vwt6DtbwU9ptL9XwGqgOwQx7e/ujEv1Enb4p577knWHbe/ac+hT0n/23XX3TQa27mC2x3tNO7zIG/3AQcckEG04PON9oz+P3jw5aL2SuyMWF6T7a9xoCEzmoVosf24kolLK3gpcQoHzU1MUxZrWahfmwmNq9weG5k02AFnDIjK1vH7HdE32kinxvNtLBovOrCyjwz+ITzSiB3krLPOVDjTFDVxNEWaD0pqs5xmcGHZaaed2Q8eP5122mkWj5W0uocmEEB33PHHU8nXQhDTp08vzj//vGLIkCH2TDxFTZz6M0qu5s+fT7Fl+xEDJ16JYKjiROoM0KFD7LPPXqwoY7ReUE6aNImwOMG0FYcd9vOKP/NcdVLxjRzT1XhxL/0xvXc05QP8vcU9JEt/JLfyvaRHGZjRxWjCC0+UefJHOV26eIlVxTPlamlZqKzHjKWDCOUjPVJQlHhKWW8v8DgNucCsomzJTYqpGAuLefaPFhV20skn88FuPI2DqAz+aNot2SHfXejRb1eawfU66RUh3HnucS5OHLwoREq2xoEUg9rSTtsKmpLMugfogMUHW65jG8cxoxhP7WbSbDdZUk0SVrjHH5tkMQ477DBTl6uFcp84yL9qFZ3saPEYtHvdfpoaHfWKaC82owksyD8upnTBxJYj6aJNtxGTCNpJhkUtwe9EM1DR7tH+F7z5pmk9Bjhvhbam7Z/uODN/gi2K7vTIWWeFDRo0WMVMy75RfnzSY7EenYvDDj+sxmduhawfdtjhnJc/8IVAFkIKzsRPWnHirD4i92vvM7dKez1xHp05Lim8Jz7B6Fktc+VQvkrMOx3vmOSgGirDltSxCPP+/U+KO5UaA52J7/4Drq5kERduHX0iqdwwaWYNNzS6+tXpwWYZserLU9yNwA6TBQ455FDapQ5cYduLffbehxtJF1wFUh1foxkn9EiP7g5S/Jtv9lOR24tlS5cVPbbdluM8+wxm9eQLBjRlsgIGcGUwsr2dOkpNfFiy2OkW0Mw7Hx/TLdPSXrz26mtF127dJD+0remA6lDRn27/yJEj2Sc6JfCidmsX/8Pa/6iNxueauRgucmX73298aTtx+2KsVvFXrFxVbN59M8phWzETU4Rd3crxcfUPHNrlhAnjMywOSmhv/kCJixbd/xvSuKJN0HAxwA6//jr2i4Pl0Kuv4RTJirSl/vcYH/jRJumP2vapdNGDBQdvOSDLiUzskzm9g8L6w+kA6LdRquLWwhbcTjhGnL0U5eqXnUQZTgCIjcHu8rJw4WI6sXbj9o8T7Js4EUS7V16Zy31uj937sBnEq1a2F2fSBaFsC/WZ7bfnacBqk/zTQfrnh/GdA7BPP/VUUjkupU+C3nffvdb+MdYr0rR+5OFH3YVm54LejxJvAvGebTskV3LxXO6D5fhw8Aa95oD+h/h+Fi2HyOJQgRxwe6Z9nfuGzlWnBVsX39uJC7fOfFIhOShFoBfBSpJUzJxA7AWxK3qRWbpuanpjohspo7EtWbKEO1XXbvJehzSaNt5peMcjNUjng+qylK5mHnyAbiHxmEX/aIcc2a9vMZvemcGsj/ZVaqNUNyPFR4NGTMTXKyDeFGcim9ZOs1UEi46LQctVNIsG01h9/HN+fbZlClNC6Zkx+e9cHHPMMepGK8FlzIjjbaZtQIMCP2PGzDzdjPQVSvlfSVNFe/aiq1XkgGzvuH2UxX/rzbfilSwONnJSpHEB8uZ9sfNsdeqpp8WTVhu/3yNKb5PiZ4ZcWPP9X7V1Eh8u+k3aDx7fn2CSX8eV4l922aV8oMPjUOSP1SUMrJ/haaWyLzHh4oUXMJW8vaBxMN5HmG2IMg6iJ9MdDe972m8YJJ9Cd0C2lHw/99yzHB/4vn2PaBkfvofTOxPcluiAA/xYekdr4sSJ0kZIpncxb76ZpjvjPS5tf9OmPQ83pcULZPtPO+VUa/tj6BGNLPX7v3fvPozFNOUa58W1115r8Q866OBi4Vtvszv0D5xUBw6Ux4rP02Ox3r13YxnuIHb5z12KN+bnM+GspsTQy5qUA2n/uFPsIHGx/gU9BXjV2j/yN5f2ndb5KTpJwR/fFSG/1O+Wv7vcbIHz8UXRXnCfQh8lm7FjHnX4evaaoUMpTluRZqSaVzKotj+eFUl1vZwe+RqyyqzR9nONzFbr5wXV+IqyukFAJjbIrwM2bngmDXx5IQ/jOAGzUsYaSxpeSjjllJ500sk0KH8LhQUaw4h425YGfWnwkYd+SQzsWqQfQm9C0ywouOaF5sKHfelNY7wAzVMUiMEwJA0D86Lxz6U39X/6s51YpnGVRmj4xS+ODnfddSfH//3do3kATu0NG5lDf35oePD+B6heRTiW3oQfTwNrjzzyaPjS//n3QB0nzHvtNXZ78EEH8iDvbfQm8MxZL4eNunULV10zlN/aNp+xAg8//Eg48MADsu2/iAY5e/bqxdvPdSkbJQ0naey4MWH//fbn7V9vvfV4QJhOwOEqelt7ydJl5JuGnWmFfD351FPhnz7+cd18RyUI1jtQ7Benv8RRJk2Ib69rUtjCVYjZZAt1giacckrZTbZKPtTesMaogRMwK2Wssai9tCApqYXScePG06Aovcl/JAZF8SZ/8qH2ioWKZg2FbXpsE9Zfd71A78TEgWo1S7aIT48DA72MG5YtXUKmncLOO/0srE05v4Xe9P7a178e6I6TvkhBg7zcgDuF3XbbNRx7zNHhM5/9XKwFvGiNhKHeGjaiiRnL6IsRmGhAU9MZIwZ5/GeefjrQLCiKXISu9Ib9Zpv9KAz5zVVUn6XhB/RmO01VJttONJC9EU2s2Y4H3uVrE2uFwYMGha1o4B6L336XVNNsj3by4ku8HY9NfCx85nOfYzvNn/MQeu/eh9/kf+bZZ8PH1l6bcX7VvmpluPzKIYFO4Nz/111/PZrEsX14cdoLNNlnLE86oQN5mED7Df0PnyE46cT+NGlhz7D2x3DEwNbK4uO/9NL0gHqi/dNU33De+efnm2KVSDmE/SWXXkKTiAby8ec73/kPOo78LEyfOSMMv/Y6i4/d98Mf/ihcdfVvyKI+PuRYem7fK0ynXCHKYxMn0uQUyRUreZXH35a+ykF3y+G2ESPDN77xDXUT4YJNZgXlaHzYZ18M8h8VDqVJK7IknHJKI8AR0Xi98cYo3AmYlTLWWHz++QRjcGMEyEdv2pFYTGVMxCgpy2vLKiwCzyqhWTY4p3zyU+tQpSgOzhZE8GkEXrjcKfz+978P//drX5OKEwQzTmjglT4NsU74xCc+wdD/9bGP06yLFeGd5e+Q/TL2de1114Uf/OD70RcRtAj2EimRESNH0Ocg+pO0Uzj3nHOoIf1U8FjH+MzSah7NxqLHZGHO3DkQ8bLzzjvzwWTxoiWhX7++4WmezaXb0inQexQ882Ud2sa6+HRaDedfcGG48YYb+VM0qB5myhx++OGV+KQiGf0xw+FtdcPwG2lW3NV8IGSA1R0GtNCJ+sdbdA9XXHElCvSHOmaEy4to1tT34gyajX/wgzDs2msJZFDHsDityvWqLaswD6xSrY85tW1wYQ1sKGHK8tqyCqVD7rsPfVrj6KPCQfRpjdrcluLvvddegd6HCVf+ZkjY3F3wcAXUdazWgvkLwjnnnhtGjbot1o8idMIlECIVYYMN/jX8dMefhu136BXoPZI1in88XdSMum0Uu6BxGPuMCgcoxaf3MsLF9GklyVwI6627fjjzrAH8aRN8Wunii0lHNuh/9CAjfPUrXw0DTj89fF/7C5yWtt/naBHNtLJ2QietYdcMk03jysSwbCCCPr1pFtmUSfKpmLUpaIv2N41metHb64HGAWvjf/tb3w7b77hD6LnddjSr6osaTTbTxdO2RNfRdBL4YVgw/82w3vpfCGPpotDAMWeWOmPkGERTusONN93ExyNVrUcXGAveXGBx8TkdeixqLk2hBiTgXNFMROx/encmDBt2DUmpshFj0Mg88cQTgSbXhK/TMe8uOvZhKWNY6Fbjxo7nY82RcVZkMoggdqBeIs2JC6I2BPigx3+7tdHnaCYQRm+MlJbUXEy6xJVxrKmoneCvFJ/fP6BbS4xjYKZOedEaKsU8frpq4xk6Tz4hs9ZUh3tCfGJj9Oh7aFBvEr8noP4Yk4BR7AS0/Ri8xWOKK664Qs3sdtchTaeM6vAGPp7733nnXfxYBGNE/AiQbs1xS3/dtdepSaRqScWYf525Ajx/dqOKLPngO+HVojiSCycGTvAX3v86fpdm3bi6uC1UKShd2PD+6dcvvWUPqGI8py7wIuCkxzFpQh6PIKcv0TgZPs2S4ddg+0fR4095jNVm7211FB/vqWBG1P0P3F/gPQxXUZ659jjV69577ytmzJhBb9jL4LvWW6lum1KVo53g/RI8QsInlGQpoxQd34Ohx0PpkTd0Dl/a/jfpZVI80kLedthxh+LRR8cU+PRL3ZK8JM7j8EK15v9lmtmYFocvxVcMHsU/QG/x/57Gymh6dzGZ/mSMDY8a24pnaFw1eUmc2oM++McHLT72f1oc3sXHRCHUF4/3FKE02SYOOmvPl+cTDhTF9hUnTuDiqw2oIpR6nfJJlzjV0UVKzVLGlctmUlVUJQZODIHck8okV67spFxWnG2+CWokSWdcKT6mAeoYxoIFaYDR443PmGrFqpLMQAql+IrAJ17QeB9+KH6WRBUtnM6cObM4fcDpBV4KGx0/+eGhI2+jwXoc2OKfvgGOJLXK/wEHHMjPifHpGXp/xeqrVcmpj7YaqDfsID7Dym7LZfNVVVQlBk4MgTBmgANEPigaIWUnsbyM3iLXafRv8RhBGZg6ZApWxM+OdEmz0MisVf7Zruw2lpcsXVJ03VDGATFzsS5a2dTXw/j3Gd/sieF2QmMRaCertJ2QvFV8G+SnMcOO2h/HiE5GjZKZpZdl07p9LarRqpKCx7a0D+DFxY7iT5z4GE8MwKdfnn8e42e0OKf4DqH4auOp2QJIawc1IR9fqA9ikgfGTDuKj3Fn3sd0UWjTo+ucsvekwAkG7XlQ6dNHVgnPkNn7aX/ehfApvurKkvwEw4EVSrTFWc0QzpuwTgCQFpliFTcrylXt/WWyv1B8DNzx1RhdYWU76C8Un1NFExLw7gSuXHDVy0sH8TGJgT+fwSePtgJv6qeE0zsPNHkCnxfRwd7zzsP3yTrO/wvUofhKj3xeffXVBM/2htTJr51aWCcATotMseo4PvBqwmE+wvjokPLegLviW4P4p55GA9uUnxvx8UFXWWGdwG0/PdYim84FvRgsJhFWQrO/TFaz/UN58BdXz11oIswkTlMKlVmn+rEYqw8n/5i4oO2K2wl7TrUAx4tWhygG5vFuCaZQa95UrXDIvewkfvenzd77MZwyDiysEwCjRaI0zsbxMVGHHmezB1WrO9/+sY8R3y886xQD9aTD9j/0x4dMLb5KHqn4IuVKLko6F1cPvUqqFGElNNf3zrvuYv99+/alcgVh8ZhxaplK35kG+fP2nHAAfzj73yrh4gvrBABRUU4wJXnUmR9GaqkGq6r3TNWXUucgF7mSYx38/bHqiyjmpqPh4JESPgSpKnHsSo59f0GdlfoiOvyG4alhEURVreLjY4aor/75FyLx+EVeTmvjjoA7nOV60nLhLUgMhhf81N9b9PXXtLjaODbp3yenvpQ6N7nIlRzr4O+ZxUcT0fH5DqbGZy5KpalTpnKO8H7Fmi7YFzgg0RcfchN1q9Rpc1EqYdo73rHBHbd/98SZrjmrbpU6y1zkSsRyO4kHWnwleE0WvAeDu/PsEZm6VeocQWTTut+hz+roUoNVVUcUrwjooy08euJFfUUqnwWSPoULLZkxCGR7gc/ObIfZmtRm0EfOPDN/b04cVtenxT6F/f/22/SY0i+l+FDJNHc6eT3sn2IokACO9a7kDqY8Tdkjanj1pdRBcpErOdbBW7L5HYzBarzUiBjOcqc01hjLSZK0zFOsgUe2Fn2Y8em3NrjhoCHQYHkM6khNlT6s+Hi3AnHRcGdMn05ua4KVRPNpaiafDOidHEw71be7cQCSAxqmZsptOcZisHgXnodu+ksv2fbfTG+kV5aygQJY7pTGGmNxkySvi7pK1COjtEbEGpY7pbHG1MYfQ99uQn5qH5GZRaqRF+Fr2bgjwRcPRJ5iJVySyXfguvDUevWYtCrxtEbrRDffhC8GyP598gm82+GUxhpj2iTJLHzgyHtkLnqJ2om01c4Fv/PFUIc31hiOb19Txh0MLUkb/WckTuum/SNvyXdgwI6cN2ONsVhHHnUU73OcoN+m7+2VF7y8q9u2Nf38gI75gP7nzruQrYw5HXzQQelE2UF85AptDCcr5CrVqH77MZUd8TehL2frN9usjt7YhMTE+DIGQ+3ZXvpMBsophbnnvTvha7Q1Isay3CmNFYZOMHTbZML6wKpWCsfKK5WK1a09wvOK/duJj099d6bPOaBRPPlk+uyM1lopaq68Ut2aKvUIzyuyvdiXfoMCDWvYsGHmV7WgaqVUZXvvvXd8pNVGL9EdV+C3I/S9HjTqI2kweuFCf4XpPWgEeqeITkq94pvfp8SX8lSrsTz1fJ1Hb5tq76084q+z//FpDTnB0HsDbiMca5VUmVLsJ+QXY2YqM3CJoe91cRz9nEhJTcX3vv14i/0X8fMqOHktXLSo6tYkvoaeV8Cax8eAt77pfwpdmWOp88gKWwmCx2DoEVl2B8OY+vj6Ozw0G85i+FjKK7VwFSYhFi16m3+XCfudv1DBOz7Fx93YhvGlZNw9/Yr6wgnHn0D7mo4JdMeGfY4LEmyDelVaDouXaekHB2nfd+Y7PtHXoVN8TO7B8af88yNqpRS+lFea2rN7RMZBFeGtWBFXKX5rhEDrPHmZ96q8u4OJUCbezMtbVUHdrZ6aZ2KMZzMfx2u8/KOPf+45GGinwUvuuLjK+ejjD6db9rPOOrPAgUPCrdn2o0Po4xe9dcdVFn28scAsn7rFPBOj/An8hndn/qT6n9/9c9pmdhBRCjarOu+rl3k3xlfieE3kTWTM6oPVINQanzfHAePyyy+PKB9HUVB5uZQX0Od58LUJnMyrB8zoLhL+HBFhdbaaeSbGeMb6OF7j5RIf63fp5T4dOD+cPtPiT5LsrsXKPBNjPGN9HK9J8uOPwwB3Z/7sy4oVaCdrvvCLlpRvHoOBGbn1UazEwnb5ijDlbdLj5bfkc6s1r4EgMYuML8LoURdNwXfm4vd5eslUf6KBJ/7QSREvYeOlUn4BtVRr5yBj+asJVH/soz+7XFntiTGeLPH1Dv5ROaoXvg6SlogysDEJQhx/rp9PgNqeM7UVzJoY41kbS0y8xssB9Dpz25JxJ5gcU3FDAi/zDVrkTqssUzpD5q6pVJWUIRUECbzso4qPH1HqS984w8HnUPplPz7oo3J/ofiaB7+tLOsgPj5Y8Prrr/ItPR/w1Jhpx/nHrTuu6PDYwP82iLrQ+vwtb7/U1dVYWab1289jMB10SHXRavuPOEK+gzVlyuTYLp2FskQxdXz6jBnZ52HylmwRMkZdmJAEXob2j68B4KCEK+yhNIBsiwKZ1m+/YVsw6kLV+DVWXF3jiwNoJ++1/+nJUE7IZe8aJdFFNOaBccaPov9NmTo5PgrrUuAXZ+sWnAjxsVY/k8vXuqPtv5lyhQ9bYhLOG2/8KdtvEst7Eol+toq+6M6CCoIEXlaOP26c3pHTHYwCmX44+x8+1S0qWI6faRVI1E4wlWp4D5KDbF3Bl7RS1EhRqUWlrsoVf3/F+LjiOPvss/mnY1firqJmqdQ3w+gGKo1KLSr9G9h+/AQtBovp5dFsC7IWlGu49Pe+/Tg4n3nmGTKOQltU2Z7VtL/npj1HP6Pblz8BU02P7mClEaFFpR/C/se39/ArmmlAGrE0gNIPHn9gbCf6U8aVfMUQQjSu0qK4kz75ckXlS79JX/G3mvxX8KuJz2oNRxSf5TmAfuAN34LDUvH3AeLjs0KH04cqNVccQIIIq/Ww/UTfHqMxVcwcs88Fvcf40p7PjO1ZAyiNNdCiUhf/w9x+3/46IYa8RpxeC9X3PSGhqtHLnPKKrJcntHAVXUlQKrIRy2oUXtTEb/LftL+m/+GA4Y8LctRJ64quJCgV2ZBlNQovao4/H+z4475Fhpz71JbLZV0NHCbRh6BpjW+NSf9grUBIHk9aSQiuHMOXPR+takTqQ1S0buI3+W/aX6mbUb9o+l+eEy6VDyi+7Pnm+FObLieUbNHJKd482V2KHKCBjL2SkQpnD6rJTiWiqdkJUECMVW2jJo27S2ric7IoX03+0WqkkUm7KmWmaX/cSiQ3nKuYEeHdmhNHq6b/uaQktjn+pLuUD/v4K3cw3EaloRqL/Jev/NI+qXCww8ImWUHkfl1RW1D5Iil/k9KcecvWfOYzK1RtKuomPu04TkI6njf5b9p/0/+rB48WkuyYkhWqBhU1dz1e/cP1v04Y78nbkWyopMWlIoq9Fhgpt1BqbklNPwxAJx+NpF7w4e0kTTE9DlIqtwgh4hbKJr6ltMm/b2lN+5OzZ9P/fKuwzpIdpyBtjj/v9/hLdzD4WLe7c9Bju2Sb19odneg9sZk9Clgsjmh5nQEFhnULcQKshsvsUcDSxJc8xOxyjrJERTWRFuIEWA2X2aOApcm/5KHJPzcGbiNZQ4npIdJCnACr4TJ7FLA07U/y8BG3vzTIn+2FGFsJjZHw81sidWPmCqujyW3d1ZKzSEAnjGwTv8k/xg+a9tf0P2oGdm6oHikqknRYaY4/1bs1l66UKCeM7Ac4/tY8IvNOwdfvzo7qwyfF6KbePFoTaXnC4o1q4jf5b9qfdiVPm/7XqmdQlpAcXWqbT3P84ez9BY6/9oiM90dNq81FacfwiSNX6i4lKgpVKzVAJnAFxyo2F8WSCpUq2KgoVK20pI5Fp3WsYnNRLKlQqYKNikLVSkvqWHRaxyo2F8WSCpUq2KgoVK20pI5Fp3WsYnNRLKlQqYKNikLVSkvqWHRaxyo2F8WSCpUq2KgoVK20pI5Fp3WsYnNRLKlQqYKNikLVSkvqWHRaxyo2F8WSCpUq2KgoVK20pI5Fp3WsYnNRLKlQqYKNikLVSkvqWHRaxyo2F8WSCpUq2KgoVK20pI5Fp3WsYnNRLKlQqYKNikLVSkvqWHRaxyo2F8WSCpUq2KgoVK20pI5Fp3WsYnNRLKlQqYKNioLXNsivYKUGrjLOvKokSdVFWZLKximjtNazCAXSGljVlCWpbJwySpv4LTMgKWqdqKqmLEll45RR2jK6tq/WwKqmLEll45RR2sRvmQFJUetEVTVlSSobp4zSltGb/S8pap2oqqYsSWXjlFH6IeU/jcGYQ40AigX3mMTrsyxVi9Q9AVOFUthWF9MyYyUHVBkoliZ+k39qC037s66gnU57ivQTLSkVaXltWmas5GAqA8XS9L+m/1FbeJ/9L34qRhuVNKm6dT1CpUpzy/QCU2mAjeBaX7ndqbf33uoRKlXqLSgGjePIZ0aa+NkAH6Wryb8cOpv2R30mvgOV95681KKHwZj+Wmib/tccf+ggjOF0vShybSWT5q2tVFIkj8tTe1NqMAWYIGcytRWMycE1JUVqXKUGVYAJciZTW8GYHFxTUqTGVWpQBZggZzK1FYzJwTUlRWpcpQZVgAlyJlNbwZgcXFNSpMZValAFmCBnMrUVjMnBNSVFalylBlWACXImU1vBmBxcU1KkxlVqUAWYIGcytRWMycE1JUVqXKUGVYAJciZTW8GYHFxTUqTGVWpQBZggZzK1FYzJwTUlRWpcpQZVgAlyJlNbwZgcXFNSpMZValAFmCBnMrUVjMnBNSVFalylBlWACXImU1vBmBxcU1KkxlUKaOURmYDVRLxlMm9dE6wqSr6Yo5VdPVfB8Voo2QAipShr4tNew1Xjmi4pl8zRqsm/u6AqpVGylXIGdSZr2l/T/pr+V+o1rYulE4zrWMYaw158Sfsay7yiEq9DpUM7nLHGNPEpAz4bTf7lWMc58YlxLUrYDpUO7XDGGsM4X2ry3+Q/vp61mqeMvtW45lZhHc5YY/4u21/pBFM6gNEmtb5Wlg3PN7+SMROU0VyuMfYiz5sjY0TbMcbA+VUoidmuxtiLPJ88KSfajjGK1bwmNHOpaEAv8rwBjBFtxxgDN9tPqYjfq+CkcN5qkudFnk+ZVE60HWMU2+z/cra4XJM8L/J8yqRyou0Yo9gm/+VscbkmeV7k+ZRJ5UTbMYb6XByCya6M1YVQHSB3row1JjfpwJvu6kQ1SquTWRNfBuhdro01psl/loFWeQFIdUrFMC95Z037a9ofvpfoWoixxvgG49pYScxFtVEqmLzk7f6+2x+dYORbZLZJtqXGmKrM5AhNRERlSirEB//6WCH5yoCp//sdmsAZl1s28cszxdLtZ5P/pv3Rs4i6CTjlfmadypisz/lCjmj6X9P/3IeLY+OwOxh3ZOc2lJpL4nzjiqDa24684SXPIvdr7zG3SlET59FNfMpAnjJLT1msZaF+bSYVZynrifNo5tVxSVEWa9lHVlkyzSUpauISNnK5ianLYi0L9WszIUZRIktRE+fRzOcmpi6LtSzUr82EGEWJLEVNnEczn5uYuizWslC/NhNiFCWyFDVxHs18bmLqsljLQv3aTIhRlMhS1MR5NPO5ianLYi0L9WszIUZRIktRE+fRzOcmpi6LtSzUr82EGEWJLEVNnEczn5uYuizWslC/NhNiFCWyFDVxHs18bmJqL+YTjN5VZK4cSli3djquGJdxeUQxskEbEnQ0ZSlWqYlPaeP0uWsgl0th3drpmvxTMjgfTftr+l9z/PlbO/66Oxg7AQmTHcQg8oJ4KvIiM3enKdMbE924stmVmArEC5r4fCryKbH0Nfm307Tlx5im/XEqXD6s3ZSYCsQLmv7X9D96HOabhDWf/PjjTjCC9jbGG6NenIBZKWONJd3EJJxySgXp16LxeuONUbwTMCtlrLE08SUP/qJAM6ZUEYmmHGr+DGuMop2AWSljjUXtm/gpT8oplUz5tWi83nhjFO8EzEoZayxN/iUPTftL7UQ5pZqhREXj9cYbo2gnYFbKWGPx7U8ekanQ2TFSn11RwVTGMCKtyvLasgojzYkLEt028Wlvye7SzKUdkVLPnAE0d0TTno65VVCeeJVWfDf5b/LftL+8e1lnif1MSVleW1ZhpDn5hzz+pTsYdzDRnIGWUuJVxismoU1lDGMSMMqdoIlvBzNLGjGaIaVep3zSJU51SllTUTtBk/8m//Fkom0GVFuIUq9TPukSpzqlrKmonaBpf/+Q7e9/ANLeJUu6XkKUAAAAAElFTkSuQmCC)"
      ],
      "metadata": {
        "id": "81CVw_FxkMHD"
      },
      "id": "81CVw_FxkMHD"
    },
    {
      "cell_type": "markdown",
      "source": [
        "Por último, lo que hacemos es calcular nuestro kernel con el mapeo cuántico de los vectores y posteriormente el producto interno de todos los vectores por pares. Para obtener la matriz del kernel se utiliza el método .evaluate de esta clase."
      ],
      "metadata": {
        "id": "Wrbsv58Rmr4Y"
      },
      "id": "Wrbsv58Rmr4Y"
    },
    {
      "cell_type": "code",
      "execution_count": null,
      "metadata": {
        "id": "60fa1eed-046d-4548-8317-afdf660c70ec"
      },
      "outputs": [],
      "source": [
        "adhoc_feature_map = ZZFeatureMap(feature_dimension=3, reps=2, entanglement=\"linear\")\n",
        "\n",
        "sampler = Sampler()\n",
        "\n",
        "fidelity = ComputeUncompute(sampler=sampler)\n",
        "\n",
        "adhoc_kernel = FidelityQuantumKernel(fidelity=fidelity, feature_map=adhoc_feature_map)\n",
        "kernelmat = adhoc_kernel.evaluate(train_features)\n",
        "np.save('kernelmat.npy', kernelmat)"
      ],
      "id": "60fa1eed-046d-4548-8317-afdf660c70ec"
    },
    {
      "cell_type": "code",
      "source": [
        "kernelmattest = adhoc_kernel.evaluate(train_features, test_features)\n",
        "np.save('kernelmattest.npy', kernelmattest)"
      ],
      "metadata": {
        "id": "eDuCksaUs3sV"
      },
      "id": "eDuCksaUs3sV",
      "execution_count": null,
      "outputs": []
    },
    {
      "cell_type": "code",
      "source": [
        "#Cargamos matrices de Gram calculadas ya\n",
        "kernelmat = np.load('kernelmat.npy')\n",
        "kernelmattest = np.load('kernelmattest.npy')"
      ],
      "metadata": {
        "id": "qe4cp1d4sqVL"
      },
      "id": "qe4cp1d4sqVL",
      "execution_count": null,
      "outputs": []
    },
    {
      "cell_type": "markdown",
      "source": [
        "Tras construir la matriz del producto interno, definimos un clasificador con un kernel precomputado. Este clasificador lo entrenamos dándole el kernel y los labels."
      ],
      "metadata": {
        "id": "uso70h-rpazV"
      },
      "id": "uso70h-rpazV"
    },
    {
      "cell_type": "code",
      "execution_count": null,
      "metadata": {
        "colab": {
          "base_uri": "https://localhost:8080/",
          "height": 75
        },
        "id": "fab1e892-d9d3-4992-95d9-4e9d7b79fcb1",
        "outputId": "5e0246ad-6a93-4ebe-b97f-7728e22608d5"
      },
      "outputs": [
        {
          "output_type": "execute_result",
          "data": {
            "text/plain": [
              "SVC(kernel='precomputed')"
            ],
            "text/html": [
              "<style>#sk-container-id-5 {color: black;background-color: white;}#sk-container-id-5 pre{padding: 0;}#sk-container-id-5 div.sk-toggleable {background-color: white;}#sk-container-id-5 label.sk-toggleable__label {cursor: pointer;display: block;width: 100%;margin-bottom: 0;padding: 0.3em;box-sizing: border-box;text-align: center;}#sk-container-id-5 label.sk-toggleable__label-arrow:before {content: \"▸\";float: left;margin-right: 0.25em;color: #696969;}#sk-container-id-5 label.sk-toggleable__label-arrow:hover:before {color: black;}#sk-container-id-5 div.sk-estimator:hover label.sk-toggleable__label-arrow:before {color: black;}#sk-container-id-5 div.sk-toggleable__content {max-height: 0;max-width: 0;overflow: hidden;text-align: left;background-color: #f0f8ff;}#sk-container-id-5 div.sk-toggleable__content pre {margin: 0.2em;color: black;border-radius: 0.25em;background-color: #f0f8ff;}#sk-container-id-5 input.sk-toggleable__control:checked~div.sk-toggleable__content {max-height: 200px;max-width: 100%;overflow: auto;}#sk-container-id-5 input.sk-toggleable__control:checked~label.sk-toggleable__label-arrow:before {content: \"▾\";}#sk-container-id-5 div.sk-estimator input.sk-toggleable__control:checked~label.sk-toggleable__label {background-color: #d4ebff;}#sk-container-id-5 div.sk-label input.sk-toggleable__control:checked~label.sk-toggleable__label {background-color: #d4ebff;}#sk-container-id-5 input.sk-hidden--visually {border: 0;clip: rect(1px 1px 1px 1px);clip: rect(1px, 1px, 1px, 1px);height: 1px;margin: -1px;overflow: hidden;padding: 0;position: absolute;width: 1px;}#sk-container-id-5 div.sk-estimator {font-family: monospace;background-color: #f0f8ff;border: 1px dotted black;border-radius: 0.25em;box-sizing: border-box;margin-bottom: 0.5em;}#sk-container-id-5 div.sk-estimator:hover {background-color: #d4ebff;}#sk-container-id-5 div.sk-parallel-item::after {content: \"\";width: 100%;border-bottom: 1px solid gray;flex-grow: 1;}#sk-container-id-5 div.sk-label:hover label.sk-toggleable__label {background-color: #d4ebff;}#sk-container-id-5 div.sk-serial::before {content: \"\";position: absolute;border-left: 1px solid gray;box-sizing: border-box;top: 0;bottom: 0;left: 50%;z-index: 0;}#sk-container-id-5 div.sk-serial {display: flex;flex-direction: column;align-items: center;background-color: white;padding-right: 0.2em;padding-left: 0.2em;position: relative;}#sk-container-id-5 div.sk-item {position: relative;z-index: 1;}#sk-container-id-5 div.sk-parallel {display: flex;align-items: stretch;justify-content: center;background-color: white;position: relative;}#sk-container-id-5 div.sk-item::before, #sk-container-id-5 div.sk-parallel-item::before {content: \"\";position: absolute;border-left: 1px solid gray;box-sizing: border-box;top: 0;bottom: 0;left: 50%;z-index: -1;}#sk-container-id-5 div.sk-parallel-item {display: flex;flex-direction: column;z-index: 1;position: relative;background-color: white;}#sk-container-id-5 div.sk-parallel-item:first-child::after {align-self: flex-end;width: 50%;}#sk-container-id-5 div.sk-parallel-item:last-child::after {align-self: flex-start;width: 50%;}#sk-container-id-5 div.sk-parallel-item:only-child::after {width: 0;}#sk-container-id-5 div.sk-dashed-wrapped {border: 1px dashed gray;margin: 0 0.4em 0.5em 0.4em;box-sizing: border-box;padding-bottom: 0.4em;background-color: white;}#sk-container-id-5 div.sk-label label {font-family: monospace;font-weight: bold;display: inline-block;line-height: 1.2em;}#sk-container-id-5 div.sk-label-container {text-align: center;}#sk-container-id-5 div.sk-container {/* jupyter's `normalize.less` sets `[hidden] { display: none; }` but bootstrap.min.css set `[hidden] { display: none !important; }` so we also need the `!important` here to be able to override the default hidden behavior on the sphinx rendered scikit-learn.org. See: https://github.com/scikit-learn/scikit-learn/issues/21755 */display: inline-block !important;position: relative;}#sk-container-id-5 div.sk-text-repr-fallback {display: none;}</style><div id=\"sk-container-id-5\" class=\"sk-top-container\"><div class=\"sk-text-repr-fallback\"><pre>SVC(kernel=&#x27;precomputed&#x27;)</pre><b>In a Jupyter environment, please rerun this cell to show the HTML representation or trust the notebook. <br />On GitHub, the HTML representation is unable to render, please try loading this page with nbviewer.org.</b></div><div class=\"sk-container\" hidden><div class=\"sk-item\"><div class=\"sk-estimator sk-toggleable\"><input class=\"sk-toggleable__control sk-hidden--visually\" id=\"sk-estimator-id-5\" type=\"checkbox\" checked><label for=\"sk-estimator-id-5\" class=\"sk-toggleable__label sk-toggleable__label-arrow\">SVC</label><div class=\"sk-toggleable__content\"><pre>SVC(kernel=&#x27;precomputed&#x27;)</pre></div></div></div></div></div>"
            ]
          },
          "metadata": {},
          "execution_count": 144
        }
      ],
      "source": [
        "qsvc = SVC(kernel='precomputed')\n",
        "qsvc.fit(kernelmat, train_labels)"
      ],
      "id": "fab1e892-d9d3-4992-95d9-4e9d7b79fcb1"
    },
    {
      "cell_type": "markdown",
      "source": [
        "Posteriormente comprobamos la precisión con los datos de test. Para ello realizamos la matriz de Gram del producto interno de los datos de train por los de test por pares. Hacemos uso del método .score para pasarle dicha matriz y los labels recibiendo así el accurracy con los datos de test."
      ],
      "metadata": {
        "id": "ZUZZmhltppHj"
      },
      "id": "ZUZZmhltppHj"
    },
    {
      "cell_type": "code",
      "source": [
        "#Matriz calculada y guardada en celdas 22 y 23 con el fin de evitar realizar el cálculo al ejecutar el código\n",
        "score = qsvc.score(np.transpose(kernelmattest), test_labels)\n",
        "print(f\"Test score: {score}\")"
      ],
      "metadata": {
        "colab": {
          "base_uri": "https://localhost:8080/"
        },
        "id": "gpTH5IdEo3kQ",
        "outputId": "a303a26e-d7d1-4e68-8dde-c143a6d99933"
      },
      "id": "gpTH5IdEo3kQ",
      "execution_count": null,
      "outputs": [
        {
          "output_type": "stream",
          "name": "stdout",
          "text": [
            "Test score: 0.51\n"
          ]
        }
      ]
    },
    {
      "cell_type": "markdown",
      "source": [
        "Podemos observar que el resultado del QSVM es bastante deficiente ya que podríamos obtener el mismo resultado haciendo aleatoriamente la elección. Este mal resultado se puede deber a la falta de registros o a la eliminación de atributos y por consiguiente información."
      ],
      "metadata": {
        "id": "LOHeMUFBqtc8"
      },
      "id": "LOHeMUFBqtc8"
    },
    {
      "cell_type": "markdown",
      "source": [
        "##Matrices de Confusión\n",
        "Primero veamos la matriz de confusión del SVM sin normalizar. Se puede observar que lo que mejor clasifica es aquellos que no consumen cannabis. Es decir, este modelo es bueno para saber si alguien no consume debido a sus pocos falsos positivos. No obstante, no es bueno para predecir gente que consume pues es muy poco preciso."
      ],
      "metadata": {
        "id": "p9y3dHi_dIZx"
      },
      "id": "p9y3dHi_dIZx"
    },
    {
      "cell_type": "code",
      "source": [
        "y_pred = svm1.predict(test_featuresx)\n",
        "\n",
        "disp = metrics.ConfusionMatrixDisplay.from_predictions(test_labels, y_pred)\n",
        "disp.figure_.suptitle(\"Matriz de Confusión SVM\")\n",
        "plt.show()"
      ],
      "metadata": {
        "colab": {
          "base_uri": "https://localhost:8080/",
          "height": 497
        },
        "id": "rXoeMkG9qtor",
        "outputId": "5d89f2e4-fb59-4dc5-84fc-dd9f51189baa"
      },
      "id": "rXoeMkG9qtor",
      "execution_count": null,
      "outputs": [
        {
          "output_type": "display_data",
          "data": {
            "text/plain": [
              "<Figure size 640x480 with 2 Axes>"
            ],
            "image/png": "[encoded data removed]"
          },
          "metadata": {}
        }
      ]
    },
    {
      "cell_type": "markdown",
      "source": [
        "Por otra parte, el QSVM, como es de esperar, es malo para todo puesto que tiene muy baja precisión. Podríamos decir que el modelo QSVM es tirar una moneda y ver el resultado."
      ],
      "metadata": {
        "id": "b0Mgr9HRd9Sn"
      },
      "id": "b0Mgr9HRd9Sn"
    },
    {
      "cell_type": "code",
      "source": [
        "y_predq = qsvc.predict(np.transpose(kernelmattest))\n",
        "\n",
        "disp = metrics.ConfusionMatrixDisplay.from_predictions(test_labels, y_predq)\n",
        "disp.figure_.suptitle(\"Matriz de Confusión QSVM\")\n",
        "plt.show()"
      ],
      "metadata": {
        "colab": {
          "base_uri": "https://localhost:8080/",
          "height": 497
        },
        "id": "jux0vbKdrMGR",
        "outputId": "641fd585-6e44-441f-b88b-883633635987"
      },
      "id": "jux0vbKdrMGR",
      "execution_count": null,
      "outputs": [
        {
          "output_type": "display_data",
          "data": {
            "text/plain": [
              "<Figure size 640x480 with 2 Axes>"
            ],
            "image/png": "[encoded data removed]"
          },
          "metadata": {}
        }
      ]
    },
    {
      "cell_type": "markdown",
      "source": [
        "Por otra parte, cabe mencionar la matriz de confusión enfrentada de ambos modelos. Podemos observar que casi todos aquellos registros que el SVM clásico clasifica como 1 también son clasificados como 1 por el QSVM. A parte de eso, no hay nada más interesante puesto que, como se ha comprobado, la precisión del QSVM es muy baja."
      ],
      "metadata": {
        "id": "R5O7BBgTeRvo"
      },
      "id": "R5O7BBgTeRvo"
    },
    {
      "cell_type": "code",
      "source": [
        "disp = metrics.ConfusionMatrixDisplay.from_predictions(y_pred, y_predq)\n",
        "disp.figure_.suptitle(\"Matriz de Confusión SVM vs QSVM\")\n",
        "plt.show()"
      ],
      "metadata": {
        "colab": {
          "base_uri": "https://localhost:8080/",
          "height": 497
        },
        "id": "6c-DKr34rZha",
        "outputId": "27d3901c-8ea5-4769-8448-934219adf7fa"
      },
      "id": "6c-DKr34rZha",
      "execution_count": null,
      "outputs": [
        {
          "output_type": "display_data",
          "data": {
            "text/plain": [
              "<Figure size 640x480 with 2 Axes>"
            ],
            "image/png": "[encoded data removed]"
          },
          "metadata": {}
        }
      ]
    },
    {
      "cell_type": "markdown",
      "source": [
        "##Extra\n",
        "Cabe mencionar que hay una librería dentro de Qiskit que nos permite agilizar todo el proceso de generación de kernel cuántico. Esta funciona como la librería svm de sklearn. A continuación un ejemplo de su uso:"
      ],
      "metadata": {
        "id": "RFzIpoywes-n"
      },
      "id": "RFzIpoywes-n"
    },
    {
      "cell_type": "code",
      "source": [
        "from qiskit_machine_learning.algorithms import QSVC\n",
        "\n",
        "qsvc = QSVC(quantum_kernel=adhoc_kernel)\n",
        "\n",
        "qsvc.fit(train_features, train_labels)\n",
        "\n",
        "qsvc_score = qsvc.score(test_features, test_labels)\n",
        "\n",
        "print(f\"QSVC classification test score: {qsvc_score}\")"
      ],
      "metadata": {
        "colab": {
          "base_uri": "https://localhost:8080/"
        },
        "id": "3bUFEeSvO-sj",
        "outputId": "933c6ac1-43b3-4b87-d260-04ec50053470"
      },
      "id": "3bUFEeSvO-sj",
      "execution_count": null,
      "outputs": [
        {
          "output_type": "stream",
          "name": "stdout",
          "text": [
            "QSVC classification test score: 0.51\n"
          ]
        }
      ]
    },
    {
      "cell_type": "markdown",
      "source": [
        "Se observa que la precisión es la misma que la que se obtuvo antes con el modelo QSVM con kernel precomputado"
      ],
      "metadata": {
        "id": "HCOoqCErfAny"
      },
      "id": "HCOoqCErfAny"
    }
  ],
  "metadata": {
    "accelerator": "TPU",
    "colab": {
      "provenance": []
    },
    "kernelspec": {
      "display_name": "Python 3",
      "name": "python3"
    },
    "language_info": {
      "codemirror_mode": {
        "name": "ipython",
        "version": 3
      },
      "file_extension": ".py",
      "mimetype": "text/x-python",
      "name": "python",
      "nbconvert_exporter": "python",
      "pygments_lexer": "ipython3",
      "version": "3.10.8"
    }
  },
  "nbformat": 4,
  "nbformat_minor": 5
}